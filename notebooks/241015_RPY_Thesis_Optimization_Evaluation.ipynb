{
 "cells": [
  {
   "cell_type": "markdown",
   "id": "a261346b-9d0e-4de0-b2d2-c476667d8825",
   "metadata": {},
   "source": [
    "# Import"
   ]
  },
  {
   "cell_type": "code",
   "execution_count": 1,
   "id": "a7e4639d-975b-4b6d-8161-de32096240dd",
   "metadata": {
    "tags": []
   },
   "outputs": [],
   "source": [
    "import os\n",
    "import sys\n",
    "\n",
    "import time\n",
    "import math\n",
    "import json\n",
    "import glob\n",
    "from datetime import datetime\n",
    "\n",
    "import numpy as np\n",
    "import pandas as pd\n",
    "import scipy\n",
    "from scipy.optimize import minimize, least_squares\n",
    "import matplotlib.pyplot as plt\n",
    "\n",
    "import cv2\n",
    "import torch\n",
    "from torch.nn.functional import mse_loss\n",
    "from pytorch_kinematics.transforms.rotation_conversions import matrix_to_axis_angle, axis_angle_to_matrix\n",
    "\n",
    "import pytorch_kinematics as pk\n",
    "from pytransform3d.urdf import UrdfTransformManager\n",
    "from urdf_parser_py.urdf import URDF"
   ]
  },
  {
   "cell_type": "markdown",
   "id": "c7cb7ff8-3b86-4f83-a8ed-ecd8df9e364a",
   "metadata": {},
   "source": [
    "# Helper Functions"
   ]
  },
  {
   "cell_type": "code",
   "execution_count": 2,
   "id": "0a351030-2450-41bb-a655-2588a3ba4a62",
   "metadata": {
    "tags": []
   },
   "outputs": [],
   "source": [
    "def load_json(filename: str):\n",
    "    # Construct the absolute path by joining the current directory and relative path\n",
    "    absolute_path = os.path.join(os.getcwd(), '..', filename)\n",
    "    # Load the JSON data\n",
    "    with open(absolute_path, 'r') as file:\n",
    "        json_data = json.load(file)    \n",
    "    return json_data\n",
    "\n",
    "def xml_to_str(robot):\n",
    "    # To XML string with filtering\n",
    "    temp_str = robot.to_xml_string()\n",
    "    words = temp_str.split()\n",
    "    words[5] = '>'\n",
    "    urdf_str = ' '.join(words)\n",
    "    return urdf_str\n",
    "\n",
    "def active_matrix_from_angle(basis, angle):\n",
    "    c = torch.cos(angle)  # Shape: Nx1\n",
    "    s = torch.sin(angle)  # Shape: Nx1\n",
    "    \n",
    "    if basis == 0:\n",
    "        R = torch.zeros((angle.size(0), 3, 3), dtype=angle.dtype, device=angle.device)\n",
    "        R[:, 0, 0] = 1.0\n",
    "        R[:, 1, 1] = c.squeeze()  # Shape: N\n",
    "        R[:, 1, 2] = -s.squeeze()  # Shape: N\n",
    "        R[:, 2, 1] = s.squeeze()    # Shape: N\n",
    "        R[:, 2, 2] = c.squeeze()    # Shape: N\n",
    "    elif basis == 1:\n",
    "        R = torch.zeros((angle.size(0), 3, 3), dtype=angle.dtype, device=angle.device)\n",
    "        R[:, 0, 0] = c.squeeze()    # Shape: N\n",
    "        R[:, 0, 2] = s.squeeze()    # Shape: N\n",
    "        R[:, 1, 1] = 1.0\n",
    "        R[:, 2, 0] = -s.squeeze()    # Shape: N\n",
    "        R[:, 2, 2] = c.squeeze()    # Shape: N\n",
    "    elif basis == 2:\n",
    "        R = torch.zeros((angle.size(0), 3, 3), dtype=angle.dtype, device=angle.device)\n",
    "        R[:, 0, 0] = c.squeeze()    # Shape: N\n",
    "        R[:, 0, 1] = -s.squeeze()   # Shape: N\n",
    "        R[:, 1, 0] = s.squeeze()    # Shape: N\n",
    "        R[:, 1, 1] = c.squeeze()    # Shape: N\n",
    "        R[:, 2, 2] = 1.0\n",
    "    else:\n",
    "        raise ValueError(\"Basis must be in [0, 1, 2]\")\n",
    "    \n",
    "    return R\n",
    "\n",
    "def active_matrix_from_extrinsic_euler_xyz(alpha, beta, gamma):\n",
    "    # Calculate the rotation matrices\n",
    "    R_alpha = active_matrix_from_angle(0, alpha)  # Rotation around x-axis\n",
    "    R_beta = active_matrix_from_angle(1, beta)    # Rotation around y-axis\n",
    "    R_gamma = active_matrix_from_angle(2, gamma)   # Rotation around z-axis\n",
    "\n",
    "    # Combine the matrices using the @ operator\n",
    "    R = R_gamma @ (R_beta @ R_alpha)\n",
    "    return R\n",
    "\n",
    "def get_homogeneous_matrix(roll,pitch,yaw,x,y,z):\n",
    "    rot_mat = active_matrix_from_extrinsic_euler_xyz(roll,pitch,yaw)\n",
    "    H = torch.zeros((rot_mat.size(0), 4, 4), dtype=dtype, device=device)\n",
    "    H[:, :3, :3] = rot_mat\n",
    "    H[:, 0, 3] = x.squeeze()\n",
    "    H[:, 1, 3] = y.squeeze()\n",
    "    H[:, 2, 3] = z.squeeze()\n",
    "    H[:, 3, 3] = 1.0\n",
    "    return H\n",
    "\n",
    "def get_pred_rvec_tvec(V, \n",
    "                       cmd_lnt, cmd_lnp, cmd_unt, cmd_et, cmd_lep, \n",
    "                       l_rvec, l_tvec, T_home):\n",
    "    \n",
    "    # Convert to Tensor\n",
    "    cmd_lnt = torch.Tensor(cmd_lnt).reshape(-1,1).to(dtype=dtype, device=device)\n",
    "    cmd_lnp = torch.Tensor(cmd_lnp).reshape(-1,1).to(dtype=dtype, device=device)\n",
    "    cmd_unt = torch.Tensor(cmd_unt).reshape(-1,1).to(dtype=dtype, device=device)\n",
    "    cmd_et = torch.Tensor(cmd_et).reshape(-1,1).to(dtype=dtype, device=device)\n",
    "    cmd_lep = torch.Tensor(cmd_lep).reshape(-1,1).to(dtype=dtype, device=device)\n",
    "\n",
    "    l_rvec_t = torch.Tensor(l_rvec).to(dtype=dtype, device=device)\n",
    "    l_tvec_t = torch.Tensor(l_tvec).to(dtype=dtype, device=device)\n",
    "\n",
    "    ### Joint-to-Motor Polynomial Models\n",
    "    x = torch.Tensor(cmd_lnt).reshape(-1,1).to(dtype=dtype, device=device)\n",
    "    lnt_roll = (torch.cat((torch.ones(x.shape[0], 1), x, x.pow(2), x.pow(3)), dim=1) @ torch.Tensor([[V[0]],[V[1]],[V[2]],[V[3]]]).to(dtype=dtype, device=device))\n",
    "    lnt_pitch = (torch.cat((torch.ones(x.shape[0], 1), x, x.pow(2), x.pow(3)), dim=1) @ torch.Tensor([[V[4]],[V[5]],[V[6]],[V[7]]]).to(dtype=dtype, device=device))\n",
    "    lnt_yaw = (torch.cat((torch.ones(x.shape[0], 1), x, x.pow(2), x.pow(3)), dim=1) @ torch.Tensor([[V[8]],[V[9]],[V[10]],[V[11]]]).to(dtype=dtype, device=device))\n",
    "    lnt_x = (torch.cat((torch.ones(x.shape[0], 1), x, x.pow(2), x.pow(3)), dim=1) @ torch.Tensor([[V[12]],[V[13]],[V[14]],[V[15]]]).to(dtype=dtype, device=device))\n",
    "    lnt_y = (torch.cat((torch.ones(x.shape[0], 1), x, x.pow(2), x.pow(3)), dim=1) @ torch.Tensor([[V[16]],[V[17]],[V[18]],[V[19]]]).to(dtype=dtype, device=device))\n",
    "    lnt_z = (torch.cat((torch.ones(x.shape[0], 1), x, x.pow(2), x.pow(3)), dim=1) @ torch.Tensor([[V[20]],[V[21]],[V[22]],[V[23]]]).to(dtype=dtype, device=device))\n",
    "\n",
    "    x = torch.Tensor(cmd_lnp).reshape(-1,1).to(dtype=dtype, device=device)\n",
    "    lnp_roll = (torch.cat((torch.ones(x.shape[0], 1), x, x.pow(2), x.pow(3)), dim=1) @ torch.Tensor([[V[24]],[V[25]],[V[26]],[V[27]]]).to(dtype=dtype, device=device))\n",
    "    lnp_pitch = (torch.cat((torch.ones(x.shape[0], 1), x, x.pow(2), x.pow(3)), dim=1) @ torch.Tensor([[V[28]],[V[29]],[V[30]],[V[31]]]).to(dtype=dtype, device=device))\n",
    "    lnp_yaw = (torch.cat((torch.ones(x.shape[0], 1), x, x.pow(2), x.pow(3)), dim=1) @ torch.Tensor([[V[32]],[V[33]],[V[34]],[V[35]]]).to(dtype=dtype, device=device))\n",
    "    lnp_x = (torch.cat((torch.ones(x.shape[0], 1), x, x.pow(2), x.pow(3)), dim=1) @ torch.Tensor([[V[36]],[V[37]],[V[38]],[V[39]]]).to(dtype=dtype, device=device))\n",
    "    lnp_y = (torch.cat((torch.ones(x.shape[0], 1), x, x.pow(2), x.pow(3)), dim=1) @ torch.Tensor([[V[40]],[V[41]],[V[42]],[V[43]]]).to(dtype=dtype, device=device))\n",
    "    lnp_z = (torch.cat((torch.ones(x.shape[0], 1), x, x.pow(2), x.pow(3)), dim=1) @ torch.Tensor([[V[44]],[V[45]],[V[46]],[V[47]]]).to(dtype=dtype, device=device))\n",
    "\n",
    "    x = torch.Tensor(cmd_unt).reshape(-1,1).to(dtype=dtype, device=device)\n",
    "    unt_roll = (torch.cat((torch.ones(x.shape[0], 1), x, x.pow(2), x.pow(3)), dim=1) @ torch.Tensor([[V[48]],[V[49]],[V[50]],[V[51]]]).to(dtype=dtype, device=device))\n",
    "    unt_pitch = (torch.cat((torch.ones(x.shape[0], 1), x, x.pow(2), x.pow(3)), dim=1) @ torch.Tensor([[V[52]],[V[53]],[V[54]],[V[55]]]).to(dtype=dtype, device=device))\n",
    "    unt_yaw = (torch.cat((torch.ones(x.shape[0], 1), x, x.pow(2), x.pow(3)), dim=1) @ torch.Tensor([[V[56]],[V[57]],[V[58]],[V[59]]]).to(dtype=dtype, device=device))\n",
    "    unt_x = (torch.cat((torch.ones(x.shape[0], 1), x, x.pow(2), x.pow(3)), dim=1) @ torch.Tensor([[V[60]],[V[61]],[V[62]],[V[63]]]).to(dtype=dtype, device=device))\n",
    "    unt_y = (torch.cat((torch.ones(x.shape[0], 1), x, x.pow(2), x.pow(3)), dim=1) @ torch.Tensor([[V[64]],[V[65]],[V[66]],[V[67]]]).to(dtype=dtype, device=device))\n",
    "    unt_z = (torch.cat((torch.ones(x.shape[0], 1), x, x.pow(2), x.pow(3)), dim=1) @ torch.Tensor([[V[68]],[V[69]],[V[70]],[V[71]]]).to(dtype=dtype, device=device))\n",
    "\n",
    "    x = torch.Tensor(cmd_et).reshape(-1,1).to(dtype=dtype, device=device)\n",
    "    et_roll = (torch.cat((torch.ones(x.shape[0], 1), x, x.pow(2), x.pow(3)), dim=1) @ torch.Tensor([[V[72]],[V[73]],[V[74]],[V[75]]]).to(dtype=dtype, device=device))\n",
    "    et_pitch = (torch.cat((torch.ones(x.shape[0], 1), x, x.pow(2), x.pow(3)), dim=1) @ torch.Tensor([[V[76]],[V[77]],[V[78]],[V[79]]]).to(dtype=dtype, device=device))\n",
    "    et_yaw = (torch.cat((torch.ones(x.shape[0], 1), x, x.pow(2), x.pow(3)), dim=1) @ torch.Tensor([[V[80]],[V[81]],[V[82]],[V[83]]]).to(dtype=dtype, device=device))\n",
    "    et_x = (torch.cat((torch.ones(x.shape[0], 1), x, x.pow(2), x.pow(3)), dim=1) @ torch.Tensor([[V[84]],[V[85]],[V[86]],[V[87]]]).to(dtype=dtype, device=device))\n",
    "    et_y = (torch.cat((torch.ones(x.shape[0], 1), x, x.pow(2), x.pow(3)), dim=1) @ torch.Tensor([[V[88]],[V[89]],[V[90]],[V[91]]]).to(dtype=dtype, device=device))\n",
    "    et_z = (torch.cat((torch.ones(x.shape[0], 1), x, x.pow(2), x.pow(3)), dim=1) @ torch.Tensor([[V[92]],[V[93]],[V[94]],[V[95]]]).to(dtype=dtype, device=device))\n",
    "\n",
    "    x = torch.Tensor(cmd_lep).reshape(-1,1).to(dtype=dtype, device=device)\n",
    "    lep_roll = (torch.cat((torch.ones(x.shape[0], 1), x, x.pow(2), x.pow(3)), dim=1) @ torch.Tensor([[V[96]],[V[97]],[V[98]],[V[99]]]).to(dtype=dtype, device=device))\n",
    "    lep_pitch = (torch.cat((torch.ones(x.shape[0], 1), x, x.pow(2), x.pow(3)), dim=1) @ torch.Tensor([[V[100]],[V[101]],[V[102]],[V[103]]]).to(dtype=dtype, device=device))\n",
    "    lep_yaw = (torch.cat((torch.ones(x.shape[0], 1), x, x.pow(2), x.pow(3)), dim=1) @ torch.Tensor([[V[104]],[V[105]],[V[106]],[V[107]]]).to(dtype=dtype, device=device))\n",
    "    lep_x = (torch.cat((torch.ones(x.shape[0], 1), x, x.pow(2), x.pow(3)), dim=1) @ torch.Tensor([[V[108]],[V[109]],[V[110]],[V[111]]]).to(dtype=dtype, device=device))\n",
    "    lep_y = (torch.cat((torch.ones(x.shape[0], 1), x, x.pow(2), x.pow(3)), dim=1) @ torch.Tensor([[V[112]],[V[113]],[V[114]],[V[115]]]).to(dtype=dtype, device=device))\n",
    "    lep_z = (torch.cat((torch.ones(x.shape[0], 1), x, x.pow(2), x.pow(3)), dim=1) @ torch.Tensor([[V[116]],[V[117]],[V[118]],[V[119]]]).to(dtype=dtype, device=device))\n",
    "    \n",
    "    # Home Homogeneous\n",
    "    T_temp = torch.Tensor(T_home).to(dtype=dtype, device=device)\n",
    "    T_0 = torch.stack([T_temp] * cmd_lnt.size(0))\n",
    "\n",
    "    # Homogeneous Matrices\n",
    "    T_lnt = get_homogeneous_matrix(lnt_roll,lnt_pitch,lnt_yaw,lnt_x,lnt_y,lnt_z)\n",
    "    T_lnp = get_homogeneous_matrix(lnp_roll,lnp_pitch,lnp_yaw,lnp_x,lnp_y,lnp_z)\n",
    "    T_unt = get_homogeneous_matrix(unt_roll,unt_pitch,unt_yaw,unt_x,unt_y,unt_z)\n",
    "    T_et = get_homogeneous_matrix(et_roll,et_pitch,et_yaw,et_x,et_y,et_z)\n",
    "    T_lep = get_homogeneous_matrix(lep_roll,lep_pitch,lep_yaw,lep_x,lep_y,lep_z)\n",
    "\n",
    "    # Final Matrix\n",
    "    T_final = T_0 @ T_lnt @ T_lnp @ T_unt @ T_et @ T_lep\n",
    "    T_final\n",
    "\n",
    "    # Predicted\n",
    "    pred_l_rvec = matrix_to_axis_angle(T_final[:,:3,:3])\n",
    "    pred_l_tvec = T_final[:,:3,3]\n",
    "    \n",
    "    # Return Output\n",
    "    return pred_l_rvec, pred_l_tvec\n",
    "\n",
    "\n",
    "def get_total_loss(data_dir, data_csv, fit_result):\n",
    "    # Initialization\n",
    "    data_fn = '241003_075m_grace_dataset.csv'\n",
    "    data_dir = 'thesis'\n",
    "    files_path = os.path.join(os.getcwd(),\"..\",'data', data_dir, data_fn)\n",
    "    df = pd.read_csv(files_path)\n",
    "\n",
    "    # Filtered df\n",
    "    home_df = df[(df['cmd_theta_lower_neck_tilt']==0) \n",
    "                 & (df['cmd_theta_lower_neck_pan']==0) \n",
    "                 & (df['cmd_theta_upper_neck_tilt']==0)\n",
    "                 & (df['cmd_theta_left_eye_pan']==0)\n",
    "                 & (df['cmd_theta_right_eye_pan']==0)\n",
    "                 & (df['cmd_theta_eyes_tilt']==0)]\n",
    "    home_df = home_df.reset_index(drop=True)\n",
    "\n",
    "    # Rvec and Tvec\n",
    "    home_l_rvec = np.array([home_df['l_rvec_0'],home_df['l_rvec_1'],home_df['l_rvec_2']])\n",
    "    home_l_tvec = np.array([home_df['l_tvec_0'],home_df['l_tvec_1'],home_df['l_tvec_2']])\n",
    "    temp_rmat,_ = cv2.Rodrigues(home_l_rvec)\n",
    "    T_home = np.eye(4)\n",
    "    T_home[:3,:3] = temp_rmat.squeeze()\n",
    "    T_home[:3,3] = home_l_tvec.flatten() \n",
    "    T_home_inv = np.linalg.inv(T_home)\n",
    "    \n",
    "    # Load Dataset CSV\n",
    "    csv_file = os.path.join(os.getcwd(),\"..\",\"data\", data_dir, data_csv)\n",
    "    temp_df = pd.read_csv(csv_file)\n",
    "    \n",
    "    # Convert DF Degrees Column to Radians\n",
    "    data_df = temp_df.copy()\n",
    "    data_df['cmd_theta_lower_neck_pan'] = np.radians(data_df['cmd_theta_lower_neck_pan'].values)\n",
    "    data_df['cmd_theta_lower_neck_tilt'] = np.radians(data_df['cmd_theta_lower_neck_tilt'].values)\n",
    "    data_df['cmd_theta_upper_neck_tilt'] = np.radians(data_df['cmd_theta_upper_neck_tilt'].values)\n",
    "    data_df['cmd_theta_left_eye_pan'] = np.radians(data_df['cmd_theta_left_eye_pan'].values)\n",
    "    data_df['cmd_theta_right_eye_pan'] = np.radians(data_df['cmd_theta_right_eye_pan'].values)\n",
    "    data_df['cmd_theta_eyes_tilt'] = np.radians(data_df['cmd_theta_eyes_tilt'].values)\n",
    "    \n",
    "    # Load CSV Optimization Results\n",
    "    csv_path = os.path.join(os.getcwd(),\"..\",\"results\",data_dir,fit_result)\n",
    "    csv_df = pd.read_csv(csv_path, index_col=0)\n",
    "    var_dict = dict(zip(csv_df.index,csv_df['learned'].values))\n",
    "    \n",
    "    # Decision Variables \n",
    "    var_list = list(var_dict.values())\n",
    "\n",
    "    # Variable Names\n",
    "    var_names_list = list(var_dict.keys())\n",
    "\n",
    "    # Mapping\n",
    "    idx2var = dict(zip(list(range(len(var_names_list))),var_names_list))\n",
    "    var2idx = dict(zip(var_names_list, list(range(len(var_names_list)))))\n",
    "    \n",
    "    # Input\n",
    "    V = np.array(var_list)\n",
    "    z_c_r = data_df['z_c_r'].to_numpy()\n",
    "    cmd_lnt = data_df['cmd_theta_lower_neck_tilt'].to_numpy()\n",
    "    cmd_lnp = data_df['cmd_theta_lower_neck_pan'].to_numpy()\n",
    "    cmd_unt = data_df['cmd_theta_upper_neck_tilt'].to_numpy()\n",
    "    cmd_et = data_df['cmd_theta_eyes_tilt'].to_numpy()\n",
    "    cmd_lep = data_df['cmd_theta_left_eye_pan'].to_numpy()\n",
    "    cmd_rep = data_df['cmd_theta_right_eye_pan'].to_numpy()\n",
    "\n",
    "    l_rvec = np.concatenate([data_df['l_rvec_0'].values.reshape(-1,1),\n",
    "                             data_df['l_rvec_1'].values.reshape(-1,1),\n",
    "                             data_df['l_rvec_2'].values.reshape(-1,1)], axis=1)\n",
    "    l_tvec = np.concatenate([data_df['l_tvec_0'].values.reshape(-1,1),\n",
    "                             data_df['l_tvec_1'].values.reshape(-1,1),\n",
    "                             data_df['l_tvec_2'].values.reshape(-1,1)], axis=1)\n",
    "    r_rvec = np.concatenate([data_df['r_rvec_0'].values.reshape(-1,1),\n",
    "                             data_df['r_rvec_1'].values.reshape(-1,1),\n",
    "                             data_df['r_rvec_2'].values.reshape(-1,1)], axis=1)\n",
    "    r_tvec = np.concatenate([data_df['r_tvec_0'].values.reshape(-1,1),\n",
    "                             data_df['r_tvec_1'].values.reshape(-1,1),\n",
    "                             data_df['r_tvec_2'].values.reshape(-1,1)], axis=1)\n",
    "    \n",
    "    # Forward Kinematics\n",
    "    out_l_rvec, out_l_tvec = get_pred_rvec_tvec(V, \n",
    "                                               cmd_lnt, cmd_lnp, cmd_unt, cmd_et, cmd_lep, \n",
    "                                               l_rvec, l_tvec, T_home)\n",
    "    # True Value\n",
    "    out_l_rvec = out_l_rvec.to(dtype=dtype, device=device)\n",
    "    out_l_tvec = out_l_tvec.to(dtype=dtype, device=device)\n",
    "    \n",
    "    # True Value\n",
    "    l_rvec_t = torch.Tensor(l_rvec).to(dtype=dtype, device=device)\n",
    "    l_tvec_t = torch.Tensor(l_tvec).to(dtype=dtype, device=device)\n",
    "    \n",
    "    # Results\n",
    "    results_idx = ['r(rad)','p(rad)', 'y(rad)', 'x(cm)','y(cm)', 'z(cm)',]\n",
    "    results_df = pd.DataFrame({'Left Eye RMSE': [\n",
    "                                math.sqrt(mse_loss(out_l_rvec[:,0], l_rvec_t[:,0]).cpu().item()),\n",
    "                                math.sqrt(mse_loss(out_l_rvec[:,1], l_rvec_t[:,1]).cpu().item()),\n",
    "                                math.sqrt(mse_loss(out_l_rvec[:,2], l_rvec_t[:,2]).cpu().item()),\n",
    "                                math.sqrt(mse_loss(100*out_l_tvec[:,0], 100*l_tvec_t[:,0]).cpu().item()),\n",
    "                                math.sqrt(mse_loss(100*out_l_tvec[:,1], 100*l_tvec_t[:,1]).cpu().item()),\n",
    "                                math.sqrt(mse_loss(100*out_l_tvec[:,2], 100*l_tvec_t[:,2]).cpu().item()),\n",
    "                                ],\n",
    "                              'Left Eye MSE': [\n",
    "                                mse_loss(out_l_rvec[:,0], l_rvec_t[:,0]).cpu().item(),\n",
    "                                mse_loss(out_l_rvec[:,1], l_rvec_t[:,1]).cpu().item(),\n",
    "                                mse_loss(out_l_rvec[:,2], l_rvec_t[:,2]).cpu().item(),\n",
    "                                mse_loss(out_l_tvec[:,0], l_tvec_t[:,0]).cpu().item(),\n",
    "                                mse_loss(out_l_tvec[:,1], l_tvec_t[:,1]).cpu().item(),\n",
    "                                mse_loss(out_l_tvec[:,2], l_tvec_t[:,2]).cpu().item(),\n",
    "                                ],\n",
    "                              })\n",
    "    results_df.index = results_idx\n",
    "    \n",
    "    return results_df"
   ]
  },
  {
   "cell_type": "markdown",
   "id": "f734e82f-a8d7-46b8-8b73-4b6d3b0bf389",
   "metadata": {},
   "source": [
    "# Initialization"
   ]
  },
  {
   "cell_type": "code",
   "execution_count": 3,
   "id": "e1c76287-0236-4d9f-b7f9-ba2ee7011a0e",
   "metadata": {
    "tags": []
   },
   "outputs": [],
   "source": [
    "# Explicitly telling to use GPU\n",
    "torch.set_default_device('cuda')\n",
    "torch.set_default_dtype(d=torch.float64)\n",
    "device = \"cuda\" if torch.cuda.is_available() else \"cpu\"\n",
    "dtype = torch.float64"
   ]
  },
  {
   "cell_type": "markdown",
   "id": "7b08794e-7fb0-40b8-8f80-d796a1460895",
   "metadata": {},
   "source": [
    "# Single Data"
   ]
  },
  {
   "cell_type": "code",
   "execution_count": 14,
   "id": "f63709ac-fb82-4836-8603-ad4a2b7bf748",
   "metadata": {
    "tags": []
   },
   "outputs": [
    {
     "data": {
      "text/html": [
       "<div>\n",
       "<style scoped>\n",
       "    .dataframe tbody tr th:only-of-type {\n",
       "        vertical-align: middle;\n",
       "    }\n",
       "\n",
       "    .dataframe tbody tr th {\n",
       "        vertical-align: top;\n",
       "    }\n",
       "\n",
       "    .dataframe thead th {\n",
       "        text-align: right;\n",
       "    }\n",
       "</style>\n",
       "<table border=\"1\" class=\"dataframe\">\n",
       "  <thead>\n",
       "    <tr style=\"text-align: right;\">\n",
       "      <th></th>\n",
       "      <th>Left Eye RMSE</th>\n",
       "      <th>Left Eye MSE</th>\n",
       "    </tr>\n",
       "  </thead>\n",
       "  <tbody>\n",
       "    <tr>\n",
       "      <th>r(rad)</th>\n",
       "      <td>0.026226</td>\n",
       "      <td>0.000688</td>\n",
       "    </tr>\n",
       "    <tr>\n",
       "      <th>p(rad)</th>\n",
       "      <td>0.021186</td>\n",
       "      <td>0.000449</td>\n",
       "    </tr>\n",
       "    <tr>\n",
       "      <th>y(rad)</th>\n",
       "      <td>0.079967</td>\n",
       "      <td>0.006395</td>\n",
       "    </tr>\n",
       "    <tr>\n",
       "      <th>x(cm)</th>\n",
       "      <td>1.262815</td>\n",
       "      <td>0.000159</td>\n",
       "    </tr>\n",
       "    <tr>\n",
       "      <th>y(cm)</th>\n",
       "      <td>0.488883</td>\n",
       "      <td>0.000024</td>\n",
       "    </tr>\n",
       "    <tr>\n",
       "      <th>z(cm)</th>\n",
       "      <td>1.077992</td>\n",
       "      <td>0.000116</td>\n",
       "    </tr>\n",
       "  </tbody>\n",
       "</table>\n",
       "</div>"
      ],
      "text/plain": [
       "        Left Eye RMSE  Left Eye MSE\n",
       "r(rad)       0.026226      0.000688\n",
       "p(rad)       0.021186      0.000449\n",
       "y(rad)       0.079967      0.006395\n",
       "x(cm)        1.262815      0.000159\n",
       "y(cm)        0.488883      0.000024\n",
       "z(cm)        1.077992      0.000116"
      ]
     },
     "execution_count": 14,
     "metadata": {},
     "output_type": "execute_result"
    }
   ],
   "source": [
    "single_df = get_total_loss(data_dir=\"thesis\", data_csv=\"241003_075m_grace_dataset.csv\", \n",
    "                           fit_result=\"../20241015_073936_420250_rpy_075m_grace_results.csv\")\n",
    "single_df"
   ]
  },
  {
   "cell_type": "code",
   "execution_count": 15,
   "id": "eaa0cc4f-a639-415d-8bbb-3f0056acd249",
   "metadata": {
    "tags": []
   },
   "outputs": [
    {
     "data": {
      "text/html": [
       "<div>\n",
       "<style scoped>\n",
       "    .dataframe tbody tr th:only-of-type {\n",
       "        vertical-align: middle;\n",
       "    }\n",
       "\n",
       "    .dataframe tbody tr th {\n",
       "        vertical-align: top;\n",
       "    }\n",
       "\n",
       "    .dataframe thead th {\n",
       "        text-align: right;\n",
       "    }\n",
       "</style>\n",
       "<table border=\"1\" class=\"dataframe\">\n",
       "  <thead>\n",
       "    <tr style=\"text-align: right;\">\n",
       "      <th></th>\n",
       "      <th>Left Eye RMSE</th>\n",
       "      <th>Left Eye MSE</th>\n",
       "    </tr>\n",
       "  </thead>\n",
       "  <tbody>\n",
       "    <tr>\n",
       "      <th>r(rad)</th>\n",
       "      <td>0.027564</td>\n",
       "      <td>0.000760</td>\n",
       "    </tr>\n",
       "    <tr>\n",
       "      <th>p(rad)</th>\n",
       "      <td>0.016428</td>\n",
       "      <td>0.000270</td>\n",
       "    </tr>\n",
       "    <tr>\n",
       "      <th>y(rad)</th>\n",
       "      <td>0.060215</td>\n",
       "      <td>0.003626</td>\n",
       "    </tr>\n",
       "    <tr>\n",
       "      <th>x(cm)</th>\n",
       "      <td>1.040233</td>\n",
       "      <td>0.000108</td>\n",
       "    </tr>\n",
       "    <tr>\n",
       "      <th>y(cm)</th>\n",
       "      <td>0.429916</td>\n",
       "      <td>0.000018</td>\n",
       "    </tr>\n",
       "    <tr>\n",
       "      <th>z(cm)</th>\n",
       "      <td>0.939040</td>\n",
       "      <td>0.000088</td>\n",
       "    </tr>\n",
       "  </tbody>\n",
       "</table>\n",
       "</div>"
      ],
      "text/plain": [
       "        Left Eye RMSE  Left Eye MSE\n",
       "r(rad)       0.027564      0.000760\n",
       "p(rad)       0.016428      0.000270\n",
       "y(rad)       0.060215      0.003626\n",
       "x(cm)        1.040233      0.000108\n",
       "y(cm)        0.429916      0.000018\n",
       "z(cm)        0.939040      0.000088"
      ]
     },
     "execution_count": 15,
     "metadata": {},
     "output_type": "execute_result"
    }
   ],
   "source": [
    "single_df = get_total_loss(data_dir=\"thesis\", data_csv=\"241005_075m_test_grace_dataset_1000.csv\", \n",
    "                           fit_result=\"../20241015_073936_420250_rpy_075m_grace_results.csv\")\n",
    "single_df"
   ]
  },
  {
   "cell_type": "markdown",
   "id": "00b50917-a751-4fca-8d44-823cf5a2da6e",
   "metadata": {
    "tags": []
   },
   "source": [
    "# Multiple Optimization (Model 1)"
   ]
  },
  {
   "cell_type": "code",
   "execution_count": null,
   "id": "8a85d584-b402-427b-af40-7f414d637537",
   "metadata": {
    "tags": []
   },
   "outputs": [],
   "source": [
    "data_list = ['241010_best_075m_grace_dataset_50.csv',\n",
    "             '241010_best_075m_grace_dataset_100.csv',\n",
    "             '241010_best_075m_grace_dataset_250.csv',\n",
    "             '241010_best_075m_grace_dataset_500.csv',\n",
    "             '241010_best_075m_grace_dataset_750.csv',\n",
    "             '241010_best_075m_grace_dataset_1000.csv']"
   ]
  },
  {
   "cell_type": "code",
   "execution_count": null,
   "id": "cca0d7b7-9bc2-4d74-b6c8-97d84ec02866",
   "metadata": {
    "tags": []
   },
   "outputs": [],
   "source": [
    "test_list = len(data_list)*['241005_075m_test_grace_dataset_1000.csv']"
   ]
  },
  {
   "cell_type": "code",
   "execution_count": null,
   "id": "052475ca-3128-490b-b6b6-cd30b4d872ec",
   "metadata": {
    "tags": []
   },
   "outputs": [],
   "source": [
    "fit_list = ['20241010_025410_831165_50_075m_grace_frozen_results.csv',\n",
    "            '20241010_025429_164830_100_075m_grace_frozen_results.csv',\n",
    "            '20241010_025449_498409_250_075m_grace_frozen_results.csv',\n",
    "            '20241010_025509_909690_500_075m_grace_frozen_results.csv',\n",
    "            '20241010_025528_619187_750_075m_grace_frozen_results.csv',\n",
    "            '20241010_025543_764379_1000_075m_grace_frozen_results.csv']  "
   ]
  },
  {
   "cell_type": "markdown",
   "id": "cd91ac7e-d1c5-4d37-8e9c-00c7a97a8ccc",
   "metadata": {},
   "source": [
    "## Train Set"
   ]
  },
  {
   "cell_type": "code",
   "execution_count": null,
   "id": "e3945a79-c52b-4328-af84-8293f20ac463",
   "metadata": {
    "tags": []
   },
   "outputs": [],
   "source": [
    "model1_train_df_list = []\n",
    "model1_train_mse_loss_list = []\n",
    "model1_train_rad_rmse_loss_list = []\n",
    "model1_train_cm_rmse_loss_list = []\n",
    "for i in range(len(data_list)):\n",
    "    temp_df = get_total_loss_frozen(data_dir=\"thesis\", data_csv=data_list[i], fit_result=fit_list[i])\n",
    "    model1_train_df_list.append(temp_df.copy())\n",
    "    \n",
    "    total_mse_loss = np.sum(temp_df['Left Eye MSE']) + np.sum(temp_df['Right Eye MSE'])\n",
    "    model1_train_mse_loss_list.append(total_mse_loss)\n",
    "    \n",
    "    rad_rmse_loss = (np.sum(temp_df['Left Eye RMSE'][:3]) + np.sum(temp_df['Right Eye RMSE'][:3]))/6\n",
    "    model1_train_rad_rmse_loss_list.append(rad_rmse_loss)\n",
    "    \n",
    "    cm_rmse_loss = (np.sum(temp_df['Left Eye RMSE'][3:]) + np.sum(temp_df['Right Eye RMSE'][3:]))/6\n",
    "    model1_train_cm_rmse_loss_list.append(cm_rmse_loss)"
   ]
  },
  {
   "cell_type": "markdown",
   "id": "066e7e99-c869-4b23-b63d-608190f4ea93",
   "metadata": {},
   "source": [
    "## Test Set"
   ]
  },
  {
   "cell_type": "code",
   "execution_count": null,
   "id": "8d024adb-782c-4c05-b561-66852830519e",
   "metadata": {
    "tags": []
   },
   "outputs": [],
   "source": [
    "model1_test_df_list = []\n",
    "model1_test_mse_loss_list = []\n",
    "model1_test_rad_rmse_loss_list = []\n",
    "model1_test_cm_rmse_loss_list = []\n",
    "for i in range(len(data_list)):\n",
    "    temp_df = get_total_loss_frozen(data_dir=\"thesis\", data_csv=test_list[i], fit_result=fit_list[i])\n",
    "    model1_test_df_list.append(temp_df.copy())\n",
    "    \n",
    "    total_mse_loss = np.sum(temp_df['Left Eye MSE']) + np.sum(temp_df['Right Eye MSE'])\n",
    "    model1_test_mse_loss_list.append(total_mse_loss)\n",
    "    \n",
    "    rad_rmse_loss = (np.sum(temp_df['Left Eye RMSE'][:3]) + np.sum(temp_df['Right Eye RMSE'][:3]))/6\n",
    "    model1_test_rad_rmse_loss_list.append(rad_rmse_loss)\n",
    "    \n",
    "    cm_rmse_loss = (np.sum(temp_df['Left Eye RMSE'][3:]) + np.sum(temp_df['Right Eye RMSE'][3:]))/6\n",
    "    model1_test_cm_rmse_loss_list.append(cm_rmse_loss)"
   ]
  },
  {
   "cell_type": "markdown",
   "id": "dc5a628a-b4bf-4ebe-97e1-3fc852e5ebc3",
   "metadata": {
    "tags": []
   },
   "source": [
    "# Multiple Optimization (Model 2)"
   ]
  },
  {
   "cell_type": "code",
   "execution_count": null,
   "id": "b2fb94a1-7da9-47a9-93ce-e095dc99ee96",
   "metadata": {
    "tags": []
   },
   "outputs": [],
   "source": [
    "data_list = ['241010_best_075m_grace_dataset_50.csv',\n",
    "             '241010_best_075m_grace_dataset_100.csv',\n",
    "             '241010_best_075m_grace_dataset_250.csv',\n",
    "             '241010_best_075m_grace_dataset_500.csv',\n",
    "             '241010_best_075m_grace_dataset_750.csv',\n",
    "             '241010_best_075m_grace_dataset_1000.csv']"
   ]
  },
  {
   "cell_type": "code",
   "execution_count": null,
   "id": "f56f2ee2-7cb9-487d-ab47-a9834bfef067",
   "metadata": {
    "tags": []
   },
   "outputs": [],
   "source": [
    "test_list = len(data_list)*['241005_075m_test_grace_dataset_1000.csv']"
   ]
  },
  {
   "cell_type": "code",
   "execution_count": null,
   "id": "014fe8c6-e616-49a0-9f83-466f12482075",
   "metadata": {
    "tags": []
   },
   "outputs": [],
   "source": [
    "fit_list = ['20241010_024324_007672_50_075m_grace_results.csv',\n",
    "            '20241010_024410_523423_100_075m_grace_results.csv',\n",
    "            '20241010_024521_902733_250_075m_grace_results.csv',\n",
    "            '20241010_024613_791140_500_075m_grace_results.csv',\n",
    "            '20241010_024710_840319_750_075m_grace_results.csv',\n",
    "            '20241010_024803_056417_1000_075m_grace_results.csv']  "
   ]
  },
  {
   "cell_type": "markdown",
   "id": "66475c8c-c68a-4af2-9ddf-27da9870613a",
   "metadata": {},
   "source": [
    "## Train Set"
   ]
  },
  {
   "cell_type": "code",
   "execution_count": null,
   "id": "56182b17-8ae0-4d4a-81e1-4148411ed59d",
   "metadata": {
    "tags": []
   },
   "outputs": [],
   "source": [
    "model2_train_df_list = []\n",
    "model2_train_mse_loss_list = []\n",
    "model2_train_rad_rmse_loss_list = []\n",
    "model2_train_cm_rmse_loss_list = []\n",
    "for i in range(len(data_list)):\n",
    "    temp_df = get_total_loss(data_dir=\"thesis\", data_csv=data_list[i], fit_result=fit_list[i])\n",
    "    model2_train_df_list.append(temp_df.copy())\n",
    "    \n",
    "    total_mse_loss = np.sum(temp_df['Left Eye MSE']) + np.sum(temp_df['Right Eye MSE'])\n",
    "    model2_train_mse_loss_list.append(total_mse_loss)\n",
    "    \n",
    "    rad_rmse_loss = (np.sum(temp_df['Left Eye RMSE'][:3]) + np.sum(temp_df['Right Eye RMSE'][:3]))/6\n",
    "    model2_train_rad_rmse_loss_list.append(rad_rmse_loss)\n",
    "    \n",
    "    cm_rmse_loss = (np.sum(temp_df['Left Eye RMSE'][3:]) + np.sum(temp_df['Right Eye RMSE'][3:]))/6\n",
    "    model2_train_cm_rmse_loss_list.append(cm_rmse_loss)"
   ]
  },
  {
   "cell_type": "markdown",
   "id": "54d5fc74-a12b-47cf-bc1c-08f5fa4ef572",
   "metadata": {},
   "source": [
    "## Test Set"
   ]
  },
  {
   "cell_type": "code",
   "execution_count": null,
   "id": "cefaeb32-d418-468f-8fb3-be22e6e1263a",
   "metadata": {
    "tags": []
   },
   "outputs": [],
   "source": [
    "model2_test_df_list = []\n",
    "model2_test_mse_loss_list = []\n",
    "model2_test_rad_rmse_loss_list = []\n",
    "model2_test_cm_rmse_loss_list = []\n",
    "for i in range(len(data_list)):\n",
    "    temp_df = get_total_loss(data_dir=\"thesis\", data_csv=test_list[i], fit_result=fit_list[i])\n",
    "    model2_test_df_list.append(temp_df.copy())\n",
    "    \n",
    "    total_mse_loss = np.sum(temp_df['Left Eye MSE']) + np.sum(temp_df['Right Eye MSE'])\n",
    "    model2_test_mse_loss_list.append(total_mse_loss)\n",
    "    \n",
    "    rad_rmse_loss = (np.sum(temp_df['Left Eye RMSE'][:3]) + np.sum(temp_df['Right Eye RMSE'][:3]))/6\n",
    "    model2_test_rad_rmse_loss_list.append(rad_rmse_loss)\n",
    "    \n",
    "    cm_rmse_loss = (np.sum(temp_df['Left Eye RMSE'][3:]) + np.sum(temp_df['Right Eye RMSE'][3:]))/6\n",
    "    model2_test_cm_rmse_loss_list.append(cm_rmse_loss)"
   ]
  },
  {
   "cell_type": "markdown",
   "id": "044e375e-884a-4653-8b7f-3825247a70de",
   "metadata": {},
   "source": [
    "# Total Plot"
   ]
  },
  {
   "cell_type": "code",
   "execution_count": null,
   "id": "40fbdb4f-3896-4286-afef-65bec3f3ab28",
   "metadata": {
    "tags": []
   },
   "outputs": [],
   "source": [
    "plt.plot(model1_test_mse_loss_list,'-o')\n",
    "plt.plot(model2_test_mse_loss_list,'-o')\n",
    "plt.legend(['Model 1 Test','Model 2 Test'])\n",
    "plt.xticks(ticks=list(range(len(model2_test_mse_loss_list))), labels=['50','100','250','500','750','1000'])\n",
    "plt.xlabel('Dataset N')\n",
    "plt.ylabel('Total MSE Loss')\n",
    "plt.grid()"
   ]
  },
  {
   "cell_type": "code",
   "execution_count": null,
   "id": "6991dad1-f95c-47b5-afbd-fe24b2279b62",
   "metadata": {
    "tags": []
   },
   "outputs": [],
   "source": [
    "plt.plot(model1_test_rad_rmse_loss_list,'-o')\n",
    "plt.plot(model2_test_rad_rmse_loss_list,'-o')\n",
    "plt.legend(['Model 1 Test','Model 2 Test'])\n",
    "plt.xticks(ticks=list(range(len(model2_test_mse_loss_list))), labels=['50','100','250','500','750','1000'])\n",
    "plt.xlabel('Dataset N')\n",
    "plt.ylabel('Mean RMSE Loss (rad)')\n",
    "plt.grid()"
   ]
  },
  {
   "cell_type": "code",
   "execution_count": null,
   "id": "7aa4330e-593d-4a92-85b6-94c61a4ceeed",
   "metadata": {
    "tags": []
   },
   "outputs": [],
   "source": [
    "plt.plot(model1_test_cm_rmse_loss_list,'-o')\n",
    "plt.plot(model2_test_cm_rmse_loss_list,'-o')\n",
    "plt.legend(['Model 1 Test','Model 2 Test'])\n",
    "plt.xticks(ticks=list(range(len(model2_test_mse_loss_list))), labels=['50','100','250','500','750','1000'])\n",
    "plt.xlabel('Dataset N')\n",
    "plt.ylabel('Mean RMSE Loss (cm)')\n",
    "plt.grid()"
   ]
  },
  {
   "cell_type": "code",
   "execution_count": null,
   "id": "55c8888f-f66b-4bc8-a1ad-6910b24b7dcc",
   "metadata": {},
   "outputs": [],
   "source": []
  },
  {
   "cell_type": "code",
   "execution_count": null,
   "id": "ee071767-8a65-479d-843f-f3ed97d62be6",
   "metadata": {},
   "outputs": [],
   "source": []
  }
 ],
 "metadata": {
  "kernelspec": {
   "display_name": "Python 3 (ipykernel)",
   "language": "python",
   "name": "python3"
  },
  "language_info": {
   "codemirror_mode": {
    "name": "ipython",
    "version": 3
   },
   "file_extension": ".py",
   "mimetype": "text/x-python",
   "name": "python",
   "nbconvert_exporter": "python",
   "pygments_lexer": "ipython3",
   "version": "3.8.10"
  },
  "toc-autonumbering": true,
  "toc-showcode": false,
  "toc-showmarkdowntxt": false,
  "toc-showtags": false
 },
 "nbformat": 4,
 "nbformat_minor": 5
}
