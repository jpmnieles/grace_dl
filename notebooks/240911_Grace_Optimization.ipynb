{
 "cells": [
  {
   "cell_type": "markdown",
   "id": "a33d7847-7f78-4628-92ba-8d995acb23f8",
   "metadata": {},
   "source": [
    "# Import"
   ]
  },
  {
   "cell_type": "code",
   "execution_count": 1,
   "id": "fa368611-06fd-48cf-8def-ec346b120cd0",
   "metadata": {},
   "outputs": [],
   "source": [
    "import os\n",
    "import sys\n",
    "sys.path.append(os.path.join(os.getcwd(),\"..\"))\n",
    "\n",
    "import cv2\n",
    "import torch\n",
    "import math\n",
    "import glob\n",
    "import scipy\n",
    "import numpy as np\n",
    "import pandas as pd\n",
    "import matplotlib.pyplot as plt\n",
    "import json\n",
    "\n",
    "import pytorch_kinematics as pk\n",
    "from urdf_parser_py.urdf import URDF"
   ]
  },
  {
   "cell_type": "markdown",
   "id": "100a6350-4cb1-4547-bbbe-577a928c1c1a",
   "metadata": {},
   "source": [
    "# Helper Functions"
   ]
  },
  {
   "cell_type": "code",
   "execution_count": 2,
   "id": "31b6b088-4237-4bcb-8fc8-5c7046e1588f",
   "metadata": {},
   "outputs": [],
   "source": [
    "def load_json(filename: str):\n",
    "    # Construct the absolute path by joining the current directory and relative path\n",
    "    absolute_path = os.path.join(os.getcwd(), '..', filename)\n",
    "    # Load the JSON data\n",
    "    with open(absolute_path, 'r') as file:\n",
    "        json_data = json.load(file)    \n",
    "    return json_data\n",
    "\n",
    "def projectPoints(pts_3d, cam_mtx, ext_mtx, dist_coef):\n",
    "    # Transform to Homogeneous Coordinates\n",
    "    pts_3d_homo = torch.cat((pts_3d, torch.ones(pts_3d.shape[0], 1)), dim=1)\n",
    "    \n",
    "    # Apply extrinsic transformation (rotation + translation)\n",
    "    pts_3d_transformed = ext_mtx @ pts_3d_homo.T\n",
    "    \n",
    "    # Convert back from homogeneous to 2D coordinates\n",
    "    pts_2d_prime = pts_3d_transformed[:2, :] / pts_3d_transformed[2, :]\n",
    "    x_prime = pts_2d_prime[0]\n",
    "    y_prime = pts_2d_prime[1]\n",
    "    \n",
    "    # Distortion Parameters Calculation\n",
    "    k1, k2, p1, p2, k3 = dist_coef\n",
    "    \n",
    "    r2 = x_prime**2 + y_prime**2\n",
    "    r4 = r2**2\n",
    "    r6 = r2*r4\n",
    "    a1 = 2*x_prime*y_prime\n",
    "    a2 = r2 + 2*x_prime**2\n",
    "    a3 = r2 + 2*y_prime**2\n",
    "    \n",
    "    # Radial distortion\n",
    "    radial_distortion = 1 + k1*r2 + k2*r4 + k3*r6\n",
    "    \n",
    "    # Tangential distortion\n",
    "    tangential_distortion_x = p1*a1 + p2*a2\n",
    "    tangential_distortion_y = p1*a3 + p2*a1\n",
    "    \n",
    "    # Apply distortion\n",
    "    x_double_prime = x_prime*radial_distortion + tangential_distortion_x\n",
    "    y_double_prime = y_prime* radial_distortion + tangential_distortion_y\n",
    "    \n",
    "    # Intrinsic Camera Matrix\n",
    "    fx = cam_mtx[0,0]\n",
    "    cx = cam_mtx[0,2]\n",
    "    fy = cam_mtx[1,1]\n",
    "    cy = cam_mtx[1,2]\n",
    "    \n",
    "    u = x_double_prime*fx + cx\n",
    "    v = y_double_prime*fy + cy\n",
    "    \n",
    "    px_pts = torch.stack((u, v), dim=1)\n",
    "\n",
    "    return px_pts\n",
    "\n",
    "def xml_to_str(robot):\n",
    "    # To XML string with filtering\n",
    "    temp_str = robot.to_xml_string()\n",
    "    words = temp_str.split()\n",
    "    words[5] = '>'\n",
    "    urdf_str = ' '.join(words)\n",
    "    return urdf_str"
   ]
  },
  {
   "cell_type": "markdown",
   "id": "ca7df2c7-5633-4de1-9c56-6b2a16535720",
   "metadata": {},
   "source": [
    "# Initialization"
   ]
  },
  {
   "cell_type": "code",
   "execution_count": 3,
   "id": "133208ff-0be7-4b2d-95eb-4036c2d7c9c5",
   "metadata": {},
   "outputs": [
    {
     "name": "stdout",
     "output_type": "stream",
     "text": [
      "Total: 209731\n"
     ]
    },
    {
     "data": {
      "text/html": [
       "<div>\n",
       "<style scoped>\n",
       "    .dataframe tbody tr th:only-of-type {\n",
       "        vertical-align: middle;\n",
       "    }\n",
       "\n",
       "    .dataframe tbody tr th {\n",
       "        vertical-align: top;\n",
       "    }\n",
       "\n",
       "    .dataframe thead th {\n",
       "        text-align: right;\n",
       "    }\n",
       "</style>\n",
       "<table border=\"1\" class=\"dataframe\">\n",
       "  <thead>\n",
       "    <tr style=\"text-align: right;\">\n",
       "      <th></th>\n",
       "      <th>x_c_l</th>\n",
       "      <th>y_c_l</th>\n",
       "      <th>z_c_l</th>\n",
       "      <th>x_c_r</th>\n",
       "      <th>y_c_r</th>\n",
       "      <th>z_c_r</th>\n",
       "      <th>cmd_theta_lower_neck_pan</th>\n",
       "      <th>cmd_theta_lower_neck_tilt</th>\n",
       "      <th>cmd_theta_upper_neck_tilt</th>\n",
       "      <th>cmd_theta_left_eye_pan</th>\n",
       "      <th>cmd_theta_right_eye_pan</th>\n",
       "      <th>cmd_theta_eyes_tilt</th>\n",
       "    </tr>\n",
       "  </thead>\n",
       "  <tbody>\n",
       "    <tr>\n",
       "      <th>0</th>\n",
       "      <td>-0.873669</td>\n",
       "      <td>-0.334702</td>\n",
       "      <td>0.738088</td>\n",
       "      <td>-1.166921</td>\n",
       "      <td>-0.352033</td>\n",
       "      <td>0.738508</td>\n",
       "      <td>-35</td>\n",
       "      <td>-10</td>\n",
       "      <td>-10</td>\n",
       "      <td>-14</td>\n",
       "      <td>-14</td>\n",
       "      <td>20</td>\n",
       "    </tr>\n",
       "    <tr>\n",
       "      <th>1</th>\n",
       "      <td>-0.821681</td>\n",
       "      <td>-0.331576</td>\n",
       "      <td>0.738000</td>\n",
       "      <td>-0.997318</td>\n",
       "      <td>-0.340332</td>\n",
       "      <td>0.738221</td>\n",
       "      <td>-35</td>\n",
       "      <td>-10</td>\n",
       "      <td>-10</td>\n",
       "      <td>-12</td>\n",
       "      <td>-12</td>\n",
       "      <td>20</td>\n",
       "    </tr>\n",
       "    <tr>\n",
       "      <th>2</th>\n",
       "      <td>-0.731501</td>\n",
       "      <td>-0.324165</td>\n",
       "      <td>0.738176</td>\n",
       "      <td>-0.868484</td>\n",
       "      <td>-0.332085</td>\n",
       "      <td>0.738360</td>\n",
       "      <td>-35</td>\n",
       "      <td>-10</td>\n",
       "      <td>-10</td>\n",
       "      <td>-10</td>\n",
       "      <td>-10</td>\n",
       "      <td>20</td>\n",
       "    </tr>\n",
       "    <tr>\n",
       "      <th>3</th>\n",
       "      <td>-0.672994</td>\n",
       "      <td>-0.320809</td>\n",
       "      <td>0.737795</td>\n",
       "      <td>-0.776648</td>\n",
       "      <td>-0.327031</td>\n",
       "      <td>0.737932</td>\n",
       "      <td>-35</td>\n",
       "      <td>-10</td>\n",
       "      <td>-10</td>\n",
       "      <td>-8</td>\n",
       "      <td>-8</td>\n",
       "      <td>20</td>\n",
       "    </tr>\n",
       "    <tr>\n",
       "      <th>4</th>\n",
       "      <td>-0.613507</td>\n",
       "      <td>-0.317492</td>\n",
       "      <td>0.737656</td>\n",
       "      <td>-0.690487</td>\n",
       "      <td>-0.321762</td>\n",
       "      <td>0.737752</td>\n",
       "      <td>-35</td>\n",
       "      <td>-10</td>\n",
       "      <td>-10</td>\n",
       "      <td>-6</td>\n",
       "      <td>-6</td>\n",
       "      <td>20</td>\n",
       "    </tr>\n",
       "    <tr>\n",
       "      <th>...</th>\n",
       "      <td>...</td>\n",
       "      <td>...</td>\n",
       "      <td>...</td>\n",
       "      <td>...</td>\n",
       "      <td>...</td>\n",
       "      <td>...</td>\n",
       "      <td>...</td>\n",
       "      <td>...</td>\n",
       "      <td>...</td>\n",
       "      <td>...</td>\n",
       "      <td>...</td>\n",
       "      <td>...</td>\n",
       "    </tr>\n",
       "    <tr>\n",
       "      <th>209726</th>\n",
       "      <td>0.792502</td>\n",
       "      <td>-0.267949</td>\n",
       "      <td>0.950136</td>\n",
       "      <td>0.716083</td>\n",
       "      <td>-0.253872</td>\n",
       "      <td>0.953027</td>\n",
       "      <td>35</td>\n",
       "      <td>30</td>\n",
       "      <td>40</td>\n",
       "      <td>4</td>\n",
       "      <td>4</td>\n",
       "      <td>-30</td>\n",
       "    </tr>\n",
       "    <tr>\n",
       "      <th>209727</th>\n",
       "      <td>0.871620</td>\n",
       "      <td>-0.284761</td>\n",
       "      <td>0.947121</td>\n",
       "      <td>0.792232</td>\n",
       "      <td>-0.271009</td>\n",
       "      <td>0.950140</td>\n",
       "      <td>35</td>\n",
       "      <td>30</td>\n",
       "      <td>40</td>\n",
       "      <td>6</td>\n",
       "      <td>6</td>\n",
       "      <td>-30</td>\n",
       "    </tr>\n",
       "    <tr>\n",
       "      <th>209728</th>\n",
       "      <td>0.958315</td>\n",
       "      <td>-0.302900</td>\n",
       "      <td>0.943909</td>\n",
       "      <td>0.875639</td>\n",
       "      <td>-0.289312</td>\n",
       "      <td>0.947054</td>\n",
       "      <td>35</td>\n",
       "      <td>30</td>\n",
       "      <td>40</td>\n",
       "      <td>8</td>\n",
       "      <td>8</td>\n",
       "      <td>-30</td>\n",
       "    </tr>\n",
       "    <tr>\n",
       "      <th>209729</th>\n",
       "      <td>1.054044</td>\n",
       "      <td>-0.323434</td>\n",
       "      <td>0.940457</td>\n",
       "      <td>0.967562</td>\n",
       "      <td>-0.310196</td>\n",
       "      <td>0.943755</td>\n",
       "      <td>35</td>\n",
       "      <td>30</td>\n",
       "      <td>40</td>\n",
       "      <td>10</td>\n",
       "      <td>10</td>\n",
       "      <td>-30</td>\n",
       "    </tr>\n",
       "    <tr>\n",
       "      <th>209730</th>\n",
       "      <td>1.136958</td>\n",
       "      <td>-0.341669</td>\n",
       "      <td>0.937271</td>\n",
       "      <td>1.052510</td>\n",
       "      <td>-0.328020</td>\n",
       "      <td>0.940490</td>\n",
       "      <td>35</td>\n",
       "      <td>30</td>\n",
       "      <td>40</td>\n",
       "      <td>12</td>\n",
       "      <td>12</td>\n",
       "      <td>-30</td>\n",
       "    </tr>\n",
       "  </tbody>\n",
       "</table>\n",
       "<p>209731 rows × 12 columns</p>\n",
       "</div>"
      ],
      "text/plain": [
       "           x_c_l     y_c_l     z_c_l     x_c_r     y_c_r     z_c_r   \n",
       "0      -0.873669 -0.334702  0.738088 -1.166921 -0.352033  0.738508  \\\n",
       "1      -0.821681 -0.331576  0.738000 -0.997318 -0.340332  0.738221   \n",
       "2      -0.731501 -0.324165  0.738176 -0.868484 -0.332085  0.738360   \n",
       "3      -0.672994 -0.320809  0.737795 -0.776648 -0.327031  0.737932   \n",
       "4      -0.613507 -0.317492  0.737656 -0.690487 -0.321762  0.737752   \n",
       "...          ...       ...       ...       ...       ...       ...   \n",
       "209726  0.792502 -0.267949  0.950136  0.716083 -0.253872  0.953027   \n",
       "209727  0.871620 -0.284761  0.947121  0.792232 -0.271009  0.950140   \n",
       "209728  0.958315 -0.302900  0.943909  0.875639 -0.289312  0.947054   \n",
       "209729  1.054044 -0.323434  0.940457  0.967562 -0.310196  0.943755   \n",
       "209730  1.136958 -0.341669  0.937271  1.052510 -0.328020  0.940490   \n",
       "\n",
       "        cmd_theta_lower_neck_pan  cmd_theta_lower_neck_tilt   \n",
       "0                            -35                        -10  \\\n",
       "1                            -35                        -10   \n",
       "2                            -35                        -10   \n",
       "3                            -35                        -10   \n",
       "4                            -35                        -10   \n",
       "...                          ...                        ...   \n",
       "209726                        35                         30   \n",
       "209727                        35                         30   \n",
       "209728                        35                         30   \n",
       "209729                        35                         30   \n",
       "209730                        35                         30   \n",
       "\n",
       "        cmd_theta_upper_neck_tilt  cmd_theta_left_eye_pan   \n",
       "0                             -10                     -14  \\\n",
       "1                             -10                     -12   \n",
       "2                             -10                     -10   \n",
       "3                             -10                      -8   \n",
       "4                             -10                      -6   \n",
       "...                           ...                     ...   \n",
       "209726                         40                       4   \n",
       "209727                         40                       6   \n",
       "209728                         40                       8   \n",
       "209729                         40                      10   \n",
       "209730                         40                      12   \n",
       "\n",
       "        cmd_theta_right_eye_pan  cmd_theta_eyes_tilt  \n",
       "0                           -14                   20  \n",
       "1                           -12                   20  \n",
       "2                           -10                   20  \n",
       "3                            -8                   20  \n",
       "4                            -6                   20  \n",
       "...                         ...                  ...  \n",
       "209726                        4                  -30  \n",
       "209727                        6                  -30  \n",
       "209728                        8                  -30  \n",
       "209729                       10                  -30  \n",
       "209730                       12                  -30  \n",
       "\n",
       "[209731 rows x 12 columns]"
      ]
     },
     "execution_count": 3,
     "metadata": {},
     "output_type": "execute_result"
    }
   ],
   "source": [
    "# Load Dataset CSV\n",
    "\n",
    "data_dir = \"final\"\n",
    "csv_file = os.path.join(os.getcwd(),\"..\",\"data\", data_dir, \"240909_grace_dataset.csv\")\n",
    "df = pd.read_csv(csv_file)\n",
    "temp_df = df.iloc[:,:12]\n",
    "print('Total:',len(temp_df))\n",
    "temp_df"
   ]
  },
  {
   "cell_type": "code",
   "execution_count": 4,
   "id": "3049093a-e6f6-4335-b4db-e9852248deca",
   "metadata": {},
   "outputs": [
    {
     "data": {
      "text/html": [
       "<div>\n",
       "<style scoped>\n",
       "    .dataframe tbody tr th:only-of-type {\n",
       "        vertical-align: middle;\n",
       "    }\n",
       "\n",
       "    .dataframe tbody tr th {\n",
       "        vertical-align: top;\n",
       "    }\n",
       "\n",
       "    .dataframe thead th {\n",
       "        text-align: right;\n",
       "    }\n",
       "</style>\n",
       "<table border=\"1\" class=\"dataframe\">\n",
       "  <thead>\n",
       "    <tr style=\"text-align: right;\">\n",
       "      <th></th>\n",
       "      <th>x_c_l</th>\n",
       "      <th>y_c_l</th>\n",
       "      <th>z_c_l</th>\n",
       "      <th>x_c_r</th>\n",
       "      <th>y_c_r</th>\n",
       "      <th>z_c_r</th>\n",
       "      <th>cmd_theta_lower_neck_pan</th>\n",
       "      <th>cmd_theta_lower_neck_tilt</th>\n",
       "      <th>cmd_theta_upper_neck_tilt</th>\n",
       "      <th>cmd_theta_left_eye_pan</th>\n",
       "      <th>cmd_theta_right_eye_pan</th>\n",
       "      <th>cmd_theta_eyes_tilt</th>\n",
       "    </tr>\n",
       "  </thead>\n",
       "  <tbody>\n",
       "    <tr>\n",
       "      <th>0</th>\n",
       "      <td>-0.873669</td>\n",
       "      <td>-0.334702</td>\n",
       "      <td>0.738088</td>\n",
       "      <td>-1.166921</td>\n",
       "      <td>-0.352033</td>\n",
       "      <td>0.738508</td>\n",
       "      <td>-0.610865</td>\n",
       "      <td>-0.174533</td>\n",
       "      <td>-0.174533</td>\n",
       "      <td>-0.244346</td>\n",
       "      <td>-0.244346</td>\n",
       "      <td>0.349066</td>\n",
       "    </tr>\n",
       "    <tr>\n",
       "      <th>1</th>\n",
       "      <td>-0.821681</td>\n",
       "      <td>-0.331576</td>\n",
       "      <td>0.738000</td>\n",
       "      <td>-0.997318</td>\n",
       "      <td>-0.340332</td>\n",
       "      <td>0.738221</td>\n",
       "      <td>-0.610865</td>\n",
       "      <td>-0.174533</td>\n",
       "      <td>-0.174533</td>\n",
       "      <td>-0.209440</td>\n",
       "      <td>-0.209440</td>\n",
       "      <td>0.349066</td>\n",
       "    </tr>\n",
       "    <tr>\n",
       "      <th>2</th>\n",
       "      <td>-0.731501</td>\n",
       "      <td>-0.324165</td>\n",
       "      <td>0.738176</td>\n",
       "      <td>-0.868484</td>\n",
       "      <td>-0.332085</td>\n",
       "      <td>0.738360</td>\n",
       "      <td>-0.610865</td>\n",
       "      <td>-0.174533</td>\n",
       "      <td>-0.174533</td>\n",
       "      <td>-0.174533</td>\n",
       "      <td>-0.174533</td>\n",
       "      <td>0.349066</td>\n",
       "    </tr>\n",
       "    <tr>\n",
       "      <th>3</th>\n",
       "      <td>-0.672994</td>\n",
       "      <td>-0.320809</td>\n",
       "      <td>0.737795</td>\n",
       "      <td>-0.776648</td>\n",
       "      <td>-0.327031</td>\n",
       "      <td>0.737932</td>\n",
       "      <td>-0.610865</td>\n",
       "      <td>-0.174533</td>\n",
       "      <td>-0.174533</td>\n",
       "      <td>-0.139626</td>\n",
       "      <td>-0.139626</td>\n",
       "      <td>0.349066</td>\n",
       "    </tr>\n",
       "    <tr>\n",
       "      <th>4</th>\n",
       "      <td>-0.613507</td>\n",
       "      <td>-0.317492</td>\n",
       "      <td>0.737656</td>\n",
       "      <td>-0.690487</td>\n",
       "      <td>-0.321762</td>\n",
       "      <td>0.737752</td>\n",
       "      <td>-0.610865</td>\n",
       "      <td>-0.174533</td>\n",
       "      <td>-0.174533</td>\n",
       "      <td>-0.104720</td>\n",
       "      <td>-0.104720</td>\n",
       "      <td>0.349066</td>\n",
       "    </tr>\n",
       "    <tr>\n",
       "      <th>...</th>\n",
       "      <td>...</td>\n",
       "      <td>...</td>\n",
       "      <td>...</td>\n",
       "      <td>...</td>\n",
       "      <td>...</td>\n",
       "      <td>...</td>\n",
       "      <td>...</td>\n",
       "      <td>...</td>\n",
       "      <td>...</td>\n",
       "      <td>...</td>\n",
       "      <td>...</td>\n",
       "      <td>...</td>\n",
       "    </tr>\n",
       "    <tr>\n",
       "      <th>209726</th>\n",
       "      <td>0.792502</td>\n",
       "      <td>-0.267949</td>\n",
       "      <td>0.950136</td>\n",
       "      <td>0.716083</td>\n",
       "      <td>-0.253872</td>\n",
       "      <td>0.953027</td>\n",
       "      <td>0.610865</td>\n",
       "      <td>0.523599</td>\n",
       "      <td>0.698132</td>\n",
       "      <td>0.069813</td>\n",
       "      <td>0.069813</td>\n",
       "      <td>-0.523599</td>\n",
       "    </tr>\n",
       "    <tr>\n",
       "      <th>209727</th>\n",
       "      <td>0.871620</td>\n",
       "      <td>-0.284761</td>\n",
       "      <td>0.947121</td>\n",
       "      <td>0.792232</td>\n",
       "      <td>-0.271009</td>\n",
       "      <td>0.950140</td>\n",
       "      <td>0.610865</td>\n",
       "      <td>0.523599</td>\n",
       "      <td>0.698132</td>\n",
       "      <td>0.104720</td>\n",
       "      <td>0.104720</td>\n",
       "      <td>-0.523599</td>\n",
       "    </tr>\n",
       "    <tr>\n",
       "      <th>209728</th>\n",
       "      <td>0.958315</td>\n",
       "      <td>-0.302900</td>\n",
       "      <td>0.943909</td>\n",
       "      <td>0.875639</td>\n",
       "      <td>-0.289312</td>\n",
       "      <td>0.947054</td>\n",
       "      <td>0.610865</td>\n",
       "      <td>0.523599</td>\n",
       "      <td>0.698132</td>\n",
       "      <td>0.139626</td>\n",
       "      <td>0.139626</td>\n",
       "      <td>-0.523599</td>\n",
       "    </tr>\n",
       "    <tr>\n",
       "      <th>209729</th>\n",
       "      <td>1.054044</td>\n",
       "      <td>-0.323434</td>\n",
       "      <td>0.940457</td>\n",
       "      <td>0.967562</td>\n",
       "      <td>-0.310196</td>\n",
       "      <td>0.943755</td>\n",
       "      <td>0.610865</td>\n",
       "      <td>0.523599</td>\n",
       "      <td>0.698132</td>\n",
       "      <td>0.174533</td>\n",
       "      <td>0.174533</td>\n",
       "      <td>-0.523599</td>\n",
       "    </tr>\n",
       "    <tr>\n",
       "      <th>209730</th>\n",
       "      <td>1.136958</td>\n",
       "      <td>-0.341669</td>\n",
       "      <td>0.937271</td>\n",
       "      <td>1.052510</td>\n",
       "      <td>-0.328020</td>\n",
       "      <td>0.940490</td>\n",
       "      <td>0.610865</td>\n",
       "      <td>0.523599</td>\n",
       "      <td>0.698132</td>\n",
       "      <td>0.209440</td>\n",
       "      <td>0.209440</td>\n",
       "      <td>-0.523599</td>\n",
       "    </tr>\n",
       "  </tbody>\n",
       "</table>\n",
       "<p>209731 rows × 12 columns</p>\n",
       "</div>"
      ],
      "text/plain": [
       "           x_c_l     y_c_l     z_c_l     x_c_r     y_c_r     z_c_r   \n",
       "0      -0.873669 -0.334702  0.738088 -1.166921 -0.352033  0.738508  \\\n",
       "1      -0.821681 -0.331576  0.738000 -0.997318 -0.340332  0.738221   \n",
       "2      -0.731501 -0.324165  0.738176 -0.868484 -0.332085  0.738360   \n",
       "3      -0.672994 -0.320809  0.737795 -0.776648 -0.327031  0.737932   \n",
       "4      -0.613507 -0.317492  0.737656 -0.690487 -0.321762  0.737752   \n",
       "...          ...       ...       ...       ...       ...       ...   \n",
       "209726  0.792502 -0.267949  0.950136  0.716083 -0.253872  0.953027   \n",
       "209727  0.871620 -0.284761  0.947121  0.792232 -0.271009  0.950140   \n",
       "209728  0.958315 -0.302900  0.943909  0.875639 -0.289312  0.947054   \n",
       "209729  1.054044 -0.323434  0.940457  0.967562 -0.310196  0.943755   \n",
       "209730  1.136958 -0.341669  0.937271  1.052510 -0.328020  0.940490   \n",
       "\n",
       "        cmd_theta_lower_neck_pan  cmd_theta_lower_neck_tilt   \n",
       "0                      -0.610865                  -0.174533  \\\n",
       "1                      -0.610865                  -0.174533   \n",
       "2                      -0.610865                  -0.174533   \n",
       "3                      -0.610865                  -0.174533   \n",
       "4                      -0.610865                  -0.174533   \n",
       "...                          ...                        ...   \n",
       "209726                  0.610865                   0.523599   \n",
       "209727                  0.610865                   0.523599   \n",
       "209728                  0.610865                   0.523599   \n",
       "209729                  0.610865                   0.523599   \n",
       "209730                  0.610865                   0.523599   \n",
       "\n",
       "        cmd_theta_upper_neck_tilt  cmd_theta_left_eye_pan   \n",
       "0                       -0.174533               -0.244346  \\\n",
       "1                       -0.174533               -0.209440   \n",
       "2                       -0.174533               -0.174533   \n",
       "3                       -0.174533               -0.139626   \n",
       "4                       -0.174533               -0.104720   \n",
       "...                           ...                     ...   \n",
       "209726                   0.698132                0.069813   \n",
       "209727                   0.698132                0.104720   \n",
       "209728                   0.698132                0.139626   \n",
       "209729                   0.698132                0.174533   \n",
       "209730                   0.698132                0.209440   \n",
       "\n",
       "        cmd_theta_right_eye_pan  cmd_theta_eyes_tilt  \n",
       "0                     -0.244346             0.349066  \n",
       "1                     -0.209440             0.349066  \n",
       "2                     -0.174533             0.349066  \n",
       "3                     -0.139626             0.349066  \n",
       "4                     -0.104720             0.349066  \n",
       "...                         ...                  ...  \n",
       "209726                 0.069813            -0.523599  \n",
       "209727                 0.104720            -0.523599  \n",
       "209728                 0.139626            -0.523599  \n",
       "209729                 0.174533            -0.523599  \n",
       "209730                 0.209440            -0.523599  \n",
       "\n",
       "[209731 rows x 12 columns]"
      ]
     },
     "execution_count": 4,
     "metadata": {},
     "output_type": "execute_result"
    }
   ],
   "source": [
    "# Convert DF Degrees Column to Radians\n",
    "\n",
    "data_df = temp_df.copy()\n",
    "data_df['cmd_theta_lower_neck_pan'] = np.radians(temp_df['cmd_theta_lower_neck_pan'].values)\n",
    "data_df['cmd_theta_lower_neck_tilt'] = np.radians(temp_df['cmd_theta_lower_neck_tilt'].values)\n",
    "data_df['cmd_theta_upper_neck_tilt'] = np.radians(temp_df['cmd_theta_upper_neck_tilt'].values)\n",
    "data_df['cmd_theta_left_eye_pan'] = np.radians(temp_df['cmd_theta_left_eye_pan'].values)\n",
    "data_df['cmd_theta_right_eye_pan'] = np.radians(temp_df['cmd_theta_right_eye_pan'].values)\n",
    "data_df['cmd_theta_eyes_tilt'] = np.radians(temp_df['cmd_theta_eyes_tilt'].values)\n",
    "data_df"
   ]
  },
  {
   "cell_type": "code",
   "execution_count": 5,
   "id": "003afb0b-e23f-409f-828e-36c7661d8c23",
   "metadata": {},
   "outputs": [],
   "source": [
    "# Load Configs\n",
    "camera_mtxs = load_json('camera_mtx.json')\n",
    "gaze_ctrs = load_json('calib_params.json')\n",
    "urdf_path = os.path.join(os.getcwd(),\"..\",\"urdf\",\"chest_grace.urdf\")\n",
    "robot = URDF.from_xml_file(urdf_path)"
   ]
  },
  {
   "cell_type": "code",
   "execution_count": 6,
   "id": "abe900fa-7d4d-440a-8ff3-68a4f7786c16",
   "metadata": {},
   "outputs": [],
   "source": [
    "# Decision Variables Initial Value\n",
    "\n",
    "var_dict= {\n",
    "    'neck_pitch_polyfit_b0': 0.1,\n",
    "    'neck_pitch_polyfit_b1': 0.1,\n",
    "    'neck_pitch_polyfit_b2': 0.1,\n",
    "    'neck_pitch_polyfit_b3': 0.1,\n",
    "\n",
    "    'neck_yaw_polyfit_b0': 0.1,\n",
    "    'neck_yaw_polyfit_b1': 0.1,\n",
    "    'neck_yaw_polyfit_b2': 0.1,\n",
    "    'neck_yaw_polyfit_b3': 0.1,\n",
    "\n",
    "    'head_pitch_polyfit_b0': 0.1,\n",
    "    'head_pitch_polyfit_b1': 0.1,\n",
    "    'head_pitch_polyfit_b2': 0.1,\n",
    "    'head_pitch_polyfit_b3': 0.1,\n",
    "\n",
    "    'eyes_pitch_polyfit_b0': 0.1,\n",
    "    'eyes_pitch_polyfit_b1': 0.1,\n",
    "    'eyes_pitch_polyfit_b2': 0.1,\n",
    "    'eyes_pitch_polyfit_b3': 0.1,\n",
    "\n",
    "    'lefteye_yaw_polyfit_b0': 0.1,\n",
    "    'lefteye_yaw_polyfit_b1': 0.1,\n",
    "    'lefteye_yaw_polyfit_b2': 0.1,\n",
    "    'lefteye_yaw_polyfit_b3': 0.1,\n",
    "\n",
    "    'righteye_yaw_polyfit_b0': 0.1,\n",
    "    'righteye_yaw_polyfit_b1': 0.1,\n",
    "    'righteye_yaw_polyfit_b2': 0.1,\n",
    "    'righteye_yaw_polyfit_b3': 0.1,\n",
    "\n",
    "    'torso_origin_x': 0.12234,\n",
    "    'torso_origin_y': -0.0325,\n",
    "    'torso_origin_z': 0.05692,\n",
    "\n",
    "    'neck_pitch_rot_r': 0,\n",
    "    \n",
    "    'head_pitch_origin_z': 0.13172,\n",
    "    'head_pitch_rot_r': 0,\n",
    "    'head_pitch_rot_y': 0,\n",
    "\n",
    "    'eyes_pitch_origin_x': 0.08492,\n",
    "    'eyes_pitch_origin_z': 0.05186,\n",
    "    'eyes_pitch_rot_r': 0,\n",
    "    'eyes_pitch_rot_y': 0,\n",
    "\n",
    "    'lefteye_yaw_origin_y': 0.02895,\n",
    "    \n",
    "    'righteye_yaw_origin_y': -0.02895,\n",
    "\n",
    "    'lefteye_cam_origin_x': 0.015,\n",
    "    'lefteye_cam_rot_r': 0,\n",
    "    'lefteye_cam_rot_p': 0,\n",
    "    'lefteye_cam_rot_y': 0,\n",
    "\n",
    "    'righteye_cam_origin_x': 0.015,\n",
    "    'righteye_cam_rot_r': 0,\n",
    "    'righteye_cam_rot_p': 0,\n",
    "    'righteye_cam_rot_y': 0,\n",
    "}"
   ]
  },
  {
   "cell_type": "code",
   "execution_count": 7,
   "id": "574b668e-bd4f-457a-9c5a-759bd8498e2b",
   "metadata": {
    "scrolled": true
   },
   "outputs": [
    {
     "data": {
      "text/plain": [
       "[0.1,\n",
       " 0.1,\n",
       " 0.1,\n",
       " 0.1,\n",
       " 0.1,\n",
       " 0.1,\n",
       " 0.1,\n",
       " 0.1,\n",
       " 0.1,\n",
       " 0.1,\n",
       " 0.1,\n",
       " 0.1,\n",
       " 0.1,\n",
       " 0.1,\n",
       " 0.1,\n",
       " 0.1,\n",
       " 0.1,\n",
       " 0.1,\n",
       " 0.1,\n",
       " 0.1,\n",
       " 0.1,\n",
       " 0.1,\n",
       " 0.1,\n",
       " 0.1,\n",
       " 0.12234,\n",
       " -0.0325,\n",
       " 0.05692,\n",
       " 0,\n",
       " 0.13172,\n",
       " 0,\n",
       " 0,\n",
       " 0.08492,\n",
       " 0.05186,\n",
       " 0,\n",
       " 0,\n",
       " 0.02895,\n",
       " -0.02895,\n",
       " 0.015,\n",
       " 0,\n",
       " 0,\n",
       " 0,\n",
       " 0.015,\n",
       " 0,\n",
       " 0,\n",
       " 0]"
      ]
     },
     "execution_count": 7,
     "metadata": {},
     "output_type": "execute_result"
    }
   ],
   "source": [
    "# Decision Variables \n",
    "\n",
    "var_list = list(var_dict.values())\n",
    "var_list"
   ]
  },
  {
   "cell_type": "code",
   "execution_count": 8,
   "id": "d292d9bc-0786-4494-9a8f-d3c438fa4e32",
   "metadata": {
    "scrolled": true
   },
   "outputs": [
    {
     "data": {
      "text/plain": [
       "['neck_pitch_polyfit_b0',\n",
       " 'neck_pitch_polyfit_b1',\n",
       " 'neck_pitch_polyfit_b2',\n",
       " 'neck_pitch_polyfit_b3',\n",
       " 'neck_yaw_polyfit_b0',\n",
       " 'neck_yaw_polyfit_b1',\n",
       " 'neck_yaw_polyfit_b2',\n",
       " 'neck_yaw_polyfit_b3',\n",
       " 'head_pitch_polyfit_b0',\n",
       " 'head_pitch_polyfit_b1',\n",
       " 'head_pitch_polyfit_b2',\n",
       " 'head_pitch_polyfit_b3',\n",
       " 'eyes_pitch_polyfit_b0',\n",
       " 'eyes_pitch_polyfit_b1',\n",
       " 'eyes_pitch_polyfit_b2',\n",
       " 'eyes_pitch_polyfit_b3',\n",
       " 'lefteye_yaw_polyfit_b0',\n",
       " 'lefteye_yaw_polyfit_b1',\n",
       " 'lefteye_yaw_polyfit_b2',\n",
       " 'lefteye_yaw_polyfit_b3',\n",
       " 'righteye_yaw_polyfit_b0',\n",
       " 'righteye_yaw_polyfit_b1',\n",
       " 'righteye_yaw_polyfit_b2',\n",
       " 'righteye_yaw_polyfit_b3',\n",
       " 'torso_origin_x',\n",
       " 'torso_origin_y',\n",
       " 'torso_origin_z',\n",
       " 'neck_pitch_rot_r',\n",
       " 'head_pitch_origin_z',\n",
       " 'head_pitch_rot_r',\n",
       " 'head_pitch_rot_y',\n",
       " 'eyes_pitch_origin_x',\n",
       " 'eyes_pitch_origin_z',\n",
       " 'eyes_pitch_rot_r',\n",
       " 'eyes_pitch_rot_y',\n",
       " 'lefteye_yaw_origin_y',\n",
       " 'righteye_yaw_origin_y',\n",
       " 'lefteye_cam_origin_x',\n",
       " 'lefteye_cam_rot_r',\n",
       " 'lefteye_cam_rot_p',\n",
       " 'lefteye_cam_rot_y',\n",
       " 'righteye_cam_origin_x',\n",
       " 'righteye_cam_rot_r',\n",
       " 'righteye_cam_rot_p',\n",
       " 'righteye_cam_rot_y']"
      ]
     },
     "execution_count": 8,
     "metadata": {},
     "output_type": "execute_result"
    }
   ],
   "source": [
    "# Variable Names\n",
    "var_names_list = list(var_dict.keys())\n",
    "var_names_list"
   ]
  },
  {
   "cell_type": "code",
   "execution_count": 9,
   "id": "6defd81b-5ea3-4764-8f73-a6ce7587c648",
   "metadata": {},
   "outputs": [
    {
     "data": {
      "text/plain": [
       "44"
      ]
     },
     "execution_count": 9,
     "metadata": {},
     "output_type": "execute_result"
    }
   ],
   "source": [
    "# Var Indexing\n",
    "var_names_list.index('righteye_cam_rot_y')"
   ]
  },
  {
   "cell_type": "code",
   "execution_count": 10,
   "id": "3b3a263b-632e-44a1-87c4-f6ff50722bc2",
   "metadata": {
    "scrolled": true
   },
   "outputs": [
    {
     "data": {
      "text/plain": [
       "{0: 'neck_pitch_polyfit_b0',\n",
       " 1: 'neck_pitch_polyfit_b1',\n",
       " 2: 'neck_pitch_polyfit_b2',\n",
       " 3: 'neck_pitch_polyfit_b3',\n",
       " 4: 'neck_yaw_polyfit_b0',\n",
       " 5: 'neck_yaw_polyfit_b1',\n",
       " 6: 'neck_yaw_polyfit_b2',\n",
       " 7: 'neck_yaw_polyfit_b3',\n",
       " 8: 'head_pitch_polyfit_b0',\n",
       " 9: 'head_pitch_polyfit_b1',\n",
       " 10: 'head_pitch_polyfit_b2',\n",
       " 11: 'head_pitch_polyfit_b3',\n",
       " 12: 'eyes_pitch_polyfit_b0',\n",
       " 13: 'eyes_pitch_polyfit_b1',\n",
       " 14: 'eyes_pitch_polyfit_b2',\n",
       " 15: 'eyes_pitch_polyfit_b3',\n",
       " 16: 'lefteye_yaw_polyfit_b0',\n",
       " 17: 'lefteye_yaw_polyfit_b1',\n",
       " 18: 'lefteye_yaw_polyfit_b2',\n",
       " 19: 'lefteye_yaw_polyfit_b3',\n",
       " 20: 'righteye_yaw_polyfit_b0',\n",
       " 21: 'righteye_yaw_polyfit_b1',\n",
       " 22: 'righteye_yaw_polyfit_b2',\n",
       " 23: 'righteye_yaw_polyfit_b3',\n",
       " 24: 'torso_origin_x',\n",
       " 25: 'torso_origin_y',\n",
       " 26: 'torso_origin_z',\n",
       " 27: 'neck_pitch_rot_r',\n",
       " 28: 'head_pitch_origin_z',\n",
       " 29: 'head_pitch_rot_r',\n",
       " 30: 'head_pitch_rot_y',\n",
       " 31: 'eyes_pitch_origin_x',\n",
       " 32: 'eyes_pitch_origin_z',\n",
       " 33: 'eyes_pitch_rot_r',\n",
       " 34: 'eyes_pitch_rot_y',\n",
       " 35: 'lefteye_yaw_origin_y',\n",
       " 36: 'righteye_yaw_origin_y',\n",
       " 37: 'lefteye_cam_origin_x',\n",
       " 38: 'lefteye_cam_rot_r',\n",
       " 39: 'lefteye_cam_rot_p',\n",
       " 40: 'lefteye_cam_rot_y',\n",
       " 41: 'righteye_cam_origin_x',\n",
       " 42: 'righteye_cam_rot_r',\n",
       " 43: 'righteye_cam_rot_p',\n",
       " 44: 'righteye_cam_rot_y'}"
      ]
     },
     "execution_count": 10,
     "metadata": {},
     "output_type": "execute_result"
    }
   ],
   "source": [
    "# Index to Name Mapping\n",
    "var2idx = dict(zip(list(range(len(var_names_list))),var_names_list))\n",
    "var2idx"
   ]
  },
  {
   "cell_type": "code",
   "execution_count": 11,
   "id": "ded26f24-8f85-4678-b28e-39c3af7545aa",
   "metadata": {},
   "outputs": [
    {
     "data": {
      "text/plain": [
       "-0.6108652381980153"
      ]
     },
     "execution_count": 11,
     "metadata": {},
     "output_type": "execute_result"
    }
   ],
   "source": [
    "data_df['cmd_theta_lower_neck_pan'][0]"
   ]
  },
  {
   "cell_type": "code",
   "execution_count": 12,
   "id": "f30c48d3-0e41-4de2-a9f0-5d6ff5f89347",
   "metadata": {},
   "outputs": [],
   "source": [
    "def objective_function(V):\n",
    "    i = 0\n",
    "    \n",
    "    ### Joint-to-Motor Polynomial Models\n",
    "    x = data_df['cmd_theta_lower_neck_tilt'][i]\n",
    "    neck_pitch = V[0] + V[1]*x + V[2]*x**2 + V[3]*x**3\n",
    "\n",
    "    x = data_df['cmd_theta_lower_neck_pan'][i]\n",
    "    neck_yaw = V[4] + V[5]*x + V[6]*x**2 + V[7]*x**3\n",
    "\n",
    "    x = data_df['cmd_theta_upper_neck_tilt'][i]\n",
    "    head_pitch = V[8] + V[9]*x + V[10]*x**2 + V[11]*x**3\n",
    "\n",
    "    x = data_df['cmd_theta_eyes_tilt'][i]\n",
    "    eyes_pitch = V[12] + V[13]*x + V[14]*x**2 + V[15]*x**3\n",
    "\n",
    "    x = data_df['cmd_theta_left_eye_pan'][i]\n",
    "    lefteye_yaw = V[16] + V[17]*x + V[18]*x**2 + V[19]*x**3\n",
    "\n",
    "    x = data_df['cmd_theta_right_eye_pan'][i]\n",
    "    righteye_yaw = V[20] + V[21]*x + V[22]*x**2 + V[23]*x**3\n",
    "\n",
    "    ### URDF\n",
    "    # Variable Assignment\n",
    "    for joint in robot.joints:\n",
    "        if joint.name == 'torso':\n",
    "            joint.origin.position[0] = V[24]\n",
    "            joint.origin.position[1] = V[25]\n",
    "            joint.origin.position[2] = V[26]\n",
    "        elif joint.name == 'neck_pitch':\n",
    "            joint.origin.rotation[0] = V[27]\n",
    "        elif joint.name == 'head_pitch':\n",
    "            joint.origin.position[2] = V[28]\n",
    "            joint.origin.rotation[0] = V[29]\n",
    "            joint.origin.rotation[2] = V[30]\n",
    "        elif joint.name == 'eyes_pitch':\n",
    "            joint.origin.position[0] = V[31]\n",
    "            joint.origin.position[2] = V[32]\n",
    "            joint.origin.rotation[0] = V[33]\n",
    "            joint.origin.rotation[2] = V[34]\n",
    "        elif joint.name == 'lefteye_yaw':\n",
    "            joint.origin.position[1] = V[35]\n",
    "        elif joint.name == 'righteye_yaw':\n",
    "            joint.origin.position[1] = V[36]\n",
    "        elif joint.name == 'lefteye_cam':\n",
    "            joint.origin.position[0] = V[37]\n",
    "            joint.origin.rotation[0] = V[38]\n",
    "            joint.origin.rotation[1] = V[39]\n",
    "            joint.origin.rotation[2] = V[40]\n",
    "        elif joint.name == 'righteye_cam':\n",
    "            joint.origin.position[0] = V[41]\n",
    "            joint.origin.rotation[0] = V[42]\n",
    "            joint.origin.rotation[1] = V[43]\n",
    "            joint.origin.rotation[2] = V[44]\n",
    "\n",
    "    # XML to String\n",
    "    urdf_str = xml_to_str(robot)\n",
    "\n",
    "    # Kinematic Chain\n",
    "    chain = pk.build_chain_from_urdf(urdf_str)\n",
    "\n",
    "    # Specifying Joint Angles (radians)\n",
    "    joint_cmd = {\n",
    "        'neck_pitch': neck_pitch,\n",
    "        'neck_yaw': neck_yaw,\n",
    "        'head_pitch': head_pitch,\n",
    "        'eyes_pitch': eyes_pitch,\n",
    "        'lefteye_yaw': lefteye_yaw,\n",
    "        'righteye_yaw': righteye_yaw,\n",
    "    }\n",
    "\n",
    "    # Forward Kinematics\n",
    "    ret = chain.forward_kinematics(joint_cmd)\n",
    "\n",
    "    # Realsense to Left Eye Camera (Pytorch) with Points\n",
    "    T_clprime = (torch.linalg.inv(ret['realsense'].get_matrix()) @ ret['leftcamera'].get_matrix()).squeeze()\n",
    "\n",
    "    # Realsense to Right Eye Camera (Pytorch) with Points\n",
    "    T_crprime = (torch.linalg.inv(ret['realsense'].get_matrix()) @ ret['rightcamera'].get_matrix()).squeeze()\n",
    "    \n",
    "    "
   ]
  },
  {
   "cell_type": "code",
   "execution_count": 13,
   "id": "74c887e6-67eb-4165-9608-6bdd4e322b13",
   "metadata": {},
   "outputs": [],
   "source": [
    "# Specify Joint Angles (radians)\n",
    "joint_cmd = {\n",
    "    'neck_pitch': 0.0,\n",
    "    'neck_yaw': 0.0,\n",
    "    'head_pitch': math.radians(10),\n",
    "    'eyes_pitch': 0.0,\n",
    "    'lefteye_yaw': 0.0,\n",
    "    'righteye_yaw': 0.0,\n",
    "}"
   ]
  },
  {
   "cell_type": "code",
   "execution_count": null,
   "id": "55b232c1-05eb-48f0-b552-52826b62955c",
   "metadata": {},
   "outputs": [],
   "source": []
  },
  {
   "cell_type": "code",
   "execution_count": null,
   "id": "5802967d-8c4f-489a-98ff-e9f4e1422f47",
   "metadata": {},
   "outputs": [],
   "source": []
  },
  {
   "cell_type": "code",
   "execution_count": null,
   "id": "7fd1d5e4-9fed-41de-9d3d-f9c3c39f13d8",
   "metadata": {},
   "outputs": [],
   "source": []
  },
  {
   "cell_type": "code",
   "execution_count": null,
   "id": "d0784d07-241e-4bd0-900e-12aee7131951",
   "metadata": {},
   "outputs": [],
   "source": []
  },
  {
   "cell_type": "code",
   "execution_count": null,
   "id": "e77b5a01-6f9e-4907-b3b4-7f01e1389425",
   "metadata": {},
   "outputs": [],
   "source": []
  },
  {
   "cell_type": "code",
   "execution_count": null,
   "id": "5c9e252a-7cab-43c8-959b-a9ab61a99a34",
   "metadata": {},
   "outputs": [],
   "source": []
  },
  {
   "cell_type": "code",
   "execution_count": null,
   "id": "4be7d73d-8725-4583-98a9-35a84ae6ad78",
   "metadata": {},
   "outputs": [],
   "source": []
  },
  {
   "cell_type": "code",
   "execution_count": null,
   "id": "e178c165-5a81-466f-b713-61d70eabb6f1",
   "metadata": {},
   "outputs": [],
   "source": []
  },
  {
   "cell_type": "code",
   "execution_count": null,
   "id": "e506bbc9-566f-4fab-8301-0e66ab3b7fda",
   "metadata": {},
   "outputs": [],
   "source": []
  },
  {
   "cell_type": "markdown",
   "id": "a6b5cea4-6bc5-4ecd-86b0-fbb0af109283",
   "metadata": {},
   "source": [
    "# URDF"
   ]
  },
  {
   "cell_type": "code",
   "execution_count": 14,
   "id": "4dbe175e-b6ff-4f4a-baef-7f514fcca244",
   "metadata": {},
   "outputs": [
    {
     "name": "stdout",
     "output_type": "stream",
     "text": [
      "chest_camera\n",
      "torso\n",
      "neck_pitch\n",
      "neck_yaw\n",
      "head_pitch\n",
      "eyes_pitch\n",
      "lefteye_yaw\n",
      "righteye_yaw\n",
      "lefteye_cam\n",
      "righteye_cam\n"
     ]
    }
   ],
   "source": [
    "# URDF Object Properties\n",
    "\n",
    "for joint in robot.joints:\n",
    "    print(joint.name)"
   ]
  },
  {
   "cell_type": "code",
   "execution_count": 15,
   "id": "a61dd20a-9e0c-4197-805f-1b9768314f7a",
   "metadata": {},
   "outputs": [
    {
     "name": "stdout",
     "output_type": "stream",
     "text": [
      "Joint Object: rpy:\n",
      "- 0\n",
      "- 0\n",
      "- 0\n",
      "xyz:\n",
      "- 0.0\n",
      "- 0.0\n",
      "- 0.13172\n",
      "Single Attribute: [0.0, 0.0, 0.13172]\n",
      "Attribute Type: <class 'list'>\n",
      "Output: [0.0, 0.0, 0.13172] [0, 0, 0]\n",
      "Output: 0.0 [0, 0, 0]\n"
     ]
    }
   ],
   "source": [
    "# Content Manipulation\n",
    "\n",
    "for joint in robot.joints:\n",
    "    if joint.name == 'head_pitch':\n",
    "        print('Joint Object:',joint.origin)\n",
    "        # Getting\n",
    "        print(\"Single Attribute:\",joint.origin.position)\n",
    "        # Setting\n",
    "        print(\"Attribute Type:\",type(joint.origin.position))\n",
    "        joint.origin.position = [joint.origin.position[0], joint.origin.position[1], joint.origin.position[2]]\n",
    "        joint.origin.position[0] = joint.origin.position[0]\n",
    "        print(\"Output:\",joint.origin.position, joint.origin.rotation)\n",
    "        print(\"Output:\",joint.origin.position[0], joint.origin.rotation)"
   ]
  },
  {
   "cell_type": "code",
   "execution_count": 16,
   "id": "77c772d5-e94c-4756-b4b5-24d6d12e93e3",
   "metadata": {},
   "outputs": [
    {
     "name": "stdout",
     "output_type": "stream",
     "text": [
      "<?xml version=\"1.0\" ?> <robot name=\"robot\" > <link name=\"world\"/> <link name=\"torso\"> <visual> <origin xyz=\"0.01767 0.0 -0.267155\" rpy=\"0 0 0\"/> <geometry> <box size=\"0.26 0.3 0.6\"/> </geometry> <material name=\"robot_model\"> <color rgba=\"0.3 0.3 0.3 0.4\"/> </material> </visual> </link> <link name=\"realsense\"> <visual> <origin xyz=\"-0.01485 -0.0325 0.0\" rpy=\"0.0 0.0 0.0\"/> <geometry> <box size=\"0.025 0.09 0.025\"/> </geometry> <material name=\"robot_camera\"> <color rgba=\"0.0 0.1 0.3 0.6\"/> </material> </visual> </link> <link name=\"neck\"> <visual> <origin xyz=\"0.0 0.0 0.07\" rpy=\"0 0 0\"/> <geometry> <cylinder radius=\"0.045\" length=\"0.14\"/> </geometry> <material name=\"robot_model\"> <color rgba=\"0.3 0.3 0.3 0.4\"/> </material> </visual> </link> <link name=\"neck_py\"/> <link name=\"head\"> <visual> <origin xyz=\"0.0 0.0 0.06\" rpy=\"0 0 0\"/> <geometry> <box size=\"0.21 0.115 0.2\"/> </geometry> <material name=\"robot_model\"> <color rgba=\"0.3 0.3 0.3 0.4\"/> </material> </visual> </link> <link name=\"eyes\"/> <link name=\"lefteye\"> <visual> <origin xyz=\"0.0 0.0 0.0\" rpy=\"0 0 0\"/> <geometry> <sphere radius=\"0.005\"/> </geometry> <material name=\"robot_camera\"> <color rgba=\"0.0 0.1 0.3 0.6\"/> </material> </visual> </link> <link name=\"righteye\"> <visual> <origin xyz=\"0.0 0.0 0.0\" rpy=\"0 0 0\"/> <geometry> <sphere radius=\"0.005\"/> </geometry> <material name=\"robot_camera\"> <color rgba=\"0.0 0.1 0.3 0.6\"/> </material> </visual> </link> <link name=\"leftcamera\"/> <link name=\"rightcamera\"/> <joint name=\"chest_camera\" type=\"fixed\"> <origin xyz=\"0.0 0.0 0.44739\" rpy=\"0.0 0.0 0.0\"/> <parent link=\"world\"/> <child link=\"realsense\"/> </joint> <joint name=\"torso\" type=\"fixed\"> <origin xyz=\"-0.12234 -0.0325 0.05692\" rpy=\"0.0 0.0 0.0\"/> <parent link=\"realsense\"/> <child link=\"torso\"/> </joint> <joint name=\"neck_pitch\" type=\"revolute\"> <origin xyz=\"0.0 0.0 0.0\" rpy=\"0 0 0\"/> <axis xyz=\"0.0 -1.0 0.0\"/> <parent link=\"torso\"/> <child link=\"neck_py\"/> <limit effort=\"1.0\" lower=\"-1.0\" upper=\"1.0\" velocity=\"1.0\"/> </joint> <joint name=\"neck_yaw\" type=\"revolute\"> <origin xyz=\"0.0 0.0 0.0\" rpy=\"0 0 0\"/> <axis xyz=\"0.0 0.0 -1.0\"/> <parent link=\"neck_py\"/> <child link=\"neck\"/> <limit effort=\"1.0\" lower=\"-1.0\" upper=\"1.0\" velocity=\"1.0\"/> </joint> <joint name=\"head_pitch\" type=\"revolute\"> <origin xyz=\"0.0 0.0 0.13172\" rpy=\"0 0 0\"/> <axis xyz=\"0.0 -1.0 0.0\"/> <parent link=\"neck\"/> <child link=\"head\"/> <limit effort=\"1.0\" lower=\"-1.0\" upper=\"1.0\" velocity=\"1.0\"/> </joint> <joint name=\"eyes_pitch\" type=\"revolute\"> <origin xyz=\"0.08492 0.0 0.05186\" rpy=\"0 0 0\"/> <axis xyz=\"0.0 -1.0 0.0\"/> <parent link=\"head\"/> <child link=\"eyes\"/> <limit effort=\"1.0\" lower=\"-1.0\" upper=\"1.0\" velocity=\"1.0\"/> </joint> <joint name=\"lefteye_yaw\" type=\"revolute\"> <origin xyz=\"0.0 0.02895 0.0\" rpy=\"0 0 0\"/> <axis xyz=\"0.0 0.0 -1.0\"/> <parent link=\"eyes\"/> <child link=\"lefteye\"/> <limit effort=\"1.0\" lower=\"-1.0\" upper=\"1.0\" velocity=\"1.0\"/> </joint> <joint name=\"righteye_yaw\" type=\"revolute\"> <origin xyz=\"0.0 -0.02895 0.0\" rpy=\"0 0 0\"/> <axis xyz=\"0.0 0.0 -1.0\"/> <parent link=\"eyes\"/> <child link=\"righteye\"/> <limit effort=\"1.0\" lower=\"-1.0\" upper=\"1.0\" velocity=\"1.0\"/> </joint> <joint name=\"lefteye_cam\" type=\"fixed\"> <origin xyz=\"0.015 0.0 0.0\" rpy=\"0.0 0.0 0.0\"/> <parent link=\"lefteye\"/> <child link=\"leftcamera\"/> </joint> <joint name=\"righteye_cam\" type=\"fixed\"> <origin xyz=\"0.015 0.0 0.0\" rpy=\"0.0 0.0 0.0\"/> <parent link=\"righteye\"/> <child link=\"rightcamera\"/> </joint> </robot>\n"
     ]
    }
   ],
   "source": [
    "# To XML string with filtering\n",
    "\n",
    "temp_str = robot.to_xml_string()\n",
    "words = temp_str.split()\n",
    "words[5] = '>'\n",
    "urdf_str = ' '.join(words)\n",
    "print(urdf_str)"
   ]
  },
  {
   "cell_type": "markdown",
   "id": "e829fb63-5a98-43c1-b47e-9fbdce16a127",
   "metadata": {},
   "source": [
    "# Pytorch Kinematics"
   ]
  },
  {
   "cell_type": "code",
   "execution_count": 17,
   "id": "15acb902-b8ac-4b3a-a9b2-e68b6808b1b1",
   "metadata": {},
   "outputs": [
    {
     "name": "stdout",
     "output_type": "stream",
     "text": [
      "world\n",
      "└── realsense\n",
      "    └── torso\n",
      "        └── neck_py\n",
      "            └── neck\n",
      "                └── head\n",
      "                    └── eyes\n",
      "                        ├── lefteye\n",
      "                        │   └── leftcamera\n",
      "                        └── righteye\n",
      "                            └── rightcamera\n",
      "\n"
     ]
    },
    {
     "data": {
      "text/plain": [
       "'world\\n└── realsense\\n    └── torso\\n        └── neck_py\\n            └── neck\\n                └── head\\n                    └── eyes\\n                        ├── lefteye\\n                        │   └── leftcamera\\n                        └── righteye\\n                            └── rightcamera\\n'"
      ]
     },
     "execution_count": 17,
     "metadata": {},
     "output_type": "execute_result"
    }
   ],
   "source": [
    "chain = pk.build_chain_from_urdf(urdf_str)\n",
    "chain.print_tree()"
   ]
  },
  {
   "cell_type": "code",
   "execution_count": 18,
   "id": "1f51c49e-b8ef-449b-9033-2fd2fc51c91f",
   "metadata": {},
   "outputs": [
    {
     "name": "stdout",
     "output_type": "stream",
     "text": [
      "['neck_pitch', 'neck_yaw', 'head_pitch', 'eyes_pitch', 'lefteye_yaw', 'righteye_yaw']\n"
     ]
    }
   ],
   "source": [
    "print(chain.get_joint_parameter_names())"
   ]
  },
  {
   "cell_type": "code",
   "execution_count": 50,
   "id": "5a42bf20-1800-499a-bd5c-da5f3b3f7b08",
   "metadata": {},
   "outputs": [],
   "source": [
    "# Specify Joint Angles (radians)\n",
    "joint_cmd = {\n",
    "    'neck_pitch': 0.0,\n",
    "    'neck_yaw': 0.0,\n",
    "    'head_pitch': 0.0,\n",
    "    'eyes_pitch': 0.0,\n",
    "    'lefteye_yaw': 0.0,\n",
    "    'righteye_yaw': 0.0,\n",
    "}"
   ]
  },
  {
   "cell_type": "code",
   "execution_count": 51,
   "id": "66a8e984-5cae-407a-8e7c-5ddfc505f171",
   "metadata": {},
   "outputs": [
    {
     "data": {
      "text/plain": [
       "{'world': Transform3d(rot=tensor([[1., 0., 0., 0.]]), pos=tensor([[0., 0., 0.]])),\n",
       " 'realsense': Transform3d(rot=tensor([[1., 0., 0., 0.]]), pos=tensor([[0.0000, 0.0000, 0.4474]])),\n",
       " 'torso': Transform3d(rot=tensor([[1., 0., 0., 0.]]), pos=tensor([[-0.1223, -0.0325,  0.5043]])),\n",
       " 'neck_py': Transform3d(rot=tensor([[1., 0., 0., 0.]]), pos=tensor([[-0.1223, -0.0325,  0.5043]])),\n",
       " 'neck': Transform3d(rot=tensor([[1., 0., 0., 0.]]), pos=tensor([[-0.1223, -0.0325,  0.5043]])),\n",
       " 'head': Transform3d(rot=tensor([[1., 0., 0., 0.]]), pos=tensor([[-0.1223, -0.0325,  0.6360]])),\n",
       " 'eyes': Transform3d(rot=tensor([[1., 0., 0., 0.]]), pos=tensor([[-0.0374, -0.0325,  0.6879]])),\n",
       " 'lefteye': Transform3d(rot=tensor([[1., 0., 0., 0.]]), pos=tensor([[-0.0374, -0.0035,  0.6879]])),\n",
       " 'leftcamera': Transform3d(rot=tensor([[1., 0., 0., 0.]]), pos=tensor([[-0.0224, -0.0035,  0.6879]])),\n",
       " 'righteye': Transform3d(rot=tensor([[1., 0., 0., 0.]]), pos=tensor([[-0.0374, -0.0614,  0.6879]])),\n",
       " 'rightcamera': Transform3d(rot=tensor([[1., 0., 0., 0.]]), pos=tensor([[-0.0224, -0.0614,  0.6879]]))}"
      ]
     },
     "execution_count": 51,
     "metadata": {},
     "output_type": "execute_result"
    }
   ],
   "source": [
    "# Forward Kinematics\n",
    "ret = chain.forward_kinematics(joint_cmd)\n",
    "ret"
   ]
  },
  {
   "cell_type": "code",
   "execution_count": 52,
   "id": "6bfa580f-44d4-4dbb-9c5c-ca71b09c7eb7",
   "metadata": {},
   "outputs": [
    {
     "data": {
      "text/plain": [
       "{'world': Transform3d(rot=tensor([[1., 0., 0., 0.]]), pos=tensor([[0., 0., 0.]])),\n",
       " 'realsense': Transform3d(rot=tensor([[1., 0., 0., 0.]]), pos=tensor([[0.0000, 0.0000, 0.4474]])),\n",
       " 'torso': Transform3d(rot=tensor([[1., 0., 0., 0.]]), pos=tensor([[-0.1223, -0.0325,  0.5043]])),\n",
       " 'neck_py': Transform3d(rot=tensor([[1., 0., 0., 0.]]), pos=tensor([[-0.1223, -0.0325,  0.5043]])),\n",
       " 'neck': Transform3d(rot=tensor([[1., 0., 0., 0.]]), pos=tensor([[-0.1223, -0.0325,  0.5043]])),\n",
       " 'head': Transform3d(rot=tensor([[1., 0., 0., 0.]]), pos=tensor([[-0.1223, -0.0325,  0.6360]])),\n",
       " 'eyes': Transform3d(rot=tensor([[1., 0., 0., 0.]]), pos=tensor([[-0.0374, -0.0325,  0.6879]])),\n",
       " 'lefteye': Transform3d(rot=tensor([[1., 0., 0., 0.]]), pos=tensor([[-0.0374, -0.0035,  0.6879]])),\n",
       " 'leftcamera': Transform3d(rot=tensor([[1., 0., 0., 0.]]), pos=tensor([[-0.0224, -0.0035,  0.6879]])),\n",
       " 'righteye': Transform3d(rot=tensor([[1., 0., 0., 0.]]), pos=tensor([[-0.0374, -0.0614,  0.6879]])),\n",
       " 'rightcamera': Transform3d(rot=tensor([[1., 0., 0., 0.]]), pos=tensor([[-0.0224, -0.0614,  0.6879]]))}"
      ]
     },
     "execution_count": 52,
     "metadata": {},
     "output_type": "execute_result"
    }
   ],
   "source": [
    "# Forward Kinematics\n",
    "ret = chain.forward_kinematics(joint_cmd)\n",
    "ret"
   ]
  },
  {
   "cell_type": "code",
   "execution_count": 61,
   "id": "198b358c-89fd-49ac-bdc4-277c1418e3ef",
   "metadata": {},
   "outputs": [
    {
     "data": {
      "text/plain": [
       "array([[[ 1.     ,  0.     ,  0.     , -0.02242],\n",
       "        [ 0.     ,  1.     ,  0.     , -0.00355],\n",
       "        [ 0.     ,  0.     ,  1.     ,  0.68789],\n",
       "        [ 0.     ,  0.     ,  0.     ,  1.     ]]], dtype=float32)"
      ]
     },
     "execution_count": 61,
     "metadata": {},
     "output_type": "execute_result"
    }
   ],
   "source": [
    "ret['leftcamera'].get_matrix().numpy()"
   ]
  },
  {
   "cell_type": "code",
   "execution_count": 64,
   "id": "58ac5aad-eb70-402c-9cfe-a0b30a190ca2",
   "metadata": {},
   "outputs": [
    {
     "data": {
      "text/plain": [
       "array([[[1.     , 0.     , 0.     , 0.     ],\n",
       "        [0.     , 1.     , 0.     , 0.     ],\n",
       "        [0.     , 0.     , 1.     , 0.44739],\n",
       "        [0.     , 0.     , 0.     , 1.     ]]], dtype=float32)"
      ]
     },
     "execution_count": 64,
     "metadata": {},
     "output_type": "execute_result"
    }
   ],
   "source": [
    "ret['realsense'].get_matrix().numpy()"
   ]
  },
  {
   "cell_type": "code",
   "execution_count": 65,
   "id": "2d32e695-ed5c-4a5b-aa62-10b8f193062c",
   "metadata": {},
   "outputs": [
    {
     "data": {
      "text/plain": [
       "array([[ 1.     ,  0.     ,  0.     , -0.02242],\n",
       "       [ 0.     ,  1.     ,  0.     , -0.00355],\n",
       "       [ 0.     ,  0.     ,  1.     ,  0.2405 ],\n",
       "       [ 0.     ,  0.     ,  0.     ,  1.     ]], dtype=float32)"
      ]
     },
     "execution_count": 65,
     "metadata": {},
     "output_type": "execute_result"
    }
   ],
   "source": [
    "# Realsense to Left Eye Camera (Numpy)\n",
    "(np.linalg.inv(ret['realsense'].get_matrix().numpy()) @ ret['leftcamera'].get_matrix().numpy()).squeeze()"
   ]
  },
  {
   "cell_type": "code",
   "execution_count": 71,
   "id": "d15914c6-2bff-41c5-8ddc-257bc382b346",
   "metadata": {},
   "outputs": [
    {
     "data": {
      "text/plain": [
       "tensor([[ 1.0000,  0.0000,  0.0000, -0.0224],\n",
       "        [ 0.0000,  1.0000,  0.0000, -0.0035],\n",
       "        [ 0.0000,  0.0000,  1.0000,  0.2405],\n",
       "        [ 0.0000,  0.0000,  0.0000,  1.0000]])"
      ]
     },
     "execution_count": 71,
     "metadata": {},
     "output_type": "execute_result"
    }
   ],
   "source": [
    "# Realsense to Left Eye Camera (Pytorch)\n",
    "(torch.linalg.inv(ret['realsense'].get_matrix()) @ ret['leftcamera'].get_matrix()).squeeze()"
   ]
  },
  {
   "cell_type": "code",
   "execution_count": 69,
   "id": "8581141b-9517-405c-8c96-bf9853039fec",
   "metadata": {},
   "outputs": [
    {
     "data": {
      "text/plain": [
       "tensor([[0.9776, 0.9965, 1.2405, 1.0000]])"
      ]
     },
     "execution_count": 69,
     "metadata": {},
     "output_type": "execute_result"
    }
   ],
   "source": [
    "# Realsense to Left Eye Camera (Pytorch) with Points\n",
    "x,y,z = 1,1,1\n",
    "torch.linalg.inv(ret['realsense'].get_matrix()) @ ret['leftcamera'].get_matrix() @ torch.Tensor([x,y,z,1])"
   ]
  },
  {
   "cell_type": "code",
   "execution_count": null,
   "id": "bc8316bd-6ad7-43de-8a61-337c44e9022a",
   "metadata": {},
   "outputs": [],
   "source": []
  },
  {
   "cell_type": "code",
   "execution_count": 56,
   "id": "37a0a0ed-cdbf-4736-9aa3-ebf3855a1f5d",
   "metadata": {},
   "outputs": [
    {
     "data": {
      "text/plain": [
       "tensor([ 9, 10,  1])"
      ]
     },
     "execution_count": 56,
     "metadata": {},
     "output_type": "execute_result"
    }
   ],
   "source": [
    "chain.get_frame_indices(\"leftcamera\",\"rightcamera\",\"realsense\")"
   ]
  },
  {
   "cell_type": "code",
   "execution_count": 57,
   "id": "25635c08-0556-4374-bfc5-f90f4a607480",
   "metadata": {},
   "outputs": [
    {
     "data": {
      "text/plain": [
       "tensor([ 1,  2,  3,  4,  5,  6,  7,  8,  9, 10])"
      ]
     },
     "execution_count": 57,
     "metadata": {},
     "output_type": "execute_result"
    }
   ],
   "source": [
    "torch.tensor(np.arange(1,11))"
   ]
  },
  {
   "cell_type": "code",
   "execution_count": 58,
   "id": "758c13e3-9689-4e41-87c9-5ed29da659dc",
   "metadata": {},
   "outputs": [
    {
     "data": {
      "text/plain": [
       "{'realsense': Transform3d(rot=tensor([[1., 0., 0., 0.]]), pos=tensor([[0.0000, 0.0000, 0.4474]])),\n",
       " 'torso': Transform3d(rot=tensor([[1., 0., 0., 0.]]), pos=tensor([[-0.1223, -0.0325,  0.5043]])),\n",
       " 'neck_py': Transform3d(rot=tensor([[1., 0., 0., 0.]]), pos=tensor([[-0.1223, -0.0325,  0.5043]])),\n",
       " 'neck': Transform3d(rot=tensor([[1., 0., 0., 0.]]), pos=tensor([[-0.1223, -0.0325,  0.5043]])),\n",
       " 'head': Transform3d(rot=tensor([[1., 0., 0., 0.]]), pos=tensor([[-0.1223, -0.0325,  0.6360]])),\n",
       " 'eyes': Transform3d(rot=tensor([[1., 0., 0., 0.]]), pos=tensor([[-0.0374, -0.0325,  0.6879]])),\n",
       " 'lefteye': Transform3d(rot=tensor([[1., 0., 0., 0.]]), pos=tensor([[-0.0374, -0.0035,  0.6879]])),\n",
       " 'righteye': Transform3d(rot=tensor([[1., 0., 0., 0.]]), pos=tensor([[-0.0374, -0.0614,  0.6879]])),\n",
       " 'leftcamera': Transform3d(rot=tensor([[1., 0., 0., 0.]]), pos=tensor([[-0.0224, -0.0035,  0.6879]])),\n",
       " 'rightcamera': Transform3d(rot=tensor([[1., 0., 0., 0.]]), pos=tensor([[-0.0224, -0.0614,  0.6879]]))}"
      ]
     },
     "execution_count": 58,
     "metadata": {},
     "output_type": "execute_result"
    }
   ],
   "source": [
    "# Forward Kinematics (Specific=frame indices)\n",
    "ret = chain.forward_kinematics(joint_cmd, torch.tensor(np.arange(1,11)))\n",
    "ret"
   ]
  },
  {
   "cell_type": "code",
   "execution_count": 28,
   "id": "a4e1bd67-9cb2-460c-b8f8-100a3bac0991",
   "metadata": {},
   "outputs": [
    {
     "data": {
      "text/plain": [
       "tensor([[[ 0.9848,  0.0000, -0.1736, -0.0329],\n",
       "         [ 0.0000,  1.0000,  0.0000, -0.0035],\n",
       "         [ 0.1736,  0.0000,  0.9848,  0.7045],\n",
       "         [ 0.0000,  0.0000,  0.0000,  1.0000]]])"
      ]
     },
     "execution_count": 28,
     "metadata": {},
     "output_type": "execute_result"
    }
   ],
   "source": [
    "ret['leftcamera'].get_matrix()"
   ]
  },
  {
   "cell_type": "code",
   "execution_count": 29,
   "id": "f98cca8d-b6e0-49a3-879b-4d0440cdad42",
   "metadata": {},
   "outputs": [
    {
     "data": {
      "text/plain": [
       "tensor([[[ 0.9848,  0.0000, -0.1736, -0.0329],\n",
       "         [ 0.0000,  1.0000,  0.0000, -0.0614],\n",
       "         [ 0.1736,  0.0000,  0.9848,  0.7045],\n",
       "         [ 0.0000,  0.0000,  0.0000,  1.0000]]])"
      ]
     },
     "execution_count": 29,
     "metadata": {},
     "output_type": "execute_result"
    }
   ],
   "source": [
    "ret['rightcamera'].get_matrix()"
   ]
  },
  {
   "cell_type": "code",
   "execution_count": 35,
   "id": "1dd6b625-6b00-42fb-a4ad-043b8aeebe42",
   "metadata": {},
   "outputs": [
    {
     "name": "stdout",
     "output_type": "stream",
     "text": [
      "torso\n",
      "└── neck_py\n",
      "    └── neck\n",
      "        └── head\n",
      "            └── eyes\n",
      "                └── lefteye\n",
      "                    └── leftcamera\n",
      "\n"
     ]
    },
    {
     "data": {
      "text/plain": [
       "'torso\\n└── neck_py\\n    └── neck\\n        └── head\\n            └── eyes\\n                └── lefteye\\n                    └── leftcamera\\n'"
      ]
     },
     "execution_count": 35,
     "metadata": {},
     "output_type": "execute_result"
    }
   ],
   "source": [
    "left_serialchain = pk.SerialChain(chain, \"leftcamera\", \"torso\")\n",
    "left_serialchain.print_tree()"
   ]
  },
  {
   "cell_type": "code",
   "execution_count": 43,
   "id": "65482647-6614-4cad-907d-36b554d88f47",
   "metadata": {},
   "outputs": [
    {
     "data": {
      "text/plain": [
       "{'torso': Transform3d(rot=tensor([[1., 0., 0., 0.]]), pos=tensor([[-0.1223, -0.0325,  0.0569]])),\n",
       " 'neck_py': Transform3d(rot=tensor([[1., 0., 0., 0.]]), pos=tensor([[-0.1223, -0.0325,  0.0569]])),\n",
       " 'neck': Transform3d(rot=tensor([[1., 0., 0., 0.]]), pos=tensor([[-0.1223, -0.0325,  0.0569]])),\n",
       " 'head': Transform3d(rot=tensor([[1., 0., 0., 0.]]), pos=tensor([[-0.1223, -0.0325,  0.1886]])),\n",
       " 'eyes': Transform3d(rot=tensor([[1., 0., 0., 0.]]), pos=tensor([[-0.0374, -0.0325,  0.2405]])),\n",
       " 'lefteye': Transform3d(rot=tensor([[1., 0., 0., 0.]]), pos=tensor([[-0.0374, -0.0035,  0.2405]])),\n",
       " 'leftcamera': Transform3d(rot=tensor([[1., 0., 0., 0.]]), pos=tensor([[-0.0224, -0.0035,  0.2405]]))}"
      ]
     },
     "execution_count": 43,
     "metadata": {},
     "output_type": "execute_result"
    }
   ],
   "source": [
    "# Forward Kinematics (Specific=frame indices)\n",
    "ret = left_serialchain.forward_kinematics(torch.Tensor([0.0,0.0,0.0,0.0,0.0]), end_only=False)\n",
    "ret"
   ]
  },
  {
   "cell_type": "code",
   "execution_count": 42,
   "id": "b8489880-3c7c-47b4-853d-70ca39a7dcb0",
   "metadata": {},
   "outputs": [
    {
     "data": {
      "text/plain": [
       "tensor([[[ 0.9848,  0.0000, -0.1736, -0.0329],\n",
       "         [ 0.0000,  1.0000,  0.0000, -0.0035],\n",
       "         [ 0.1736,  0.0000,  0.9848,  0.2571],\n",
       "         [ 0.0000,  0.0000,  0.0000,  1.0000]]])"
      ]
     },
     "execution_count": 42,
     "metadata": {},
     "output_type": "execute_result"
    }
   ],
   "source": [
    "ret['leftcamera'].get_matrix()"
   ]
  },
  {
   "cell_type": "markdown",
   "id": "17c6f169-af93-4cca-86c9-4b3d6c9ef90e",
   "metadata": {},
   "source": [
    "# Eye Projection"
   ]
  },
  {
   "cell_type": "markdown",
   "id": "6eddb3b5-b035-4adf-992b-be60f2106d34",
   "metadata": {},
   "source": [
    "## Function Prototype"
   ]
  },
  {
   "cell_type": "code",
   "execution_count": null,
   "id": "20241d09-b630-484e-a73e-5c027ceb4117",
   "metadata": {},
   "outputs": [],
   "source": [
    "#--- Input\n",
    "pts_3d = torch.tensor([[1.0, 2.0, 5.0],\n",
    "                      [2.0, 3.0, 8.0],\n",
    "                      [3.0, 1.0, 10.0]])\n",
    "cam_mtx = torch.tensor([[1000.0, 0, 320.0],\n",
    "                        [0, 1000.0 , 240.0],\n",
    "                        [0, 0, 1.0]])\n",
    "ext_mtx = torch.tensor([[1.0, 0.0, 0.0, 0.0],\n",
    "                        [0.0, 1.0, 0.0, 0.0],\n",
    "                        [0.0, 0.0, 1.0, 0.0],\n",
    "                        [0.0, 0.0, 0.0, 1.0]])\n",
    "dist_coef = (0.1, -0.2, 0.01, 0.01, 0.0)"
   ]
  },
  {
   "cell_type": "code",
   "execution_count": null,
   "id": "aef50aa7-6998-4b88-aeb9-0c73bf820da5",
   "metadata": {},
   "outputs": [],
   "source": [
    "# Transform to Homogeneous Coordinates\n",
    "pts_3d_homo = torch.cat((pts_3d, torch.ones(pts_3d.shape[0], 1)), dim=1)\n",
    "print(pts_3d_homo)\n",
    "print(pts_3d_homo.T)"
   ]
  },
  {
   "cell_type": "code",
   "execution_count": null,
   "id": "12b13aad-2127-4e62-8cf1-48d57583f6c9",
   "metadata": {},
   "outputs": [],
   "source": [
    "# Apply extrinsic transformation (rotation + translation)\n",
    "pts_3d_transformed = ext_mtx @ pts_3d_homo.T\n",
    "pts_3d_transformed"
   ]
  },
  {
   "cell_type": "code",
   "execution_count": null,
   "id": "ffd04a0a-2985-40d4-80a0-240663e0891a",
   "metadata": {},
   "outputs": [],
   "source": [
    "# Convert back from homogeneous to 2D coordinates\n",
    "pts_2d_prime = pts_3d_transformed[:2, :] / pts_3d_transformed[2, :]\n",
    "x_prime = pts_2d_prime[0]\n",
    "y_prime = pts_2d_prime[1]\n",
    "print(pts_2d_prime)\n",
    "print(x_prime)\n",
    "print(y_prime)"
   ]
  },
  {
   "cell_type": "code",
   "execution_count": null,
   "id": "43469493-d72e-43bb-88ff-d15438e89684",
   "metadata": {},
   "outputs": [],
   "source": [
    "# Distortion Parameters Calculation\n",
    "k1, k2, p1, p2, k3 = dist_coef\n",
    "\n",
    "r2 = x_prime**2 + y_prime**2\n",
    "r4 = r2**2\n",
    "r6 = r2*r4\n",
    "a1 = 2*x_prime*y_prime\n",
    "a2 = r2 + 2*x_prime**2\n",
    "a3 = r2 + 2*y_prime**2\n",
    "\n",
    "# Radial distortion\n",
    "radial_distortion = 1 + k1*r2 + k2*r4 + k3*r6\n",
    "\n",
    "# Tangential distortion\n",
    "tangential_distortion_x = p1*a1 + p2*a2\n",
    "tangential_distortion_y = p1*a3 + p2*a1\n",
    "\n",
    "# Apply distortion\n",
    "x_double_prime = x_prime*radial_distortion + tangential_distortion_x\n",
    "y_double_prime = y_prime* radial_distortion + tangential_distortion_y\n",
    "\n",
    "print(x_double_prime)\n",
    "print(y_double_prime)"
   ]
  },
  {
   "cell_type": "code",
   "execution_count": null,
   "id": "a4f1bb14-1152-4f71-94d3-320b82580d58",
   "metadata": {},
   "outputs": [],
   "source": [
    "# Intrinsic Camera Matrix\n",
    "fx = cam_mtx[0,0]\n",
    "cx = cam_mtx[0,2]\n",
    "fy = cam_mtx[1,1]\n",
    "cy = cam_mtx[1,2]\n",
    "\n",
    "u = x_double_prime*fx + cx\n",
    "v = y_double_prime*fy + cy\n",
    "\n",
    "px_pts = torch.stack((u, v), dim=1)\n",
    "\n",
    "print(u)\n",
    "print(v)\n",
    "print(px_pts)"
   ]
  },
  {
   "cell_type": "markdown",
   "id": "50008d55-7250-467e-abf7-600143f600eb",
   "metadata": {},
   "source": [
    "## Function"
   ]
  },
  {
   "cell_type": "code",
   "execution_count": null,
   "id": "f4bc417b-6053-45fa-b5c0-ab46b6592097",
   "metadata": {},
   "outputs": [],
   "source": [
    "def projectPoints(pts_3d, cam_mtx, ext_mtx, dist_coef):\n",
    "    # Transform to Homogeneous Coordinates\n",
    "    pts_3d_homo = torch.cat((pts_3d, torch.ones(pts_3d.shape[0], 1)), dim=1)\n",
    "    \n",
    "    # Apply extrinsic transformation (rotation + translation)\n",
    "    pts_3d_transformed = ext_mtx @ pts_3d_homo.T\n",
    "    \n",
    "    # Convert back from homogeneous to 2D coordinates\n",
    "    pts_2d_prime = pts_3d_transformed[:2, :] / pts_3d_transformed[2, :]\n",
    "    x_prime = pts_2d_prime[0]\n",
    "    y_prime = pts_2d_prime[1]\n",
    "    \n",
    "    # Distortion Parameters Calculation\n",
    "    k1, k2, p1, p2, k3 = dist_coef\n",
    "    \n",
    "    r2 = x_prime**2 + y_prime**2\n",
    "    r4 = r2**2\n",
    "    r6 = r2*r4\n",
    "    a1 = 2*x_prime*y_prime\n",
    "    a2 = r2 + 2*x_prime**2\n",
    "    a3 = r2 + 2*y_prime**2\n",
    "    \n",
    "    # Radial distortion\n",
    "    radial_distortion = 1 + k1*r2 + k2*r4 + k3*r6\n",
    "    \n",
    "    # Tangential distortion\n",
    "    tangential_distortion_x = p1*a1 + p2*a2\n",
    "    tangential_distortion_y = p1*a3 + p2*a1\n",
    "    \n",
    "    # Apply distortion\n",
    "    x_double_prime = x_prime*radial_distortion + tangential_distortion_x\n",
    "    y_double_prime = y_prime* radial_distortion + tangential_distortion_y\n",
    "    \n",
    "    # Intrinsic Camera Matrix\n",
    "    fx = cam_mtx[0,0]\n",
    "    cx = cam_mtx[0,2]\n",
    "    fy = cam_mtx[1,1]\n",
    "    cy = cam_mtx[1,2]\n",
    "    \n",
    "    u = x_double_prime*fx + cx\n",
    "    v = y_double_prime*fy + cy\n",
    "    \n",
    "    px_pts = torch.stack((u, v), dim=1)\n",
    "\n",
    "    return px_pts"
   ]
  },
  {
   "cell_type": "code",
   "execution_count": null,
   "id": "440b1e5f-915e-4f91-bab3-6d6a46944df7",
   "metadata": {},
   "outputs": [],
   "source": [
    "# Testing the Function\n",
    "\n",
    "#--- Input\n",
    "pts_3d = torch.tensor([[1.0, 2.0, 5.0],\n",
    "                      [2.0, 3.0, 8.0],\n",
    "                      [3.0, 1.0, 10.0]])\n",
    "cam_mtx = torch.tensor([[1000.0, 0, 320.0],\n",
    "                        [0, 1000.0 , 240.0],\n",
    "                        [0, 0, 1.0]])\n",
    "ext_mtx = torch.tensor([[1.0, 0.0, 0.0, 0.0],\n",
    "                        [0.0, 1.0, 0.0, 0.0],\n",
    "                        [0.0, 0.0, 1.0, 0.0],\n",
    "                        [0.0, 0.0, 0.0, 1.0]])\n",
    "dist_coef = (0.1, -0.2, 0.01, 0.01, 0.0)\n",
    "\n",
    "#--- Function\n",
    "pytorch_pts = projectPoints(pts_3d, cam_mtx, ext_mtx, dist_coef)\n",
    "pytorch_pts"
   ]
  },
  {
   "cell_type": "markdown",
   "id": "85c38c52-d16d-46f2-8076-847536548482",
   "metadata": {},
   "source": [
    "## OpenCV Comparison"
   ]
  },
  {
   "cell_type": "code",
   "execution_count": null,
   "id": "b507e782-829b-4261-af60-c13baf3fc423",
   "metadata": {},
   "outputs": [],
   "source": [
    "# Input\n",
    "\n",
    "#--- Input\n",
    "pts_3d = np.array([[1.0, 2.0, 5.0],\n",
    "                      [2.0, 3.0, 8.0],\n",
    "                      [3.0, 1.0, 10.0]])\n",
    "cam_mtx = np.array([[1000.0, 0, 320.0],\n",
    "                        [0, 1000.0 , 240.0],\n",
    "                        [0, 0, 1.0]])\n",
    "rvec = np.array([0.0,0.0,0.0]).reshape(-1,1)\n",
    "tvec = np.array([0.0,0.0,0.0]).reshape(-1,1)\n",
    "dist_coef = np.array([0.1, -0.2, 0.01, 0.01, 0.0])"
   ]
  },
  {
   "cell_type": "code",
   "execution_count": null,
   "id": "e4751d04-d96d-4a21-b1b6-73bb2f877eec",
   "metadata": {},
   "outputs": [],
   "source": [
    "# OpenCV Function\n",
    "\n",
    "opencv_pts,_ = cv2.projectPoints(pts_3d, rvec, tvec, cam_mtx, dist_coef)\n",
    "opencv_pts"
   ]
  },
  {
   "cell_type": "code",
   "execution_count": null,
   "id": "da02f7ca-48e8-4fd5-8e0b-a7847cc07e96",
   "metadata": {},
   "outputs": [],
   "source": [
    "# Comparison\n",
    "\n",
    "opencv_pts.squeeze() - pytorch_pts.numpy()"
   ]
  },
  {
   "cell_type": "code",
   "execution_count": null,
   "id": "edfc7125-ce21-4762-a99c-813202187940",
   "metadata": {},
   "outputs": [],
   "source": []
  }
 ],
 "metadata": {
  "kernelspec": {
   "display_name": "Python 3 (ipykernel)",
   "language": "python",
   "name": "python3"
  },
  "language_info": {
   "codemirror_mode": {
    "name": "ipython",
    "version": 3
   },
   "file_extension": ".py",
   "mimetype": "text/x-python",
   "name": "python",
   "nbconvert_exporter": "python",
   "pygments_lexer": "ipython3",
   "version": "3.8.10"
  }
 },
 "nbformat": 4,
 "nbformat_minor": 5
}
