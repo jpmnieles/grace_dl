{
 "cells": [
  {
   "cell_type": "markdown",
   "id": "0006d138-4a83-4c58-a2a6-9a9b554dfd5c",
   "metadata": {},
   "source": [
    "# Import"
   ]
  },
  {
   "cell_type": "code",
   "execution_count": 1,
   "id": "f96efc07-5ebd-47ee-87bb-de6b114be18c",
   "metadata": {
    "tags": []
   },
   "outputs": [],
   "source": [
    "import os\n",
    "import sys\n",
    "sys.path.append(os.path.join(os.getcwd(),\"..\"))\n",
    "\n",
    "import copy\n",
    "import glob\n",
    "import cv2\n",
    "import numpy as np\n",
    "import pandas as pd\n",
    "import matplotlib.pyplot as plt\n",
    "import seaborn as sns"
   ]
  },
  {
   "cell_type": "markdown",
   "id": "19296e57-6f1c-4b6a-9d7e-e925bdd489a4",
   "metadata": {},
   "source": [
    "# Load CSV"
   ]
  },
  {
   "cell_type": "code",
   "execution_count": 2,
   "id": "58740b0a-df0d-43c2-ac87-ea5928bca934",
   "metadata": {
    "tags": []
   },
   "outputs": [
    {
     "name": "stdout",
     "output_type": "stream",
     "text": [
      "Total: 74250\n"
     ]
    },
    {
     "data": {
      "text/html": [
       "<div>\n",
       "<style scoped>\n",
       "    .dataframe tbody tr th:only-of-type {\n",
       "        vertical-align: middle;\n",
       "    }\n",
       "\n",
       "    .dataframe tbody tr th {\n",
       "        vertical-align: top;\n",
       "    }\n",
       "\n",
       "    .dataframe thead th {\n",
       "        text-align: right;\n",
       "    }\n",
       "</style>\n",
       "<table border=\"1\" class=\"dataframe\">\n",
       "  <thead>\n",
       "    <tr style=\"text-align: right;\">\n",
       "      <th></th>\n",
       "      <th>x_c_l</th>\n",
       "      <th>y_c_l</th>\n",
       "      <th>z_c_l</th>\n",
       "      <th>x_c_r</th>\n",
       "      <th>y_c_r</th>\n",
       "      <th>z_c_r</th>\n",
       "      <th>cmd_theta_lower_neck_pan</th>\n",
       "      <th>cmd_theta_lower_neck_tilt</th>\n",
       "      <th>cmd_theta_upper_neck_tilt</th>\n",
       "      <th>cmd_theta_left_eye_pan</th>\n",
       "      <th>...</th>\n",
       "      <th>l_rvec_2</th>\n",
       "      <th>l_tvec_0</th>\n",
       "      <th>l_tvec_1</th>\n",
       "      <th>l_tvec_2</th>\n",
       "      <th>r_rvec_0</th>\n",
       "      <th>r_rvec_1</th>\n",
       "      <th>r_rvec_2</th>\n",
       "      <th>r_tvec_0</th>\n",
       "      <th>r_tvec_1</th>\n",
       "      <th>r_tvec_2</th>\n",
       "    </tr>\n",
       "  </thead>\n",
       "  <tbody>\n",
       "    <tr>\n",
       "      <th>0</th>\n",
       "      <td>-0.873669</td>\n",
       "      <td>-0.334702</td>\n",
       "      <td>0.738088</td>\n",
       "      <td>-1.166921</td>\n",
       "      <td>-0.352033</td>\n",
       "      <td>0.738508</td>\n",
       "      <td>-35</td>\n",
       "      <td>-10</td>\n",
       "      <td>-10</td>\n",
       "      <td>-14</td>\n",
       "      <td>...</td>\n",
       "      <td>0.040561</td>\n",
       "      <td>-0.058313</td>\n",
       "      <td>-0.220058</td>\n",
       "      <td>-0.025247</td>\n",
       "      <td>0.156209</td>\n",
       "      <td>-0.749052</td>\n",
       "      <td>0.049460</td>\n",
       "      <td>-0.006449</td>\n",
       "      <td>-0.216973</td>\n",
       "      <td>0.003556</td>\n",
       "    </tr>\n",
       "    <tr>\n",
       "      <th>1</th>\n",
       "      <td>-0.821681</td>\n",
       "      <td>-0.331576</td>\n",
       "      <td>0.738000</td>\n",
       "      <td>-0.997318</td>\n",
       "      <td>-0.340332</td>\n",
       "      <td>0.738221</td>\n",
       "      <td>-35</td>\n",
       "      <td>-10</td>\n",
       "      <td>-10</td>\n",
       "      <td>-12</td>\n",
       "      <td>...</td>\n",
       "      <td>0.040659</td>\n",
       "      <td>-0.056857</td>\n",
       "      <td>-0.221480</td>\n",
       "      <td>-0.025029</td>\n",
       "      <td>0.153847</td>\n",
       "      <td>-0.675968</td>\n",
       "      <td>0.049134</td>\n",
       "      <td>-0.006025</td>\n",
       "      <td>-0.218582</td>\n",
       "      <td>0.003275</td>\n",
       "    </tr>\n",
       "    <tr>\n",
       "      <th>2</th>\n",
       "      <td>-0.731501</td>\n",
       "      <td>-0.324165</td>\n",
       "      <td>0.738176</td>\n",
       "      <td>-0.868484</td>\n",
       "      <td>-0.332085</td>\n",
       "      <td>0.738360</td>\n",
       "      <td>-35</td>\n",
       "      <td>-10</td>\n",
       "      <td>-10</td>\n",
       "      <td>-10</td>\n",
       "      <td>...</td>\n",
       "      <td>0.044023</td>\n",
       "      <td>-0.057698</td>\n",
       "      <td>-0.221366</td>\n",
       "      <td>-0.024965</td>\n",
       "      <td>0.151740</td>\n",
       "      <td>-0.609258</td>\n",
       "      <td>0.051079</td>\n",
       "      <td>-0.005431</td>\n",
       "      <td>-0.218897</td>\n",
       "      <td>0.004023</td>\n",
       "    </tr>\n",
       "    <tr>\n",
       "      <th>3</th>\n",
       "      <td>-0.672994</td>\n",
       "      <td>-0.320809</td>\n",
       "      <td>0.737795</td>\n",
       "      <td>-0.776648</td>\n",
       "      <td>-0.327031</td>\n",
       "      <td>0.737932</td>\n",
       "      <td>-35</td>\n",
       "      <td>-10</td>\n",
       "      <td>-10</td>\n",
       "      <td>-8</td>\n",
       "      <td>...</td>\n",
       "      <td>0.046952</td>\n",
       "      <td>-0.056153</td>\n",
       "      <td>-0.220476</td>\n",
       "      <td>-0.023398</td>\n",
       "      <td>0.152025</td>\n",
       "      <td>-0.553739</td>\n",
       "      <td>0.053352</td>\n",
       "      <td>-0.005492</td>\n",
       "      <td>-0.217724</td>\n",
       "      <td>0.003949</td>\n",
       "    </tr>\n",
       "    <tr>\n",
       "      <th>4</th>\n",
       "      <td>-0.613507</td>\n",
       "      <td>-0.317492</td>\n",
       "      <td>0.737656</td>\n",
       "      <td>-0.690487</td>\n",
       "      <td>-0.321762</td>\n",
       "      <td>0.737752</td>\n",
       "      <td>-35</td>\n",
       "      <td>-10</td>\n",
       "      <td>-10</td>\n",
       "      <td>-6</td>\n",
       "      <td>...</td>\n",
       "      <td>0.050062</td>\n",
       "      <td>-0.054760</td>\n",
       "      <td>-0.220760</td>\n",
       "      <td>-0.024545</td>\n",
       "      <td>0.150643</td>\n",
       "      <td>-0.494342</td>\n",
       "      <td>0.055436</td>\n",
       "      <td>-0.005764</td>\n",
       "      <td>-0.217606</td>\n",
       "      <td>0.003346</td>\n",
       "    </tr>\n",
       "  </tbody>\n",
       "</table>\n",
       "<p>5 rows × 32 columns</p>\n",
       "</div>"
      ],
      "text/plain": [
       "      x_c_l     y_c_l     z_c_l     x_c_r     y_c_r     z_c_r   \n",
       "0 -0.873669 -0.334702  0.738088 -1.166921 -0.352033  0.738508  \\\n",
       "1 -0.821681 -0.331576  0.738000 -0.997318 -0.340332  0.738221   \n",
       "2 -0.731501 -0.324165  0.738176 -0.868484 -0.332085  0.738360   \n",
       "3 -0.672994 -0.320809  0.737795 -0.776648 -0.327031  0.737932   \n",
       "4 -0.613507 -0.317492  0.737656 -0.690487 -0.321762  0.737752   \n",
       "\n",
       "   cmd_theta_lower_neck_pan  cmd_theta_lower_neck_tilt   \n",
       "0                       -35                        -10  \\\n",
       "1                       -35                        -10   \n",
       "2                       -35                        -10   \n",
       "3                       -35                        -10   \n",
       "4                       -35                        -10   \n",
       "\n",
       "   cmd_theta_upper_neck_tilt  cmd_theta_left_eye_pan  ...  l_rvec_2  l_tvec_0   \n",
       "0                        -10                     -14  ...  0.040561 -0.058313  \\\n",
       "1                        -10                     -12  ...  0.040659 -0.056857   \n",
       "2                        -10                     -10  ...  0.044023 -0.057698   \n",
       "3                        -10                      -8  ...  0.046952 -0.056153   \n",
       "4                        -10                      -6  ...  0.050062 -0.054760   \n",
       "\n",
       "   l_tvec_1  l_tvec_2  r_rvec_0  r_rvec_1  r_rvec_2  r_tvec_0  r_tvec_1   \n",
       "0 -0.220058 -0.025247  0.156209 -0.749052  0.049460 -0.006449 -0.216973  \\\n",
       "1 -0.221480 -0.025029  0.153847 -0.675968  0.049134 -0.006025 -0.218582   \n",
       "2 -0.221366 -0.024965  0.151740 -0.609258  0.051079 -0.005431 -0.218897   \n",
       "3 -0.220476 -0.023398  0.152025 -0.553739  0.053352 -0.005492 -0.217724   \n",
       "4 -0.220760 -0.024545  0.150643 -0.494342  0.055436 -0.005764 -0.217606   \n",
       "\n",
       "   r_tvec_2  \n",
       "0  0.003556  \n",
       "1  0.003275  \n",
       "2  0.004023  \n",
       "3  0.003949  \n",
       "4  0.003346  \n",
       "\n",
       "[5 rows x 32 columns]"
      ]
     },
     "execution_count": 2,
     "metadata": {},
     "output_type": "execute_result"
    }
   ],
   "source": [
    "data_dir = \"structured\"\n",
    "csv_file = os.path.join(os.getcwd(),\"..\",\"data\", data_dir, \"075m_all_concat.csv\")\n",
    "df = pd.read_csv(csv_file)\n",
    "print('Total:',len(df))\n",
    "df.head()"
   ]
  },
  {
   "cell_type": "code",
   "execution_count": 3,
   "id": "442a880a-fc35-49b2-b726-20ba437c37c4",
   "metadata": {
    "tags": []
   },
   "outputs": [
    {
     "name": "stdout",
     "output_type": "stream",
     "text": [
      "Valid: 72627\n",
      "Removed: 1623\n"
     ]
    },
    {
     "data": {
      "text/html": [
       "<div>\n",
       "<style scoped>\n",
       "    .dataframe tbody tr th:only-of-type {\n",
       "        vertical-align: middle;\n",
       "    }\n",
       "\n",
       "    .dataframe tbody tr th {\n",
       "        vertical-align: top;\n",
       "    }\n",
       "\n",
       "    .dataframe thead th {\n",
       "        text-align: right;\n",
       "    }\n",
       "</style>\n",
       "<table border=\"1\" class=\"dataframe\">\n",
       "  <thead>\n",
       "    <tr style=\"text-align: right;\">\n",
       "      <th></th>\n",
       "      <th>x_c_l</th>\n",
       "      <th>y_c_l</th>\n",
       "      <th>z_c_l</th>\n",
       "      <th>x_c_r</th>\n",
       "      <th>y_c_r</th>\n",
       "      <th>z_c_r</th>\n",
       "      <th>cmd_theta_lower_neck_pan</th>\n",
       "      <th>cmd_theta_lower_neck_tilt</th>\n",
       "      <th>cmd_theta_upper_neck_tilt</th>\n",
       "      <th>cmd_theta_left_eye_pan</th>\n",
       "      <th>...</th>\n",
       "      <th>l_rvec_2</th>\n",
       "      <th>l_tvec_0</th>\n",
       "      <th>l_tvec_1</th>\n",
       "      <th>l_tvec_2</th>\n",
       "      <th>r_rvec_0</th>\n",
       "      <th>r_rvec_1</th>\n",
       "      <th>r_rvec_2</th>\n",
       "      <th>r_tvec_0</th>\n",
       "      <th>r_tvec_1</th>\n",
       "      <th>r_tvec_2</th>\n",
       "    </tr>\n",
       "  </thead>\n",
       "  <tbody>\n",
       "    <tr>\n",
       "      <th>0</th>\n",
       "      <td>-0.873669</td>\n",
       "      <td>-0.334702</td>\n",
       "      <td>0.738088</td>\n",
       "      <td>-1.166921</td>\n",
       "      <td>-0.352033</td>\n",
       "      <td>0.738508</td>\n",
       "      <td>-35</td>\n",
       "      <td>-10</td>\n",
       "      <td>-10</td>\n",
       "      <td>-14</td>\n",
       "      <td>...</td>\n",
       "      <td>0.040561</td>\n",
       "      <td>-0.058313</td>\n",
       "      <td>-0.220058</td>\n",
       "      <td>-0.025247</td>\n",
       "      <td>0.156209</td>\n",
       "      <td>-0.749052</td>\n",
       "      <td>0.049460</td>\n",
       "      <td>-0.006449</td>\n",
       "      <td>-0.216973</td>\n",
       "      <td>0.003556</td>\n",
       "    </tr>\n",
       "    <tr>\n",
       "      <th>1</th>\n",
       "      <td>-0.821681</td>\n",
       "      <td>-0.331576</td>\n",
       "      <td>0.738000</td>\n",
       "      <td>-0.997318</td>\n",
       "      <td>-0.340332</td>\n",
       "      <td>0.738221</td>\n",
       "      <td>-35</td>\n",
       "      <td>-10</td>\n",
       "      <td>-10</td>\n",
       "      <td>-12</td>\n",
       "      <td>...</td>\n",
       "      <td>0.040659</td>\n",
       "      <td>-0.056857</td>\n",
       "      <td>-0.221480</td>\n",
       "      <td>-0.025029</td>\n",
       "      <td>0.153847</td>\n",
       "      <td>-0.675968</td>\n",
       "      <td>0.049134</td>\n",
       "      <td>-0.006025</td>\n",
       "      <td>-0.218582</td>\n",
       "      <td>0.003275</td>\n",
       "    </tr>\n",
       "    <tr>\n",
       "      <th>2</th>\n",
       "      <td>-0.731501</td>\n",
       "      <td>-0.324165</td>\n",
       "      <td>0.738176</td>\n",
       "      <td>-0.868484</td>\n",
       "      <td>-0.332085</td>\n",
       "      <td>0.738360</td>\n",
       "      <td>-35</td>\n",
       "      <td>-10</td>\n",
       "      <td>-10</td>\n",
       "      <td>-10</td>\n",
       "      <td>...</td>\n",
       "      <td>0.044023</td>\n",
       "      <td>-0.057698</td>\n",
       "      <td>-0.221366</td>\n",
       "      <td>-0.024965</td>\n",
       "      <td>0.151740</td>\n",
       "      <td>-0.609258</td>\n",
       "      <td>0.051079</td>\n",
       "      <td>-0.005431</td>\n",
       "      <td>-0.218897</td>\n",
       "      <td>0.004023</td>\n",
       "    </tr>\n",
       "    <tr>\n",
       "      <th>3</th>\n",
       "      <td>-0.672994</td>\n",
       "      <td>-0.320809</td>\n",
       "      <td>0.737795</td>\n",
       "      <td>-0.776648</td>\n",
       "      <td>-0.327031</td>\n",
       "      <td>0.737932</td>\n",
       "      <td>-35</td>\n",
       "      <td>-10</td>\n",
       "      <td>-10</td>\n",
       "      <td>-8</td>\n",
       "      <td>...</td>\n",
       "      <td>0.046952</td>\n",
       "      <td>-0.056153</td>\n",
       "      <td>-0.220476</td>\n",
       "      <td>-0.023398</td>\n",
       "      <td>0.152025</td>\n",
       "      <td>-0.553739</td>\n",
       "      <td>0.053352</td>\n",
       "      <td>-0.005492</td>\n",
       "      <td>-0.217724</td>\n",
       "      <td>0.003949</td>\n",
       "    </tr>\n",
       "    <tr>\n",
       "      <th>4</th>\n",
       "      <td>-0.613507</td>\n",
       "      <td>-0.317492</td>\n",
       "      <td>0.737656</td>\n",
       "      <td>-0.690487</td>\n",
       "      <td>-0.321762</td>\n",
       "      <td>0.737752</td>\n",
       "      <td>-35</td>\n",
       "      <td>-10</td>\n",
       "      <td>-10</td>\n",
       "      <td>-6</td>\n",
       "      <td>...</td>\n",
       "      <td>0.050062</td>\n",
       "      <td>-0.054760</td>\n",
       "      <td>-0.220760</td>\n",
       "      <td>-0.024545</td>\n",
       "      <td>0.150643</td>\n",
       "      <td>-0.494342</td>\n",
       "      <td>0.055436</td>\n",
       "      <td>-0.005764</td>\n",
       "      <td>-0.217606</td>\n",
       "      <td>0.003346</td>\n",
       "    </tr>\n",
       "  </tbody>\n",
       "</table>\n",
       "<p>5 rows × 32 columns</p>\n",
       "</div>"
      ],
      "text/plain": [
       "      x_c_l     y_c_l     z_c_l     x_c_r     y_c_r     z_c_r   \n",
       "0 -0.873669 -0.334702  0.738088 -1.166921 -0.352033  0.738508  \\\n",
       "1 -0.821681 -0.331576  0.738000 -0.997318 -0.340332  0.738221   \n",
       "2 -0.731501 -0.324165  0.738176 -0.868484 -0.332085  0.738360   \n",
       "3 -0.672994 -0.320809  0.737795 -0.776648 -0.327031  0.737932   \n",
       "4 -0.613507 -0.317492  0.737656 -0.690487 -0.321762  0.737752   \n",
       "\n",
       "   cmd_theta_lower_neck_pan  cmd_theta_lower_neck_tilt   \n",
       "0                       -35                        -10  \\\n",
       "1                       -35                        -10   \n",
       "2                       -35                        -10   \n",
       "3                       -35                        -10   \n",
       "4                       -35                        -10   \n",
       "\n",
       "   cmd_theta_upper_neck_tilt  cmd_theta_left_eye_pan  ...  l_rvec_2  l_tvec_0   \n",
       "0                        -10                     -14  ...  0.040561 -0.058313  \\\n",
       "1                        -10                     -12  ...  0.040659 -0.056857   \n",
       "2                        -10                     -10  ...  0.044023 -0.057698   \n",
       "3                        -10                      -8  ...  0.046952 -0.056153   \n",
       "4                        -10                      -6  ...  0.050062 -0.054760   \n",
       "\n",
       "   l_tvec_1  l_tvec_2  r_rvec_0  r_rvec_1  r_rvec_2  r_tvec_0  r_tvec_1   \n",
       "0 -0.220058 -0.025247  0.156209 -0.749052  0.049460 -0.006449 -0.216973  \\\n",
       "1 -0.221480 -0.025029  0.153847 -0.675968  0.049134 -0.006025 -0.218582   \n",
       "2 -0.221366 -0.024965  0.151740 -0.609258  0.051079 -0.005431 -0.218897   \n",
       "3 -0.220476 -0.023398  0.152025 -0.553739  0.053352 -0.005492 -0.217724   \n",
       "4 -0.220760 -0.024545  0.150643 -0.494342  0.055436 -0.005764 -0.217606   \n",
       "\n",
       "   r_tvec_2  \n",
       "0  0.003556  \n",
       "1  0.003275  \n",
       "2  0.004023  \n",
       "3  0.003949  \n",
       "4  0.003346  \n",
       "\n",
       "[5 rows x 32 columns]"
      ]
     },
     "execution_count": 3,
     "metadata": {},
     "output_type": "execute_result"
    }
   ],
   "source": [
    "# Filtered df\n",
    "temp_df = df[~df.isin([-100.0]).any(axis=1)]\n",
    "valid_df = temp_df[~temp_df.isin([-180.17578125]).any(axis=1)]\n",
    "valid_df = valid_df.reset_index(drop=True)\n",
    "print('Valid:',len(valid_df))\n",
    "print('Removed:', len(df)-len(valid_df))\n",
    "valid_df.head()"
   ]
  },
  {
   "cell_type": "code",
   "execution_count": 4,
   "id": "02659931-ce76-4f3d-ae84-25792aac4dd6",
   "metadata": {
    "tags": []
   },
   "outputs": [
    {
     "name": "stdout",
     "output_type": "stream",
     "text": [
      "Valid: 72621\n"
     ]
    }
   ],
   "source": [
    "# X_c_l\n",
    "lower_bound = -1.25\n",
    "upper_bound = 1.25\n",
    "valid_df = valid_df[(valid_df['x_c_l'] >= lower_bound) & (valid_df['x_c_l'] <= upper_bound)]\n",
    "print('Valid:',len(valid_df))"
   ]
  },
  {
   "cell_type": "code",
   "execution_count": 5,
   "id": "a30c4f22-c0fd-4b52-8d58-3cc40219de13",
   "metadata": {
    "tags": []
   },
   "outputs": [
    {
     "name": "stdout",
     "output_type": "stream",
     "text": [
      "Valid: 72551\n"
     ]
    }
   ],
   "source": [
    "# X_c_r\n",
    "lower_bound = -1.25\n",
    "upper_bound = 1.25\n",
    "valid_df = valid_df[(valid_df['x_c_r'] >= lower_bound) & (valid_df['x_c_r'] <= upper_bound)]\n",
    "print('Valid:',len(valid_df))"
   ]
  },
  {
   "cell_type": "code",
   "execution_count": 6,
   "id": "774e6530-bb8f-4512-a88d-02a7385d4a00",
   "metadata": {
    "tags": []
   },
   "outputs": [
    {
     "name": "stdout",
     "output_type": "stream",
     "text": [
      "Valid: 72538\n"
     ]
    }
   ],
   "source": [
    "# Y_c_l\n",
    "lower_bound = -1.0\n",
    "upper_bound = 0.5\n",
    "valid_df = valid_df[(valid_df['y_c_l'] >= lower_bound) & (valid_df['y_c_l'] <= upper_bound)]\n",
    "print('Valid:',len(valid_df))"
   ]
  },
  {
   "cell_type": "code",
   "execution_count": 7,
   "id": "d3feaecb-1f6d-4b12-857b-c390462ea602",
   "metadata": {
    "tags": []
   },
   "outputs": [
    {
     "name": "stdout",
     "output_type": "stream",
     "text": [
      "Valid: 72533\n"
     ]
    }
   ],
   "source": [
    "# Y_c_r\n",
    "lower_bound = -1.25\n",
    "upper_bound = 0.5\n",
    "valid_df = valid_df[(valid_df['y_c_r'] >= lower_bound) & (valid_df['y_c_r'] <= upper_bound)]\n",
    "print('Valid:',len(valid_df))"
   ]
  },
  {
   "cell_type": "code",
   "execution_count": 8,
   "id": "7383e04b-2f92-41e0-ab30-9751c4791afa",
   "metadata": {
    "tags": []
   },
   "outputs": [
    {
     "name": "stdout",
     "output_type": "stream",
     "text": [
      "Final: 72533\n",
      "Removed: 1717\n"
     ]
    },
    {
     "data": {
      "text/html": [
       "<div>\n",
       "<style scoped>\n",
       "    .dataframe tbody tr th:only-of-type {\n",
       "        vertical-align: middle;\n",
       "    }\n",
       "\n",
       "    .dataframe tbody tr th {\n",
       "        vertical-align: top;\n",
       "    }\n",
       "\n",
       "    .dataframe thead th {\n",
       "        text-align: right;\n",
       "    }\n",
       "</style>\n",
       "<table border=\"1\" class=\"dataframe\">\n",
       "  <thead>\n",
       "    <tr style=\"text-align: right;\">\n",
       "      <th></th>\n",
       "      <th>x_c_l</th>\n",
       "      <th>y_c_l</th>\n",
       "      <th>z_c_l</th>\n",
       "      <th>x_c_r</th>\n",
       "      <th>y_c_r</th>\n",
       "      <th>z_c_r</th>\n",
       "      <th>cmd_theta_lower_neck_pan</th>\n",
       "      <th>cmd_theta_lower_neck_tilt</th>\n",
       "      <th>cmd_theta_upper_neck_tilt</th>\n",
       "      <th>cmd_theta_left_eye_pan</th>\n",
       "      <th>...</th>\n",
       "      <th>l_rvec_2</th>\n",
       "      <th>l_tvec_0</th>\n",
       "      <th>l_tvec_1</th>\n",
       "      <th>l_tvec_2</th>\n",
       "      <th>r_rvec_0</th>\n",
       "      <th>r_rvec_1</th>\n",
       "      <th>r_rvec_2</th>\n",
       "      <th>r_tvec_0</th>\n",
       "      <th>r_tvec_1</th>\n",
       "      <th>r_tvec_2</th>\n",
       "    </tr>\n",
       "  </thead>\n",
       "  <tbody>\n",
       "    <tr>\n",
       "      <th>0</th>\n",
       "      <td>-0.873669</td>\n",
       "      <td>-0.334702</td>\n",
       "      <td>0.738088</td>\n",
       "      <td>-1.166921</td>\n",
       "      <td>-0.352033</td>\n",
       "      <td>0.738508</td>\n",
       "      <td>-35</td>\n",
       "      <td>-10</td>\n",
       "      <td>-10</td>\n",
       "      <td>-14</td>\n",
       "      <td>...</td>\n",
       "      <td>0.040561</td>\n",
       "      <td>-0.058313</td>\n",
       "      <td>-0.220058</td>\n",
       "      <td>-0.025247</td>\n",
       "      <td>0.156209</td>\n",
       "      <td>-0.749052</td>\n",
       "      <td>0.049460</td>\n",
       "      <td>-0.006449</td>\n",
       "      <td>-0.216973</td>\n",
       "      <td>0.003556</td>\n",
       "    </tr>\n",
       "    <tr>\n",
       "      <th>1</th>\n",
       "      <td>-0.821681</td>\n",
       "      <td>-0.331576</td>\n",
       "      <td>0.738000</td>\n",
       "      <td>-0.997318</td>\n",
       "      <td>-0.340332</td>\n",
       "      <td>0.738221</td>\n",
       "      <td>-35</td>\n",
       "      <td>-10</td>\n",
       "      <td>-10</td>\n",
       "      <td>-12</td>\n",
       "      <td>...</td>\n",
       "      <td>0.040659</td>\n",
       "      <td>-0.056857</td>\n",
       "      <td>-0.221480</td>\n",
       "      <td>-0.025029</td>\n",
       "      <td>0.153847</td>\n",
       "      <td>-0.675968</td>\n",
       "      <td>0.049134</td>\n",
       "      <td>-0.006025</td>\n",
       "      <td>-0.218582</td>\n",
       "      <td>0.003275</td>\n",
       "    </tr>\n",
       "    <tr>\n",
       "      <th>2</th>\n",
       "      <td>-0.731501</td>\n",
       "      <td>-0.324165</td>\n",
       "      <td>0.738176</td>\n",
       "      <td>-0.868484</td>\n",
       "      <td>-0.332085</td>\n",
       "      <td>0.738360</td>\n",
       "      <td>-35</td>\n",
       "      <td>-10</td>\n",
       "      <td>-10</td>\n",
       "      <td>-10</td>\n",
       "      <td>...</td>\n",
       "      <td>0.044023</td>\n",
       "      <td>-0.057698</td>\n",
       "      <td>-0.221366</td>\n",
       "      <td>-0.024965</td>\n",
       "      <td>0.151740</td>\n",
       "      <td>-0.609258</td>\n",
       "      <td>0.051079</td>\n",
       "      <td>-0.005431</td>\n",
       "      <td>-0.218897</td>\n",
       "      <td>0.004023</td>\n",
       "    </tr>\n",
       "    <tr>\n",
       "      <th>3</th>\n",
       "      <td>-0.672994</td>\n",
       "      <td>-0.320809</td>\n",
       "      <td>0.737795</td>\n",
       "      <td>-0.776648</td>\n",
       "      <td>-0.327031</td>\n",
       "      <td>0.737932</td>\n",
       "      <td>-35</td>\n",
       "      <td>-10</td>\n",
       "      <td>-10</td>\n",
       "      <td>-8</td>\n",
       "      <td>...</td>\n",
       "      <td>0.046952</td>\n",
       "      <td>-0.056153</td>\n",
       "      <td>-0.220476</td>\n",
       "      <td>-0.023398</td>\n",
       "      <td>0.152025</td>\n",
       "      <td>-0.553739</td>\n",
       "      <td>0.053352</td>\n",
       "      <td>-0.005492</td>\n",
       "      <td>-0.217724</td>\n",
       "      <td>0.003949</td>\n",
       "    </tr>\n",
       "    <tr>\n",
       "      <th>4</th>\n",
       "      <td>-0.613507</td>\n",
       "      <td>-0.317492</td>\n",
       "      <td>0.737656</td>\n",
       "      <td>-0.690487</td>\n",
       "      <td>-0.321762</td>\n",
       "      <td>0.737752</td>\n",
       "      <td>-35</td>\n",
       "      <td>-10</td>\n",
       "      <td>-10</td>\n",
       "      <td>-6</td>\n",
       "      <td>...</td>\n",
       "      <td>0.050062</td>\n",
       "      <td>-0.054760</td>\n",
       "      <td>-0.220760</td>\n",
       "      <td>-0.024545</td>\n",
       "      <td>0.150643</td>\n",
       "      <td>-0.494342</td>\n",
       "      <td>0.055436</td>\n",
       "      <td>-0.005764</td>\n",
       "      <td>-0.217606</td>\n",
       "      <td>0.003346</td>\n",
       "    </tr>\n",
       "  </tbody>\n",
       "</table>\n",
       "<p>5 rows × 32 columns</p>\n",
       "</div>"
      ],
      "text/plain": [
       "      x_c_l     y_c_l     z_c_l     x_c_r     y_c_r     z_c_r   \n",
       "0 -0.873669 -0.334702  0.738088 -1.166921 -0.352033  0.738508  \\\n",
       "1 -0.821681 -0.331576  0.738000 -0.997318 -0.340332  0.738221   \n",
       "2 -0.731501 -0.324165  0.738176 -0.868484 -0.332085  0.738360   \n",
       "3 -0.672994 -0.320809  0.737795 -0.776648 -0.327031  0.737932   \n",
       "4 -0.613507 -0.317492  0.737656 -0.690487 -0.321762  0.737752   \n",
       "\n",
       "   cmd_theta_lower_neck_pan  cmd_theta_lower_neck_tilt   \n",
       "0                       -35                        -10  \\\n",
       "1                       -35                        -10   \n",
       "2                       -35                        -10   \n",
       "3                       -35                        -10   \n",
       "4                       -35                        -10   \n",
       "\n",
       "   cmd_theta_upper_neck_tilt  cmd_theta_left_eye_pan  ...  l_rvec_2  l_tvec_0   \n",
       "0                        -10                     -14  ...  0.040561 -0.058313  \\\n",
       "1                        -10                     -12  ...  0.040659 -0.056857   \n",
       "2                        -10                     -10  ...  0.044023 -0.057698   \n",
       "3                        -10                      -8  ...  0.046952 -0.056153   \n",
       "4                        -10                      -6  ...  0.050062 -0.054760   \n",
       "\n",
       "   l_tvec_1  l_tvec_2  r_rvec_0  r_rvec_1  r_rvec_2  r_tvec_0  r_tvec_1   \n",
       "0 -0.220058 -0.025247  0.156209 -0.749052  0.049460 -0.006449 -0.216973  \\\n",
       "1 -0.221480 -0.025029  0.153847 -0.675968  0.049134 -0.006025 -0.218582   \n",
       "2 -0.221366 -0.024965  0.151740 -0.609258  0.051079 -0.005431 -0.218897   \n",
       "3 -0.220476 -0.023398  0.152025 -0.553739  0.053352 -0.005492 -0.217724   \n",
       "4 -0.220760 -0.024545  0.150643 -0.494342  0.055436 -0.005764 -0.217606   \n",
       "\n",
       "   r_tvec_2  \n",
       "0  0.003556  \n",
       "1  0.003275  \n",
       "2  0.004023  \n",
       "3  0.003949  \n",
       "4  0.003346  \n",
       "\n",
       "[5 rows x 32 columns]"
      ]
     },
     "execution_count": 8,
     "metadata": {},
     "output_type": "execute_result"
    }
   ],
   "source": [
    "# Filtered df\n",
    "filtered_df = valid_df.reset_index(drop=True)\n",
    "print(\"Final:\",len(filtered_df))\n",
    "print(\"Removed:\",len(df)-len(filtered_df))\n",
    "filtered_df.head()"
   ]
  },
  {
   "cell_type": "code",
   "execution_count": 9,
   "id": "75dccc0e-794c-43a9-ba61-6e5cbf4763cc",
   "metadata": {
    "tags": []
   },
   "outputs": [
    {
     "data": {
      "image/png": "[encoded data removed]",
      "text/plain": [
       "<Figure size 1400x600 with 36 Axes>"
      ]
     },
     "metadata": {},
     "output_type": "display_data"
    }
   ],
   "source": [
    "filtered_df.hist(figsize=(14,6))\n",
    "# Adjust spacing\n",
    "plt.subplots_adjust(hspace=0.8, wspace=0.3)"
   ]
  },
  {
   "cell_type": "markdown",
   "id": "8e38c74b-4f23-4c34-8919-8b0ff0358a9f",
   "metadata": {},
   "source": [
    "# Inverse the Pose"
   ]
  },
  {
   "cell_type": "markdown",
   "id": "f7e4fd9e-0c6e-405f-aaca-05d3a2b4eefb",
   "metadata": {},
   "source": [
    "## Left Eye Camera"
   ]
  },
  {
   "cell_type": "code",
   "execution_count": 10,
   "id": "06111068-66ed-4182-9243-cda6087e5789",
   "metadata": {
    "tags": []
   },
   "outputs": [
    {
     "name": "stdout",
     "output_type": "stream",
     "text": [
      "(72533, 6)\n"
     ]
    }
   ],
   "source": [
    "# Getting the Data\n",
    "left_data_arr = filtered_df[['l_rvec_0','l_rvec_1','l_rvec_2',\n",
    "                                 'l_tvec_0','l_tvec_1','l_tvec_2']].to_numpy()\n",
    "print(left_data_arr.shape)"
   ]
  },
  {
   "cell_type": "code",
   "execution_count": 11,
   "id": "4a0fdf3e-059c-4950-97a4-1b6c2c89fe87",
   "metadata": {
    "tags": []
   },
   "outputs": [
    {
     "name": "stdout",
     "output_type": "stream",
     "text": [
      "(72533, 6)\n"
     ]
    }
   ],
   "source": [
    "# Computation\n",
    "left_rvec_tvec_list = []\n",
    "for i in range(left_data_arr.shape[0]):\n",
    "    temp_arr = np.eye(4)\n",
    "    rot_mat, _ = cv2.Rodrigues(left_data_arr[i,:3])\n",
    "    temp_arr[:3,:3] = rot_mat\n",
    "    temp_arr[:3,3] = left_data_arr[i,3:]\n",
    "    inv_arr = np.linalg.inv(temp_arr)\n",
    "    l_rvec,_ = cv2.Rodrigues(inv_arr[:3,:3])\n",
    "    l_rvec_tvec = np.concatenate([l_rvec.flatten(), inv_arr[:3,3].flatten()])\n",
    "    left_rvec_tvec_list.append(l_rvec_tvec)\n",
    "left_rvec_tvec_arr = np.array(left_rvec_tvec_list)\n",
    "print(left_rvec_tvec_arr.shape)"
   ]
  },
  {
   "cell_type": "markdown",
   "id": "ab08cb92-9aba-439e-aae4-c24d239659a3",
   "metadata": {},
   "source": [
    "## Right Eye Camera"
   ]
  },
  {
   "cell_type": "code",
   "execution_count": 12,
   "id": "3cd63262-829e-488a-979d-e6f193a5dc16",
   "metadata": {
    "tags": []
   },
   "outputs": [
    {
     "name": "stdout",
     "output_type": "stream",
     "text": [
      "(72533, 6)\n"
     ]
    }
   ],
   "source": [
    "# Getting the Data\n",
    "right_data_arr = filtered_df[['r_rvec_0','r_rvec_1','r_rvec_2',\n",
    "                                   'r_tvec_0','r_tvec_1','r_tvec_2']].to_numpy()\n",
    "print(right_data_arr.shape)"
   ]
  },
  {
   "cell_type": "code",
   "execution_count": 13,
   "id": "7e9d39b1-df32-4703-9bac-142dc16e98e4",
   "metadata": {
    "tags": []
   },
   "outputs": [
    {
     "name": "stdout",
     "output_type": "stream",
     "text": [
      "(72533, 6)\n"
     ]
    }
   ],
   "source": [
    "# Computation\n",
    "right_rvec_tvec_list = []\n",
    "for i in range(right_data_arr.shape[0]):\n",
    "    temp_arr = np.eye(4)\n",
    "    rot_mat, _ = cv2.Rodrigues(right_data_arr[i,:3])\n",
    "    temp_arr[:3,:3] = rot_mat\n",
    "    temp_arr[:3,3] = right_data_arr[i,3:]\n",
    "    inv_arr = np.linalg.inv(temp_arr)\n",
    "    r_rvec,_ = cv2.Rodrigues(inv_arr[:3,:3])\n",
    "    r_rvec_tvec = np.concatenate([r_rvec.flatten(), inv_arr[:3,3].flatten()])\n",
    "    right_rvec_tvec_list.append(r_rvec_tvec)\n",
    "right_rvec_tvec_arr = np.array(right_rvec_tvec_list)\n",
    "print(right_rvec_tvec_arr.shape)"
   ]
  },
  {
   "cell_type": "markdown",
   "id": "5ccf9f55-84b1-4048-871d-eff274ba03cd",
   "metadata": {},
   "source": [
    "## Changing the Values in the DataFrame"
   ]
  },
  {
   "cell_type": "code",
   "execution_count": 14,
   "id": "ff275704-5c94-431a-9034-eddc9bd3487c",
   "metadata": {
    "tags": []
   },
   "outputs": [],
   "source": [
    "saved_df = filtered_df.copy()\n",
    "\n",
    "saved_df['l_rvec_0'] = left_rvec_tvec_arr[:,0]\n",
    "saved_df['l_rvec_1'] = left_rvec_tvec_arr[:,1]\n",
    "saved_df['l_rvec_2'] = left_rvec_tvec_arr[:,2]\n",
    "saved_df['l_tvec_0'] = left_rvec_tvec_arr[:,3]\n",
    "saved_df['l_tvec_1'] = left_rvec_tvec_arr[:,4]\n",
    "saved_df['l_tvec_2'] = left_rvec_tvec_arr[:,5]\n",
    "\n",
    "saved_df['r_rvec_0'] = right_rvec_tvec_arr[:,0]\n",
    "saved_df['r_rvec_1'] = right_rvec_tvec_arr[:,1]\n",
    "saved_df['r_rvec_2'] = right_rvec_tvec_arr[:,2]\n",
    "saved_df['r_tvec_0'] = right_rvec_tvec_arr[:,3]\n",
    "saved_df['r_tvec_1'] = right_rvec_tvec_arr[:,4]\n",
    "saved_df['r_tvec_2'] = right_rvec_tvec_arr[:,5]"
   ]
  },
  {
   "cell_type": "markdown",
   "id": "4104e0cc-1bda-4681-93a5-833a6a638a27",
   "metadata": {},
   "source": [
    "# Saving the Final CSV"
   ]
  },
  {
   "cell_type": "code",
   "execution_count": 15,
   "id": "9f9c5b9f-6c5e-40ed-91cd-d6bd38c6765b",
   "metadata": {},
   "outputs": [
    {
     "name": "stdout",
     "output_type": "stream",
     "text": [
      "Saved to: /home/jaynieles/dev/grace_dl/notebooks/../data/final/240927_075m_grace_dataset.csv\n"
     ]
    }
   ],
   "source": [
    "data_dir = 'final'\n",
    "filepath = os.path.join(os.getcwd(),\"..\",\"data\", data_dir, \"240927_075m_grace_dataset.csv\")\n",
    "saved_df.to_csv(filepath, index=False)\n",
    "print('Saved to:', filepath)"
   ]
  },
  {
   "cell_type": "code",
   "execution_count": null,
   "id": "fb245389-d533-4bf6-8148-35d57428544c",
   "metadata": {},
   "outputs": [],
   "source": []
  }
 ],
 "metadata": {
  "kernelspec": {
   "display_name": "Python 3 (ipykernel)",
   "language": "python",
   "name": "python3"
  },
  "language_info": {
   "codemirror_mode": {
    "name": "ipython",
    "version": 3
   },
   "file_extension": ".py",
   "mimetype": "text/x-python",
   "name": "python",
   "nbconvert_exporter": "python",
   "pygments_lexer": "ipython3",
   "version": "3.8.10"
  }
 },
 "nbformat": 4,
 "nbformat_minor": 5
}
