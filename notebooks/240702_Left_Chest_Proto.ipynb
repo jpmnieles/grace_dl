{
 "cells": [
  {
   "cell_type": "markdown",
   "id": "63643fa4-4794-44ad-a7f5-fb8d36425e22",
   "metadata": {},
   "source": [
    "# Import"
   ]
  },
  {
   "cell_type": "code",
   "execution_count": null,
   "id": "21b2ef98-48b2-47a3-bbf7-331f25f11635",
   "metadata": {},
   "outputs": [],
   "source": [
    "import os\n",
    "import sys\n",
    "sys.path.append(os.path.dirname(os.getcwd()))\n",
    "\n",
    "from typing import Any, Dict, Optional, Tuple\n",
    "\n",
    "import pandas as pd\n",
    "import numpy as np\n",
    "\n",
    "import torch\n",
    "from torch import nn\n",
    "\n",
    "import lightning as L\n",
    "from lightning import LightningDataModule\n",
    "from torch.utils.data import TensorDataset, ConcatDataset, DataLoader, Dataset, random_split\n",
    "from torchvision.datasets import MNIST\n",
    "from torchvision.transforms import transforms\n",
    "\n",
    "from lightning import LightningModule\n",
    "from torchmetrics import MinMetric, MeanMetric\n",
    "from torch.nn.functional import mse_loss\n",
    "from torchmetrics.classification.accuracy import Accuracy"
   ]
  },
  {
   "cell_type": "markdown",
   "id": "de74f681-571d-4153-aca8-730b0dca9472",
   "metadata": {},
   "source": [
    "# Model"
   ]
  },
  {
   "cell_type": "code",
   "execution_count": null,
   "id": "14325890-4bae-4c55-93d9-dfa995d787af",
   "metadata": {},
   "outputs": [],
   "source": [
    "class SimpleDenseNet(nn.Module):\n",
    "    \"\"\"A simple fully-connected neural net for computing predictions.\"\"\"\n",
    "\n",
    "    def __init__(\n",
    "        self,\n",
    "        input_size: int = 6,\n",
    "        lin1_size: int = 64,\n",
    "        lin2_size: int = 64,\n",
    "        lin3_size: int = 64,\n",
    "        output_size: int = 2,\n",
    "    ) -> None:\n",
    "        \"\"\"Initialize a `SimpleDenseNet` module.\n",
    "\n",
    "        :param input_size: The number of input features.\n",
    "        :param lin1_size: The number of output features of the first linear layer.\n",
    "        :param lin2_size: The number of output features of the second linear layer.\n",
    "        :param lin3_size: The number of output features of the third linear layer.\n",
    "        :param output_size: The number of output features of the final linear layer.\n",
    "        \"\"\"\n",
    "        super().__init__()\n",
    "\n",
    "        self.model = nn.Sequential(\n",
    "            nn.Linear(input_size, lin1_size),\n",
    "            nn.BatchNorm1d(lin1_size),\n",
    "            nn.ReLU(),\n",
    "            nn.Linear(lin1_size, lin2_size),\n",
    "            nn.BatchNorm1d(lin2_size),\n",
    "            nn.ReLU(),\n",
    "            nn.Linear(lin2_size, lin3_size),\n",
    "            nn.BatchNorm1d(lin3_size),\n",
    "            nn.ReLU(),\n",
    "            nn.Linear(lin3_size, output_size),\n",
    "        )\n",
    "\n",
    "    def forward(self, x: torch.Tensor) -> torch.Tensor:\n",
    "        \"\"\"Perform a single forward pass through the network.\n",
    "\n",
    "        :param x: The input tensor.\n",
    "        :return: A tensor of predictions.\n",
    "        \"\"\"\n",
    "        batch_size, features = x.size()\n",
    "\n",
    "        # (batch, 1, width, height) -> (batch, 1*width*height)\n",
    "        x = x.view(batch_size, -1)\n",
    "\n",
    "        return self.model(x)\n"
   ]
  },
  {
   "cell_type": "markdown",
   "id": "f742558c-c446-4d04-beb9-8caaa80dd079",
   "metadata": {},
   "source": [
    "# [Test] Dataset"
   ]
  },
  {
   "cell_type": "markdown",
   "id": "f858dadd-f171-4ee0-bde9-709971ac7147",
   "metadata": {},
   "source": [
    "## Loading Dataset"
   ]
  },
  {
   "cell_type": "code",
   "execution_count": null,
   "id": "3c129a64-4a42-4bcf-b308-cba2de96aa54",
   "metadata": {},
   "outputs": [],
   "source": [
    "# Input\n",
    "\n",
    "filename = 'dataset_left_chest_20240627_162502_402545.csv'"
   ]
  },
  {
   "cell_type": "code",
   "execution_count": null,
   "id": "c80ea3f1-8c90-4b76-b8f5-02f5e05edd92",
   "metadata": {},
   "outputs": [],
   "source": [
    "# Pandas Dataframe\n",
    "\n",
    "csv_path = os.path.join(os.path.dirname(os.getcwd()),'data',filename)\n",
    "df = pd.read_csv(csv_path)\n",
    "print(len(df))\n",
    "df.head()"
   ]
  },
  {
   "cell_type": "markdown",
   "id": "2b86359a-f9c3-4386-859d-6c906df58b76",
   "metadata": {},
   "source": [
    "## Separation of Training and Validation Set"
   ]
  },
  {
   "cell_type": "code",
   "execution_count": null,
   "id": "52946e5e-7906-4600-8196-2ddd3680100d",
   "metadata": {},
   "outputs": [],
   "source": [
    "# Unique Motor Commands\n",
    "\n",
    "unq_theta_left_pan_cmd = df['theta_left_pan_cmd_tminus1'].unique()\n",
    "unq_theta_tilt_cmd = df['theta_tilt_cmd_tminus1'].unique()\n",
    "\n",
    "print('unq_theta_left_pan_cmd:', unq_theta_left_pan_cmd)\n",
    "print('unq_theta_tilt_cmd:', unq_theta_tilt_cmd)"
   ]
  },
  {
   "cell_type": "code",
   "execution_count": null,
   "id": "4d3644fe-ba7a-450d-b51f-1fd439ee78a9",
   "metadata": {},
   "outputs": [],
   "source": [
    "# Separation of Training and Validation Set\n",
    "\n",
    "# Define the list of choices\n",
    "val_theta_left_pan = [-14,-10,-6,-2, 2, 6, 10, 14]\n",
    "train_theta_left_pan = sorted(list(set(unq_theta_left_pan_cmd) - set(val_theta_left_pan)))\n",
    "\n",
    "print('train_theta_left_pan:', train_theta_left_pan)\n",
    "print('val_theta_left_pan:', val_theta_left_pan)"
   ]
  },
  {
   "cell_type": "code",
   "execution_count": null,
   "id": "e630887c-a8ba-46ab-ba65-ae0600847550",
   "metadata": {},
   "outputs": [],
   "source": [
    "# Training Set\n",
    "\n",
    "train_df = df[df['theta_left_pan_cmd_tminus1'].isin(train_theta_left_pan)].reset_index(drop=True)\n",
    "print(len(train_df))\n",
    "train_df.head()"
   ]
  },
  {
   "cell_type": "code",
   "execution_count": null,
   "id": "6a6f26a7-75e4-4c33-922b-ac43b8dd3613",
   "metadata": {},
   "outputs": [],
   "source": [
    "# Validation Set\n",
    "\n",
    "val_df = df[df['theta_left_pan_cmd_tminus1'].isin(val_theta_left_pan)].reset_index(drop=True)\n",
    "print(len(val_df))\n",
    "val_df.head()"
   ]
  },
  {
   "cell_type": "markdown",
   "id": "aa7452ad-46cf-469c-862f-528323005027",
   "metadata": {},
   "source": [
    "## Preprocessing"
   ]
  },
  {
   "cell_type": "code",
   "execution_count": null,
   "id": "299ca484-22d1-4e73-829b-238abcf9acb0",
   "metadata": {},
   "outputs": [],
   "source": [
    "# Train Set Motor Command Conversion (deg -> rad)\n",
    "\n",
    "train_df.iloc[:,3:8] = train_df.iloc[:,3:8].apply(np.radians)\n",
    "train_df.head()"
   ]
  },
  {
   "cell_type": "code",
   "execution_count": null,
   "id": "954afbd0-4e8c-4278-932f-6f6bdfce3a3f",
   "metadata": {},
   "outputs": [],
   "source": [
    "# Validation Set Motor Command Conversion (deg -> rad)\n",
    "\n",
    "val_df.iloc[:,3:8] = val_df.iloc[:,3:8].apply(np.radians)\n",
    "val_df.head()"
   ]
  },
  {
   "cell_type": "markdown",
   "id": "cb9cfe17-dbef-43f7-91c8-9408f7599a4a",
   "metadata": {},
   "source": [
    "## Datamodule"
   ]
  },
  {
   "cell_type": "code",
   "execution_count": null,
   "id": "2d536385-0636-4216-a908-f2d4c24f34da",
   "metadata": {},
   "outputs": [],
   "source": [
    "# Input\n",
    "\n",
    "batch_size = 32"
   ]
  },
  {
   "cell_type": "markdown",
   "id": "2257600c-30a1-44aa-9373-a52bea715cc4",
   "metadata": {},
   "source": [
    "### Training Set"
   ]
  },
  {
   "cell_type": "code",
   "execution_count": null,
   "id": "67a1ada4-7e84-4bab-8f9f-b63dfd4d5849",
   "metadata": {},
   "outputs": [],
   "source": [
    "# Convert the DataFrame to PyTorch tensors\n",
    "X = torch.tensor(train_df.iloc[:,:6].values, dtype=torch.float32)\n",
    "y = torch.tensor(train_df.iloc[:,6:8].values, dtype=torch.float32)\n",
    "\n",
    "# Create a PyTorch dataset\n",
    "train_dataset = TensorDataset(X, y)\n",
    "\n",
    "# Create a PyTorch data loader\n",
    "train_loader = DataLoader(train_dataset, batch_size=batch_size, shuffle=True, num_workers=31)"
   ]
  },
  {
   "cell_type": "markdown",
   "id": "6771021c-5925-47c1-9d25-6e94314ae3ac",
   "metadata": {},
   "source": [
    "### Validation Set"
   ]
  },
  {
   "cell_type": "code",
   "execution_count": null,
   "id": "20573c56-e5e0-4f8a-8200-37f15016cf08",
   "metadata": {},
   "outputs": [],
   "source": [
    "# Convert the DataFrame to PyTorch tensors\n",
    "X = torch.tensor(val_df.iloc[:,:6].values, dtype=torch.float32)\n",
    "y = torch.tensor(val_df.iloc[:,6:8].values, dtype=torch.float32)\n",
    "\n",
    "# Create a PyTorch dataset\n",
    "val_dataset = TensorDataset(X, y)\n",
    "\n",
    "# Create a PyTorch data loader\n",
    "val_loader = DataLoader(val_dataset, batch_size=batch_size, shuffle=False, num_workers=31)"
   ]
  },
  {
   "cell_type": "markdown",
   "id": "fd65c042-1400-49fb-83d8-bc04413966d4",
   "metadata": {},
   "source": [
    "# Lightning Datamodule"
   ]
  },
  {
   "cell_type": "code",
   "execution_count": null,
   "id": "374fa52a-c547-444a-b8d0-a993efb845e5",
   "metadata": {},
   "outputs": [],
   "source": [
    "class LeftChestLitModule(LightningModule):\n",
    "    \"\"\"Example of a `LightningModule` for MNIST classification.\n",
    "\n",
    "    A `LightningModule` implements 8 key methods:\n",
    "\n",
    "    ```python\n",
    "    def __init__(self):\n",
    "    # Define initialization code here.\n",
    "\n",
    "    def setup(self, stage):\n",
    "    # Things to setup before each stage, 'fit', 'validate', 'test', 'predict'.\n",
    "    # This hook is called on every process when using DDP.\n",
    "\n",
    "    def training_step(self, batch, batch_idx):\n",
    "    # The complete training step.\n",
    "\n",
    "    def validation_step(self, batch, batch_idx):\n",
    "    # The complete validation step.\n",
    "\n",
    "    def test_step(self, batch, batch_idx):\n",
    "    # The complete test step.\n",
    "\n",
    "    def predict_step(self, batch, batch_idx):\n",
    "    # The complete predict step.\n",
    "\n",
    "    def configure_optimizers(self):\n",
    "    # Define and configure optimizers and LR schedulers.\n",
    "    ```\n",
    "\n",
    "    Docs:\n",
    "        https://lightning.ai/docs/pytorch/latest/common/lightning_module.html\n",
    "    \"\"\"\n",
    "\n",
    "    def __init__(\n",
    "        self,\n",
    "        net: torch.nn.Module,\n",
    "        optimizer: torch.optim.Optimizer,\n",
    "        scheduler: torch.optim.lr_scheduler,\n",
    "        compile: bool,\n",
    "    ) -> None:\n",
    "        \"\"\"Initialize a `MNISTLitModule`.\n",
    "\n",
    "        :param net: The model to train.\n",
    "        :param optimizer: The optimizer to use for training.\n",
    "        :param scheduler: The learning rate scheduler to use for training.\n",
    "        \"\"\"\n",
    "        super().__init__()\n",
    "\n",
    "        # this line allows to access init params with 'self.hparams' attribute\n",
    "        # also ensures init params will be stored in ckpt\n",
    "        self.save_hyperparameters(logger=False)\n",
    "\n",
    "        self.net = net\n",
    "\n",
    "        # loss function\n",
    "        self.criterion = mse_loss\n",
    "\n",
    "        # for averaging loss across batches\n",
    "        self.train_loss = MeanMetric()\n",
    "        self.val_loss = MeanMetric()\n",
    "        self.test_loss = MeanMetric()\n",
    "\n",
    "        # for tracking best so far validation accuracy\n",
    "        self.val_loss_best = MinMetric()\n",
    "\n",
    "    def forward(self, x: torch.Tensor) -> torch.Tensor:\n",
    "        \"\"\"Perform a forward pass through the model `self.net`.\n",
    "\n",
    "        :param x: A tensor of images.\n",
    "        :return: A tensor of logits.\n",
    "        \"\"\"\n",
    "        return self.net(x)\n",
    "\n",
    "    def on_train_start(self) -> None:\n",
    "        \"\"\"Lightning hook that is called when training begins.\"\"\"\n",
    "        # by default lightning executes validation step sanity checks before training starts,\n",
    "        # so it's worth to make sure validation metrics don't store results from these checks\n",
    "        self.val_loss.reset()\n",
    "        self.val_loss_best.reset()\n",
    "\n",
    "    def model_step(\n",
    "        self, batch: Tuple[torch.Tensor, torch.Tensor]\n",
    "    ) -> Tuple[torch.Tensor, torch.Tensor, torch.Tensor]:\n",
    "        \"\"\"Perform a single model step on a batch of data.\n",
    "\n",
    "        :param batch: A batch of data (a tuple) containing the input tensor of images and target labels.\n",
    "\n",
    "        :return: A tuple containing (in order):\n",
    "            - A tensor of losses.\n",
    "            - A tensor of predictions.\n",
    "            - A tensor of target labels.\n",
    "        \"\"\"\n",
    "        x, y = batch\n",
    "        preds = self.forward(x)\n",
    "        loss = self.criterion(preds, y)\n",
    "        return loss, preds, y\n",
    "\n",
    "    def training_step(\n",
    "        self, batch: Tuple[torch.Tensor, torch.Tensor], batch_idx: int\n",
    "    ) -> torch.Tensor:\n",
    "        \"\"\"Perform a single training step on a batch of data from the training set.\n",
    "\n",
    "        :param batch: A batch of data (a tuple) containing the input tensor of images and target\n",
    "            labels.\n",
    "        :param batch_idx: The index of the current batch.\n",
    "        :return: A tensor of losses between model predictions and targets.\n",
    "        \"\"\"\n",
    "        loss, preds, targets = self.model_step(batch)\n",
    "\n",
    "        # update and log metrics\n",
    "        self.train_loss(loss)\n",
    "        self.log(\"train/loss\", self.train_loss, on_step=False, on_epoch=True, prog_bar=True)\n",
    "\n",
    "        # return loss or backpropagation will fail\n",
    "        return loss\n",
    "\n",
    "    def on_train_epoch_end(self) -> None:\n",
    "        \"Lightning hook that is called when a training epoch ends.\"\n",
    "        pass\n",
    "\n",
    "    def validation_step(self, batch: Tuple[torch.Tensor, torch.Tensor], batch_idx: int) -> None:\n",
    "        \"\"\"Perform a single validation step on a batch of data from the validation set.\n",
    "\n",
    "        :param batch: A batch of data (a tuple) containing the input tensor of images and target\n",
    "            labels.\n",
    "        :param batch_idx: The index of the current batch.\n",
    "        \"\"\"\n",
    "        loss, preds, targets = self.model_step(batch)\n",
    "\n",
    "        # update and log metrics\n",
    "        self.val_loss(loss)\n",
    "        # print(\"val/loss:\", self.val_loss.compute())  # print\n",
    "        self.log(\"val/loss\", self.val_loss, on_step=False, on_epoch=True, prog_bar=True)\n",
    "\n",
    "    def on_validation_epoch_end(self) -> None:\n",
    "        \"Lightning hook that is called when a validation epoch ends.\"\n",
    "        loss = self.val_loss.compute()  # get current val acc\n",
    "        self.val_loss_best(loss)  # update best so far val acc\n",
    "        # log `val_acc_best` as a value through `.compute()` method, instead of as a metric object\n",
    "        # otherwise metric would be reset by lightning after each epoch\n",
    "        print(\"val/loss_best:\", self.val_loss_best.compute())  # print\n",
    "        self.log(\"val/loss_best\", self.val_loss_best.compute(), sync_dist=True, prog_bar=True)\n",
    "\n",
    "    def test_step(self, batch: Tuple[torch.Tensor, torch.Tensor], batch_idx: int) -> None:\n",
    "        \"\"\"Perform a single test step on a batch of data from the test set.\n",
    "\n",
    "        :param batch: A batch of data (a tuple) containing the input tensor of images and target\n",
    "            labels.\n",
    "        :param batch_idx: The index of the current batch.\n",
    "        \"\"\"\n",
    "        loss, preds, targets = self.model_step(batch)\n",
    "\n",
    "        # update and log metrics\n",
    "        self.test_loss(loss)\n",
    "        self.log(\"test/loss\", self.test_loss, on_step=False, on_epoch=True, prog_bar=True)\n",
    "\n",
    "    def on_test_epoch_end(self) -> None:\n",
    "        \"\"\"Lightning hook that is called when a test epoch ends.\"\"\"\n",
    "        pass\n",
    "\n",
    "    def setup(self, stage: str) -> None:\n",
    "        \"\"\"Lightning hook that is called at the beginning of fit (train + validate), validate,\n",
    "        test, or predict.\n",
    "\n",
    "        This is a good hook when you need to build models dynamically or adjust something about\n",
    "        them. This hook is called on every process when using DDP.\n",
    "\n",
    "        :param stage: Either `\"fit\"`, `\"validate\"`, `\"test\"`, or `\"predict\"`.\n",
    "        \"\"\"\n",
    "        if self.hparams.compile and stage == \"fit\":\n",
    "            self.net = torch.compile(self.net)\n",
    "\n",
    "    def configure_optimizers(self) -> Dict[str, Any]:\n",
    "        \"\"\"Choose what optimizers and learning-rate schedulers to use in your optimization.\n",
    "        Normally you'd need one. But in the case of GANs or similar you might have multiple.\n",
    "\n",
    "        Examples:\n",
    "            https://lightning.ai/docs/pytorch/latest/common/lightning_module.html#configure-optimizers\n",
    "\n",
    "        :return: A dict containing the configured optimizers and learning-rate schedulers to be used for training.\n",
    "        \"\"\"\n",
    "        # optimizer = self.hparams.optimizer(params=self.trainer.model.parameters())\n",
    "        optimizer = torch.optim.Adam(self.parameters(), lr=1e-3)\n",
    "        if self.hparams.scheduler is not None:\n",
    "            scheduler = self.hparams.scheduler(optimizer=optimizer)\n",
    "            return {\n",
    "                \"optimizer\": optimizer,\n",
    "                \"lr_scheduler\": {\n",
    "                    \"scheduler\": scheduler,\n",
    "                    \"monitor\": \"val/loss\",\n",
    "                    \"interval\": \"epoch\",\n",
    "                    \"frequency\": 1,\n",
    "                },\n",
    "            }\n",
    "        return {\"optimizer\": optimizer}\n"
   ]
  },
  {
   "cell_type": "markdown",
   "id": "7f7f47b9-7810-4fc0-9c69-970b3f8f9d28",
   "metadata": {},
   "source": [
    "# Training"
   ]
  },
  {
   "cell_type": "code",
   "execution_count": null,
   "id": "63988676-d1e6-45de-8e6d-23f0414f7293",
   "metadata": {},
   "outputs": [],
   "source": [
    "# Iniitialization\n",
    "\n",
    "dense_net = LeftChestLitModule(SimpleDenseNet(), None, None, False)\n",
    "trainer = L.Trainer(min_epochs=1, max_epochs=100)"
   ]
  },
  {
   "cell_type": "code",
   "execution_count": null,
   "id": "a0582dcc-9248-43e4-bdad-ac7d82d16cef",
   "metadata": {},
   "outputs": [],
   "source": [
    "# Training\n",
    "\n",
    "trainer.fit(model=dense_net, train_dataloaders=train_loader, val_dataloaders=val_loader)"
   ]
  },
  {
   "cell_type": "code",
   "execution_count": null,
   "id": "26f3d9f7-a340-4943-943e-089abf229c35",
   "metadata": {},
   "outputs": [],
   "source": []
  }
 ],
 "metadata": {
  "kernelspec": {
   "display_name": "Python 3 (ipykernel)",
   "language": "python",
   "name": "python3"
  },
  "language_info": {
   "codemirror_mode": {
    "name": "ipython",
    "version": 3
   },
   "file_extension": ".py",
   "mimetype": "text/x-python",
   "name": "python",
   "nbconvert_exporter": "python",
   "pygments_lexer": "ipython3",
   "version": "3.8.10"
  }
 },
 "nbformat": 4,
 "nbformat_minor": 5
}
