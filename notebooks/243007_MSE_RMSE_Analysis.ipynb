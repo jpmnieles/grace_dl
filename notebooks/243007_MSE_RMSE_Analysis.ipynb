{
 "cells": [
  {
   "cell_type": "code",
   "execution_count": 8,
   "id": "a06e7bc0-42d8-4652-88a4-2ed5dbe3de2c",
   "metadata": {},
   "outputs": [],
   "source": [
    "import sys\n",
    "import os\n",
    "sys.path.append(os.path.join(os.getcwd(),'..'))\n",
    "\n",
    "import numpy as np\n",
    "import pandas as pd\n",
    "import matplotlib.pyplot as plt"
   ]
  },
  {
   "cell_type": "markdown",
   "id": "d4e253b5-55f0-41fc-8604-997e9e1946fb",
   "metadata": {},
   "source": [
    "# Getting MSE"
   ]
  },
  {
   "cell_type": "code",
   "execution_count": 9,
   "id": "1930d105-4ba4-488d-a1c8-876e65ccf4b5",
   "metadata": {},
   "outputs": [],
   "source": [
    "mse1_list = []\n",
    "rmse1_list = []\n",
    "for i in range(15):\n",
    "    fn = \"/home/jaynieles/dev/grace_dl/logs/hidden_exp/multiruns/2024-07-25_23-49-51/%i/tensorboard/version_0/delta_output_analysis.csv\" % (i)\n",
    "    df = pd.read_csv(fn)\n",
    "    mse = np.sum(df['delta_deg_eye_pan'].values**2)/len(df)\n",
    "    rmse = np.sqrt(np.sum(df['delta_deg_eye_pan'].values**2)/len(df))\n",
    "    mse1_list.append(mse)\n",
    "    rmse1_list.append(rmse)"
   ]
  },
  {
   "cell_type": "code",
   "execution_count": 10,
   "id": "8e85c1c9-c051-459d-9263-3fd948238d74",
   "metadata": {},
   "outputs": [],
   "source": [
    "mse2_list = []\n",
    "rmse2_list = []\n",
    "for i in range(6):\n",
    "    fn = \"/home/jaynieles/dev/grace_dl/logs/hidden_exp/multiruns/2024-07-26_02-21-12/%i/tensorboard/version_0/delta_output_analysis.csv\" % (i)\n",
    "    df = pd.read_csv(fn)\n",
    "    mse = np.sum(df['delta_deg_eye_pan'].values**2)/len(df)\n",
    "    rmse = np.sqrt(np.sum(df['delta_deg_eye_pan'].values**2)/len(df))\n",
    "    mse2_list.append(mse)\n",
    "    rmse2_list.append(rmse)"
   ]
  },
  {
   "cell_type": "markdown",
   "id": "8f5cc5ae-b06f-4030-b3a1-3f76dabadcf3",
   "metadata": {},
   "source": [
    "# Values"
   ]
  },
  {
   "cell_type": "code",
   "execution_count": 11,
   "id": "340dcf2f-5aaa-487e-80d9-e6ad2977e394",
   "metadata": {},
   "outputs": [],
   "source": [
    "df = pd.DataFrame({\n",
    "    'mse1': mse1_list + mse2_list,\n",
    "    'rmse1': rmse1_list + rmse2_list,\n",
    "})"
   ]
  },
  {
   "cell_type": "code",
   "execution_count": 12,
   "id": "7d1b9662-fd35-411f-ae89-26b7d60f4e05",
   "metadata": {},
   "outputs": [
    {
     "data": {
      "text/html": [
       "<div>\n",
       "<style scoped>\n",
       "    .dataframe tbody tr th:only-of-type {\n",
       "        vertical-align: middle;\n",
       "    }\n",
       "\n",
       "    .dataframe tbody tr th {\n",
       "        vertical-align: top;\n",
       "    }\n",
       "\n",
       "    .dataframe thead th {\n",
       "        text-align: right;\n",
       "    }\n",
       "</style>\n",
       "<table border=\"1\" class=\"dataframe\">\n",
       "  <thead>\n",
       "    <tr style=\"text-align: right;\">\n",
       "      <th></th>\n",
       "      <th>mse1</th>\n",
       "      <th>rmse1</th>\n",
       "    </tr>\n",
       "  </thead>\n",
       "  <tbody>\n",
       "    <tr>\n",
       "      <th>0</th>\n",
       "      <td>0.444207</td>\n",
       "      <td>0.666488</td>\n",
       "    </tr>\n",
       "    <tr>\n",
       "      <th>1</th>\n",
       "      <td>0.216523</td>\n",
       "      <td>0.465321</td>\n",
       "    </tr>\n",
       "    <tr>\n",
       "      <th>2</th>\n",
       "      <td>0.103388</td>\n",
       "      <td>0.321541</td>\n",
       "    </tr>\n",
       "    <tr>\n",
       "      <th>3</th>\n",
       "      <td>0.059880</td>\n",
       "      <td>0.244705</td>\n",
       "    </tr>\n",
       "    <tr>\n",
       "      <th>4</th>\n",
       "      <td>0.033472</td>\n",
       "      <td>0.182953</td>\n",
       "    </tr>\n",
       "    <tr>\n",
       "      <th>5</th>\n",
       "      <td>0.115431</td>\n",
       "      <td>0.339751</td>\n",
       "    </tr>\n",
       "    <tr>\n",
       "      <th>6</th>\n",
       "      <td>0.081410</td>\n",
       "      <td>0.285325</td>\n",
       "    </tr>\n",
       "    <tr>\n",
       "      <th>7</th>\n",
       "      <td>0.033151</td>\n",
       "      <td>0.182074</td>\n",
       "    </tr>\n",
       "    <tr>\n",
       "      <th>8</th>\n",
       "      <td>0.017587</td>\n",
       "      <td>0.132617</td>\n",
       "    </tr>\n",
       "    <tr>\n",
       "      <th>9</th>\n",
       "      <td>0.015629</td>\n",
       "      <td>0.125016</td>\n",
       "    </tr>\n",
       "    <tr>\n",
       "      <th>10</th>\n",
       "      <td>0.088330</td>\n",
       "      <td>0.297204</td>\n",
       "    </tr>\n",
       "    <tr>\n",
       "      <th>11</th>\n",
       "      <td>0.066943</td>\n",
       "      <td>0.258733</td>\n",
       "    </tr>\n",
       "    <tr>\n",
       "      <th>12</th>\n",
       "      <td>0.027136</td>\n",
       "      <td>0.164729</td>\n",
       "    </tr>\n",
       "    <tr>\n",
       "      <th>13</th>\n",
       "      <td>0.020396</td>\n",
       "      <td>0.142813</td>\n",
       "    </tr>\n",
       "    <tr>\n",
       "      <th>14</th>\n",
       "      <td>0.012993</td>\n",
       "      <td>0.113988</td>\n",
       "    </tr>\n",
       "    <tr>\n",
       "      <th>15</th>\n",
       "      <td>0.026536</td>\n",
       "      <td>0.162899</td>\n",
       "    </tr>\n",
       "    <tr>\n",
       "      <th>16</th>\n",
       "      <td>0.025205</td>\n",
       "      <td>0.158759</td>\n",
       "    </tr>\n",
       "    <tr>\n",
       "      <th>17</th>\n",
       "      <td>0.014646</td>\n",
       "      <td>0.121019</td>\n",
       "    </tr>\n",
       "    <tr>\n",
       "      <th>18</th>\n",
       "      <td>0.014952</td>\n",
       "      <td>0.122280</td>\n",
       "    </tr>\n",
       "    <tr>\n",
       "      <th>19</th>\n",
       "      <td>0.013747</td>\n",
       "      <td>0.117248</td>\n",
       "    </tr>\n",
       "    <tr>\n",
       "      <th>20</th>\n",
       "      <td>0.013147</td>\n",
       "      <td>0.114661</td>\n",
       "    </tr>\n",
       "  </tbody>\n",
       "</table>\n",
       "</div>"
      ],
      "text/plain": [
       "        mse1     rmse1\n",
       "0   0.444207  0.666488\n",
       "1   0.216523  0.465321\n",
       "2   0.103388  0.321541\n",
       "3   0.059880  0.244705\n",
       "4   0.033472  0.182953\n",
       "5   0.115431  0.339751\n",
       "6   0.081410  0.285325\n",
       "7   0.033151  0.182074\n",
       "8   0.017587  0.132617\n",
       "9   0.015629  0.125016\n",
       "10  0.088330  0.297204\n",
       "11  0.066943  0.258733\n",
       "12  0.027136  0.164729\n",
       "13  0.020396  0.142813\n",
       "14  0.012993  0.113988\n",
       "15  0.026536  0.162899\n",
       "16  0.025205  0.158759\n",
       "17  0.014646  0.121019\n",
       "18  0.014952  0.122280\n",
       "19  0.013747  0.117248\n",
       "20  0.013147  0.114661"
      ]
     },
     "execution_count": 12,
     "metadata": {},
     "output_type": "execute_result"
    }
   ],
   "source": [
    "df"
   ]
  },
  {
   "cell_type": "code",
   "execution_count": null,
   "id": "21909906-0014-41d9-97fb-f0fa11bb33a8",
   "metadata": {},
   "outputs": [],
   "source": []
  },
  {
   "cell_type": "code",
   "execution_count": null,
   "id": "fd1e376c-1e89-4207-ac6c-9819b52b61e4",
   "metadata": {},
   "outputs": [],
   "source": []
  },
  {
   "cell_type": "code",
   "execution_count": null,
   "id": "082511ef-ebac-4b5f-92c5-c6fdd07aaac1",
   "metadata": {},
   "outputs": [],
   "source": []
  },
  {
   "cell_type": "markdown",
   "id": "4bf477d5-1270-43e0-b5ce-95b157a2f868",
   "metadata": {},
   "source": [
    "# MSE (3,512)"
   ]
  },
  {
   "cell_type": "code",
   "execution_count": null,
   "id": "84c4e00e-a19c-4c3c-91c4-1fa076cba245",
   "metadata": {},
   "outputs": [],
   "source": [
    "fn = '/home/jaynieles/dev/grace_dl/logs/hidden_exp/multiruns/2024-07-26_02-21-12/5/tensorboard/version_0/delta_output_analysis.csv'"
   ]
  },
  {
   "cell_type": "code",
   "execution_count": null,
   "id": "27e4d9ab-3fcb-453e-ab00-85f082adfaa9",
   "metadata": {},
   "outputs": [],
   "source": [
    "df = pd.read_csv(fn)"
   ]
  },
  {
   "cell_type": "code",
   "execution_count": null,
   "id": "bba86e48-a5ec-42b0-820a-3b88f4228dc3",
   "metadata": {},
   "outputs": [],
   "source": [
    "plt.figure()\n",
    "plt.hist(df['delta_deg_eye_pan'],range=[-4,4], bins=49)\n",
    "plt.title('Eye Left Pan Test Error')\n",
    "plt.grid()\n",
    "plt.xlabel('Target - Predicted (deg)')\n",
    "plt.ylabel('Frequency')\n",
    "print('std:',df['delta_deg_eye_pan'].std())\n",
    "print('mae:', np.sum(abs(df['delta_deg_eye_pan'].values))/len(df))\n",
    "print('rmse:', np.sqrt(np.sum(df['delta_deg_eye_pan'].values**2)/len(df)))"
   ]
  },
  {
   "cell_type": "code",
   "execution_count": null,
   "id": "82a4ba63-4390-4268-acbc-41707cf5d917",
   "metadata": {},
   "outputs": [],
   "source": [
    "plt.figure()\n",
    "plt.hist(df['delta_deg_eye_tilt'],range=[-4,4], bins=49)\n",
    "plt.title('Eye Tilt Test Error')\n",
    "plt.xlabel('Target - Predicted (deg)')\n",
    "plt.ylabel('Frequency')\n",
    "plt.grid()\n",
    "print('std:',df['delta_deg_eye_tilt'].std())\n",
    "print('mae:', np.sum(abs(df['delta_deg_eye_tilt'].values))/len(df))\n",
    "print('rmse:', np.sqrt(np.sum(df['delta_deg_eye_tilt'].values**2)/len(df)))"
   ]
  },
  {
   "cell_type": "markdown",
   "id": "e61e9649-54b7-4045-a0ef-005fb031866a",
   "metadata": {},
   "source": [
    "# MSE (3,256)"
   ]
  },
  {
   "cell_type": "code",
   "execution_count": null,
   "id": "5d70df17-10c3-482f-b580-0d4e4a333a56",
   "metadata": {},
   "outputs": [],
   "source": [
    "fn = '/home/jaynieles/dev/grace_dl/logs/hidden_exp/multiruns/2024-07-25_23-49-51/14/tensorboard/version_0/delta_output_analysis.csv'"
   ]
  },
  {
   "cell_type": "code",
   "execution_count": null,
   "id": "a1c12dd4-3c3c-4b1a-9ef4-edeb85a72933",
   "metadata": {},
   "outputs": [],
   "source": [
    "df = pd.read_csv(fn)"
   ]
  },
  {
   "cell_type": "code",
   "execution_count": null,
   "id": "2faf2cc9-dedd-4670-9e87-02b7d6de1100",
   "metadata": {},
   "outputs": [],
   "source": [
    "plt.figure()\n",
    "plt.hist(df['delta_deg_eye_pan'],range=[-4,4], bins=49)\n",
    "plt.title('Eye Left Pan Test Error')\n",
    "plt.grid()\n",
    "plt.xlabel('Target - Predicted (deg)')\n",
    "plt.ylabel('Frequency')\n",
    "print('std:',df['delta_deg_eye_pan'].std())\n",
    "print('mae:', np.sum(abs(df['delta_deg_eye_pan'].values))/len(df))\n",
    "print('rmse:', np.sqrt(np.sum(df['delta_deg_eye_pan'].values**2)/len(df)))"
   ]
  },
  {
   "cell_type": "code",
   "execution_count": null,
   "id": "0a048d7e-45a0-4edb-8fe9-195294049cfa",
   "metadata": {},
   "outputs": [],
   "source": [
    "plt.figure()\n",
    "plt.hist(df['delta_deg_eye_tilt'],range=[-4,4], bins=49)\n",
    "plt.title('Eye Tilt Test Error')\n",
    "plt.xlabel('Target - Predicted (deg)')\n",
    "plt.ylabel('Frequency')\n",
    "plt.grid()\n",
    "print('std:',df['delta_deg_eye_tilt'].std())\n",
    "print('mae:', np.sum(abs(df['delta_deg_eye_tilt'].values))/len(df))\n",
    "print('rmse:', np.sqrt(np.sum(df['delta_deg_eye_tilt'].values**2)/len(df)))"
   ]
  },
  {
   "cell_type": "code",
   "execution_count": null,
   "id": "84b486b3-30c0-4dbf-b9be-adc546e4ccad",
   "metadata": {},
   "outputs": [],
   "source": []
  }
 ],
 "metadata": {
  "kernelspec": {
   "display_name": "Python 3 (ipykernel)",
   "language": "python",
   "name": "python3"
  },
  "language_info": {
   "codemirror_mode": {
    "name": "ipython",
    "version": 3
   },
   "file_extension": ".py",
   "mimetype": "text/x-python",
   "name": "python",
   "nbconvert_exporter": "python",
   "pygments_lexer": "ipython3",
   "version": "3.8.10"
  }
 },
 "nbformat": 4,
 "nbformat_minor": 5
}
