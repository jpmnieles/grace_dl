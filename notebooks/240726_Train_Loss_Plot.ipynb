{
 "cells": [
  {
   "cell_type": "code",
   "execution_count": 1,
   "id": "9df54caa-7e90-4acd-921b-4f0b755c2e06",
   "metadata": {},
   "outputs": [],
   "source": [
    "import os\n",
    "import sys\n",
    "sys.path.append(os.path.join(os.getcwd(),\"..\"))\n",
    "\n",
    "import copy\n",
    "import torch\n",
    "import glob\n",
    "import numpy as np\n",
    "import pandas as pd\n",
    "import matplotlib.pyplot as plt\n",
    "import seaborn as sns"
   ]
  },
  {
   "cell_type": "code",
   "execution_count": null,
   "id": "b6209dbb-9b10-4bd5-bbea-a417ae1babf4",
   "metadata": {},
   "outputs": [],
   "source": [
    "# Read CSV\n",
    "files_path = os.path.join(os.getcwd(),\"..\",'data', data_dir, f\"*.csv\")\n",
    "csv_files = glob.glob(files_path)\n",
    "\n",
    "dfs = []\n",
    "for csv_file in csv_files:\n",
    "    temp_df = pd.read_csv(csv_file)\n",
    "    dfs.append(temp_df)\n",
    "df = pd.concat(dfs, ignore_index=True)\n"
   ]
  },
  {
   "cell_type": "code",
   "execution_count": null,
   "id": "28609ee6-eff8-4daf-9040-79a186035f14",
   "metadata": {},
   "outputs": [],
   "source": []
  },
  {
   "cell_type": "code",
   "execution_count": null,
   "id": "7e389759-5186-40d4-9668-e4fd77ac1baa",
   "metadata": {},
   "outputs": [],
   "source": []
  },
  {
   "cell_type": "code",
   "execution_count": null,
   "id": "82c9bda5-9fdd-4dd3-8c5d-16f73ad849b8",
   "metadata": {},
   "outputs": [],
   "source": []
  },
  {
   "cell_type": "code",
   "execution_count": null,
   "id": "5824061b-3d58-461a-8d77-8a1bd254dc30",
   "metadata": {},
   "outputs": [],
   "source": []
  }
 ],
 "metadata": {
  "kernelspec": {
   "display_name": "Python 3 (ipykernel)",
   "language": "python",
   "name": "python3"
  },
  "language_info": {
   "codemirror_mode": {
    "name": "ipython",
    "version": 3
   },
   "file_extension": ".py",
   "mimetype": "text/x-python",
   "name": "python",
   "nbconvert_exporter": "python",
   "pygments_lexer": "ipython3",
   "version": "3.8.10"
  }
 },
 "nbformat": 4,
 "nbformat_minor": 5
}
