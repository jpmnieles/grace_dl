{
 "cells": [
  {
   "cell_type": "markdown",
   "id": "a33d7847-7f78-4628-92ba-8d995acb23f8",
   "metadata": {},
   "source": [
    "# Import"
   ]
  },
  {
   "cell_type": "code",
   "execution_count": 1,
   "id": "fa368611-06fd-48cf-8def-ec346b120cd0",
   "metadata": {},
   "outputs": [],
   "source": [
    "import os\n",
    "import sys\n",
    "sys.path.append(os.path.join(os.getcwd(),\"..\"))\n",
    "\n",
    "import math\n",
    "import glob\n",
    "import numpy as np\n",
    "import pandas as pd\n",
    "import matplotlib.pyplot as plt\n",
    "\n",
    "import pytorch_kinematics as pk\n",
    "from urdf_parser_py.urdf import URDF"
   ]
  },
  {
   "cell_type": "markdown",
   "id": "ca7df2c7-5633-4de1-9c56-6b2a16535720",
   "metadata": {},
   "source": [
    "# Initialization"
   ]
  },
  {
   "cell_type": "code",
   "execution_count": 2,
   "id": "003afb0b-e23f-409f-828e-36c7661d8c23",
   "metadata": {},
   "outputs": [],
   "source": [
    "urdf_path = os.path.join(os.getcwd(),\"..\",\"urdf\",\"grace.urdf\")\n",
    "robot = URDF.from_xml_file(urdf_path)"
   ]
  },
  {
   "cell_type": "markdown",
   "id": "a6b5cea4-6bc5-4ecd-86b0-fbb0af109283",
   "metadata": {},
   "source": [
    "# URDF"
   ]
  },
  {
   "cell_type": "code",
   "execution_count": 3,
   "id": "4dbe175e-b6ff-4f4a-baef-7f514fcca244",
   "metadata": {},
   "outputs": [
    {
     "name": "stdout",
     "output_type": "stream",
     "text": [
      "torso\n",
      "realsense_mount\n",
      "chest_camera\n",
      "neck_pitch\n",
      "neck_yaw\n",
      "head_pitch\n",
      "eyes_pitch\n",
      "lefteye_yaw\n",
      "righteye_yaw\n"
     ]
    }
   ],
   "source": [
    "# URDF Object Properties\n",
    "\n",
    "for joint in robot.joints:\n",
    "    print(joint.name)"
   ]
  },
  {
   "cell_type": "code",
   "execution_count": 4,
   "id": "a61dd20a-9e0c-4197-805f-1b9768314f7a",
   "metadata": {},
   "outputs": [
    {
     "name": "stdout",
     "output_type": "stream",
     "text": [
      "Joint Object: rpy:\n",
      "- 0.0\n",
      "- 0.0\n",
      "- 0.0\n",
      "xyz:\n",
      "- 0.10749\n",
      "- 0.0\n",
      "- 0.44989\n",
      "Single Attribute: [0.10749, 0.0, 0.44989]\n",
      "Attribute Type: <class 'list'>\n",
      "Output: [0.10749, 0.0, 0.44989]\n"
     ]
    }
   ],
   "source": [
    "# Content Manipulation\n",
    "\n",
    "for joint in robot.joints:\n",
    "    if joint.name == 'realsense_mount':\n",
    "        print('Joint Object:',joint.origin)\n",
    "        # Getting\n",
    "        print(\"Single Attribute:\",joint.origin.position)\n",
    "        # Setting\n",
    "        print(\"Attribute Type:\",type(joint.origin.position))\n",
    "        joint.origin.position = [joint.origin.position[0], joint.origin.position[1], joint.origin.position[2]]\n",
    "        print(\"Output:\",joint.origin.position)"
   ]
  },
  {
   "cell_type": "code",
   "execution_count": 5,
   "id": "77c772d5-e94c-4756-b4b5-24d6d12e93e3",
   "metadata": {},
   "outputs": [
    {
     "name": "stdout",
     "output_type": "stream",
     "text": [
      "<?xml version=\"1.0\" ?> <robot name=\"robot\" > <link name=\"world\"/> <link name=\"torso\"> <visual> <origin xyz=\"0.0 0.0 0.26\" rpy=\"0 0 0\"/> <geometry> <box size=\"0.26 0.3 0.6\"/> </geometry> <material name=\"robot_model\"> <color rgba=\"0.3 0.3 0.3 0.4\"/> </material> </visual> </link> <link name=\"realsense_mount\"> <visual> <origin xyz=\"0.0 0.0 0.00625\" rpy=\"0.0 0.0 0.0\"/> <geometry> <box size=\"0.01485 0.001 0.015\"/> </geometry> <material name=\"robot_camera\"> <color rgba=\"0.0 0.1 0.3 0.6\"/> </material> </visual> </link> <link name=\"realsense\"> <visual> <origin xyz=\"-0.01485 -0.0325 0.0\" rpy=\"0.0 0.0 0.0\"/> <geometry> <box size=\"0.025 0.09 0.025\"/> </geometry> <material name=\"robot_camera\"> <color rgba=\"0.0 0.1 0.3 0.6\"/> </material> </visual> </link> <link name=\"neck_py\"/> <link name=\"neck\"> <visual> <origin xyz=\"0.0 0.0 0.07\" rpy=\"0 0 0\"/> <geometry> <cylinder radius=\"0.045\" length=\"0.14\"/> </geometry> <material name=\"robot_model\"> <color rgba=\"0.3 0.3 0.3 0.4\"/> </material> </visual> </link> <link name=\"head\"> <visual> <origin xyz=\"0.0 0.0 0.06\" rpy=\"0 0 0\"/> <geometry> <box size=\"0.21 0.115 0.2\"/> </geometry> <material name=\"robot_model\"> <color rgba=\"0.3 0.3 0.3 0.4\"/> </material> </visual> </link> <link name=\"eyes\"/> <link name=\"lefteye\"> <visual> <origin xyz=\"0.0 0.0 0.0\" rpy=\"0 0 0\"/> <geometry> <sphere radius=\"0.005\"/> </geometry> <material name=\"robot_camera\"> <color rgba=\"0.0 0.1 0.3 0.6\"/> </material> </visual> </link> <link name=\"righteye\"> <visual> <origin xyz=\"0.0 0.0 0.0\" rpy=\"0 0 0\"/> <geometry> <sphere radius=\"0.005\"/> </geometry> <material name=\"robot_camera\"> <color rgba=\"0.0 0.1 0.3 0.6\"/> </material> </visual> </link> <joint name=\"torso\" type=\"fixed\"> <origin xyz=\"0.0 0.0 0.0\" rpy=\"0 0 0\"/> <parent link=\"world\"/> <child link=\"torso\"/> </joint> <joint name=\"realsense_mount\" type=\"revolute\"> <origin xyz=\"0.10749 0.0 0.44989\" rpy=\"0.0 0.0 0.0\"/> <axis xyz=\"0.0 -1.0 0.0\"/> <parent link=\"torso\"/> <child link=\"realsense_mount\"/> <limit effort=\"1.0\" lower=\"-1.0\" upper=\"1.0\" velocity=\"1.0\"/> </joint> <joint name=\"chest_camera\" type=\"fixed\"> <origin xyz=\"0.01485 0.0325 0.0275\" rpy=\"0.0 0.0 0.0\"/> <parent link=\"realsense_mount\"/> <child link=\"realsense\"/> </joint> <joint name=\"neck_pitch\" type=\"revolute\"> <origin xyz=\"-0.01767 0.0 0.53431\" rpy=\"0 0 0\"/> <axis xyz=\"0.0 -1.0 0.0\"/> <parent link=\"torso\"/> <child link=\"neck_py\"/> <limit effort=\"1.0\" lower=\"-1.0\" upper=\"1.0\" velocity=\"1.0\"/> </joint> <joint name=\"neck_yaw\" type=\"revolute\"> <origin xyz=\"0.0 0.0 0.0\" rpy=\"0 0 0\"/> <axis xyz=\"0.0 0.0 -1.0\"/> <parent link=\"neck_py\"/> <child link=\"neck\"/> <limit effort=\"1.0\" lower=\"-1.0\" upper=\"1.0\" velocity=\"1.0\"/> </joint> <joint name=\"head_pitch\" type=\"revolute\"> <origin xyz=\"0.0 0.0 0.13172\" rpy=\"0 0 0\"/> <axis xyz=\"0.0 -1.0 0.0\"/> <parent link=\"neck\"/> <child link=\"head\"/> <limit effort=\"1.0\" lower=\"-1.0\" upper=\"1.0\" velocity=\"1.0\"/> </joint> <joint name=\"eyes_pitch\" type=\"revolute\"> <origin xyz=\"0.08492 0.0 0.05186\" rpy=\"0 0 0\"/> <axis xyz=\"0.0 -1.0 0.0\"/> <parent link=\"head\"/> <child link=\"eyes\"/> <limit effort=\"1.0\" lower=\"-1.0\" upper=\"1.0\" velocity=\"1.0\"/> </joint> <joint name=\"lefteye_yaw\" type=\"revolute\"> <origin xyz=\"0.0 0.02895 0.0\" rpy=\"0 0 0\"/> <axis xyz=\"0.0 0.0 -1.0\"/> <parent link=\"eyes\"/> <child link=\"lefteye\"/> <limit effort=\"1.0\" lower=\"-1.0\" upper=\"1.0\" velocity=\"1.0\"/> </joint> <joint name=\"righteye_yaw\" type=\"revolute\"> <origin xyz=\"0.0 -0.02895 0.0\" rpy=\"0 0 0\"/> <axis xyz=\"0.0 0.0 -1.0\"/> <parent link=\"eyes\"/> <child link=\"righteye\"/> <limit effort=\"1.0\" lower=\"-1.0\" upper=\"1.0\" velocity=\"1.0\"/> </joint> </robot>\n"
     ]
    }
   ],
   "source": [
    "# To XML string with filtering\n",
    "\n",
    "temp_str = robot.to_xml_string()\n",
    "words = temp_str.split()\n",
    "words[5] = '>'\n",
    "urdf_str = ' '.join(words)\n",
    "print(urdf_str)"
   ]
  },
  {
   "cell_type": "markdown",
   "id": "e829fb63-5a98-43c1-b47e-9fbdce16a127",
   "metadata": {},
   "source": [
    "# Pytorch Kinematics"
   ]
  },
  {
   "cell_type": "code",
   "execution_count": 6,
   "id": "15acb902-b8ac-4b3a-a9b2-e68b6808b1b1",
   "metadata": {},
   "outputs": [
    {
     "name": "stdout",
     "output_type": "stream",
     "text": [
      "world\n",
      "└── torso\n",
      "    ├── realsense_mount\n",
      "    │   └── realsense\n",
      "    └── neck_py\n",
      "        └── neck\n",
      "            └── head\n",
      "                └── eyes\n",
      "                    ├── lefteye\n",
      "                    └── righteye\n",
      "\n"
     ]
    },
    {
     "data": {
      "text/plain": [
       "'world\\n└── torso\\n    ├── realsense_mount\\n    │   └── realsense\\n    └── neck_py\\n        └── neck\\n            └── head\\n                └── eyes\\n                    ├── lefteye\\n                    └── righteye\\n'"
      ]
     },
     "execution_count": 6,
     "metadata": {},
     "output_type": "execute_result"
    }
   ],
   "source": [
    "chain = pk.build_chain_from_urdf(urdf_str)\n",
    "chain.print_tree()"
   ]
  },
  {
   "cell_type": "code",
   "execution_count": 7,
   "id": "1f51c49e-b8ef-449b-9033-2fd2fc51c91f",
   "metadata": {},
   "outputs": [
    {
     "name": "stdout",
     "output_type": "stream",
     "text": [
      "['realsense_mount', 'neck_pitch', 'neck_yaw', 'head_pitch', 'eyes_pitch', 'lefteye_yaw', 'righteye_yaw']\n"
     ]
    }
   ],
   "source": [
    "print(chain.get_joint_parameter_names())"
   ]
  },
  {
   "cell_type": "code",
   "execution_count": 8,
   "id": "5a42bf20-1800-499a-bd5c-da5f3b3f7b08",
   "metadata": {},
   "outputs": [],
   "source": [
    "# Specify Joint Angles (radians)\n",
    "joint_cmd = {\n",
    "    'realsense_mount': 0.0,\n",
    "    'neck_pitch': 0.0,\n",
    "    'neck_yaw': 0.0,\n",
    "    'head_pitch': math.radians(10),\n",
    "    'eyes_pitch': 0.0,\n",
    "    'lefteye_yaw': 0.0,\n",
    "    'righteye_yaw': 0.0,\n",
    "}"
   ]
  },
  {
   "cell_type": "code",
   "execution_count": 9,
   "id": "66a8e984-5cae-407a-8e7c-5ddfc505f171",
   "metadata": {},
   "outputs": [
    {
     "data": {
      "text/plain": [
       "{'world': Transform3d(rot=tensor([[1., 0., 0., 0.]]), pos=tensor([[0., 0., 0.]])),\n",
       " 'torso': Transform3d(rot=tensor([[1., 0., 0., 0.]]), pos=tensor([[0., 0., 0.]])),\n",
       " 'realsense_mount': Transform3d(rot=tensor([[1., 0., 0., 0.]]), pos=tensor([[0.1075, 0.0000, 0.4499]])),\n",
       " 'realsense': Transform3d(rot=tensor([[1., 0., 0., 0.]]), pos=tensor([[0.1223, 0.0325, 0.4774]])),\n",
       " 'neck_py': Transform3d(rot=tensor([[1., 0., 0., 0.]]), pos=tensor([[-0.0177,  0.0000,  0.5343]])),\n",
       " 'neck': Transform3d(rot=tensor([[1., 0., 0., 0.]]), pos=tensor([[-0.0177,  0.0000,  0.5343]])),\n",
       " 'head': Transform3d(rot=tensor([[ 0.9962,  0.0000, -0.0872,  0.0000]]), pos=tensor([[-0.0177,  0.0000,  0.6660]])),\n",
       " 'eyes': Transform3d(rot=tensor([[ 0.9962,  0.0000, -0.0872,  0.0000]]), pos=tensor([[0.0570, 0.0000, 0.7318]])),\n",
       " 'lefteye': Transform3d(rot=tensor([[ 0.9962,  0.0000, -0.0872,  0.0000]]), pos=tensor([[0.0570, 0.0290, 0.7318]])),\n",
       " 'righteye': Transform3d(rot=tensor([[ 0.9962,  0.0000, -0.0872,  0.0000]]), pos=tensor([[ 0.0570, -0.0290,  0.7318]]))}"
      ]
     },
     "execution_count": 9,
     "metadata": {},
     "output_type": "execute_result"
    }
   ],
   "source": [
    "# Forward Kinematics\n",
    "ret = chain.forward_kinematics(joint_cmd)\n",
    "ret"
   ]
  },
  {
   "cell_type": "code",
   "execution_count": 10,
   "id": "6bfa580f-44d4-4dbb-9c5c-ca71b09c7eb7",
   "metadata": {},
   "outputs": [
    {
     "data": {
      "text/plain": [
       "{'world': Transform3d(rot=tensor([[1., 0., 0., 0.]]), pos=tensor([[0., 0., 0.]])),\n",
       " 'torso': Transform3d(rot=tensor([[1., 0., 0., 0.]]), pos=tensor([[0., 0., 0.]])),\n",
       " 'realsense_mount': Transform3d(rot=tensor([[1., 0., 0., 0.]]), pos=tensor([[0.1075, 0.0000, 0.4499]])),\n",
       " 'realsense': Transform3d(rot=tensor([[1., 0., 0., 0.]]), pos=tensor([[0.1223, 0.0325, 0.4774]])),\n",
       " 'neck_py': Transform3d(rot=tensor([[1., 0., 0., 0.]]), pos=tensor([[-0.0177,  0.0000,  0.5343]])),\n",
       " 'neck': Transform3d(rot=tensor([[1., 0., 0., 0.]]), pos=tensor([[-0.0177,  0.0000,  0.5343]])),\n",
       " 'head': Transform3d(rot=tensor([[ 0.9962,  0.0000, -0.0872,  0.0000]]), pos=tensor([[-0.0177,  0.0000,  0.6660]])),\n",
       " 'eyes': Transform3d(rot=tensor([[ 0.9962,  0.0000, -0.0872,  0.0000]]), pos=tensor([[0.0570, 0.0000, 0.7318]])),\n",
       " 'lefteye': Transform3d(rot=tensor([[ 0.9962,  0.0000, -0.0872,  0.0000]]), pos=tensor([[0.0570, 0.0290, 0.7318]])),\n",
       " 'righteye': Transform3d(rot=tensor([[ 0.9962,  0.0000, -0.0872,  0.0000]]), pos=tensor([[ 0.0570, -0.0290,  0.7318]]))}"
      ]
     },
     "execution_count": 10,
     "metadata": {},
     "output_type": "execute_result"
    }
   ],
   "source": [
    "# Forward Kinematics\n",
    "ret = chain.forward_kinematics(joint_cmd)\n",
    "ret"
   ]
  },
  {
   "cell_type": "code",
   "execution_count": 11,
   "id": "198b358c-89fd-49ac-bdc4-277c1418e3ef",
   "metadata": {},
   "outputs": [
    {
     "data": {
      "text/plain": [
       "tensor([[[ 0.9848,  0.0000, -0.1736,  0.0570],\n",
       "         [ 0.0000,  1.0000,  0.0000,  0.0290],\n",
       "         [ 0.1736,  0.0000,  0.9848,  0.7318],\n",
       "         [ 0.0000,  0.0000,  0.0000,  1.0000]]])"
      ]
     },
     "execution_count": 11,
     "metadata": {},
     "output_type": "execute_result"
    }
   ],
   "source": [
    "ret['lefteye'].get_matrix()"
   ]
  },
  {
   "cell_type": "code",
   "execution_count": 12,
   "id": "58ac5aad-eb70-402c-9cfe-a0b30a190ca2",
   "metadata": {},
   "outputs": [
    {
     "data": {
      "text/plain": [
       "tensor([[[ 0.9848,  0.0000, -0.1736,  0.0570],\n",
       "         [ 0.0000,  1.0000,  0.0000, -0.0290],\n",
       "         [ 0.1736,  0.0000,  0.9848,  0.7318],\n",
       "         [ 0.0000,  0.0000,  0.0000,  1.0000]]])"
      ]
     },
     "execution_count": 12,
     "metadata": {},
     "output_type": "execute_result"
    }
   ],
   "source": [
    "ret['righteye'].get_matrix()"
   ]
  },
  {
   "cell_type": "markdown",
   "id": "17c6f169-af93-4cca-86c9-4b3d6c9ef90e",
   "metadata": {},
   "source": [
    "# Eye Projection"
   ]
  },
  {
   "cell_type": "code",
   "execution_count": 13,
   "id": "49e41096-7311-4daa-977c-4d3880e63819",
   "metadata": {},
   "outputs": [],
   "source": [
    "import torch\n",
    "import cv2"
   ]
  },
  {
   "cell_type": "markdown",
   "id": "6eddb3b5-b035-4adf-992b-be60f2106d34",
   "metadata": {},
   "source": [
    "## Function Prototype"
   ]
  },
  {
   "cell_type": "code",
   "execution_count": 14,
   "id": "20241d09-b630-484e-a73e-5c027ceb4117",
   "metadata": {},
   "outputs": [],
   "source": [
    "#--- Input\n",
    "pts_3d = torch.tensor([[1.0, 2.0, 5.0],\n",
    "                      [2.0, 3.0, 8.0],\n",
    "                      [3.0, 1.0, 10.0]])\n",
    "cam_mtx = torch.tensor([[1000.0, 0, 320.0],\n",
    "                        [0, 1000.0 , 240.0],\n",
    "                        [0, 0, 1.0]])\n",
    "ext_mtx = torch.tensor([[1.0, 0.0, 0.0, 0.0],\n",
    "                        [0.0, 1.0, 0.0, 0.0],\n",
    "                        [0.0, 0.0, 1.0, 0.0],\n",
    "                        [0.0, 0.0, 0.0, 1.0]])\n",
    "dist_coef = (0.1, -0.2, 0.01, 0.01, 0.0)"
   ]
  },
  {
   "cell_type": "code",
   "execution_count": 15,
   "id": "aef50aa7-6998-4b88-aeb9-0c73bf820da5",
   "metadata": {},
   "outputs": [
    {
     "name": "stdout",
     "output_type": "stream",
     "text": [
      "tensor([[ 1.,  2.,  5.,  1.],\n",
      "        [ 2.,  3.,  8.,  1.],\n",
      "        [ 3.,  1., 10.,  1.]])\n",
      "tensor([[ 1.,  2.,  3.],\n",
      "        [ 2.,  3.,  1.],\n",
      "        [ 5.,  8., 10.],\n",
      "        [ 1.,  1.,  1.]])\n"
     ]
    }
   ],
   "source": [
    "# Transform to Homogeneous Coordinates\n",
    "pts_3d_homo = torch.cat((pts_3d, torch.ones(pts_3d.shape[0], 1)), dim=1)\n",
    "print(pts_3d_homo)\n",
    "print(pts_3d_homo.T)"
   ]
  },
  {
   "cell_type": "code",
   "execution_count": 16,
   "id": "12b13aad-2127-4e62-8cf1-48d57583f6c9",
   "metadata": {},
   "outputs": [
    {
     "data": {
      "text/plain": [
       "tensor([[ 1.,  2.,  3.],\n",
       "        [ 2.,  3.,  1.],\n",
       "        [ 5.,  8., 10.],\n",
       "        [ 1.,  1.,  1.]])"
      ]
     },
     "execution_count": 16,
     "metadata": {},
     "output_type": "execute_result"
    }
   ],
   "source": [
    "# Apply extrinsic transformation (rotation + translation)\n",
    "pts_3d_transformed = ext_mtx @ pts_3d_homo.T\n",
    "pts_3d_transformed"
   ]
  },
  {
   "cell_type": "code",
   "execution_count": 17,
   "id": "ffd04a0a-2985-40d4-80a0-240663e0891a",
   "metadata": {},
   "outputs": [
    {
     "name": "stdout",
     "output_type": "stream",
     "text": [
      "tensor([[0.2000, 0.2500, 0.3000],\n",
      "        [0.4000, 0.3750, 0.1000]])\n",
      "tensor([0.2000, 0.2500, 0.3000])\n",
      "tensor([0.4000, 0.3750, 0.1000])\n"
     ]
    }
   ],
   "source": [
    "# Convert back from homogeneous to 2D coordinates\n",
    "pts_2d_prime = pts_3d_transformed[:2, :] / pts_3d_transformed[2, :]\n",
    "x_prime = pts_2d_prime[0]\n",
    "y_prime = pts_2d_prime[1]\n",
    "print(pts_2d_prime)\n",
    "print(x_prime)\n",
    "print(y_prime)"
   ]
  },
  {
   "cell_type": "code",
   "execution_count": 18,
   "id": "43469493-d72e-43bb-88ff-d15438e89684",
   "metadata": {},
   "outputs": [
    {
     "name": "stdout",
     "output_type": "stream",
     "text": [
      "tensor([0.2068, 0.2582, 0.3058])\n",
      "tensor([0.4116, 0.3862, 0.1026])\n"
     ]
    }
   ],
   "source": [
    "# Distortion Parameters Calculation\n",
    "k1, k2, p1, p2, k3 = dist_coef\n",
    "\n",
    "r2 = x_prime**2 + y_prime**2\n",
    "r4 = r2**2\n",
    "r6 = r2*r4\n",
    "a1 = 2*x_prime*y_prime\n",
    "a2 = r2 + 2*x_prime**2\n",
    "a3 = r2 + 2*y_prime**2\n",
    "\n",
    "# Radial distortion\n",
    "radial_distortion = 1 + k1*r2 + k2*r4 + k3*r6\n",
    "\n",
    "# Tangential distortion\n",
    "tangential_distortion_x = p1*a1 + p2*a2\n",
    "tangential_distortion_y = p1*a3 + p2*a1\n",
    "\n",
    "# Apply distortion\n",
    "x_double_prime = x_prime*radial_distortion + tangential_distortion_x\n",
    "y_double_prime = y_prime* radial_distortion + tangential_distortion_y\n",
    "\n",
    "print(x_double_prime)\n",
    "print(y_double_prime)"
   ]
  },
  {
   "cell_type": "code",
   "execution_count": 19,
   "id": "a4f1bb14-1152-4f71-94d3-320b82580d58",
   "metadata": {},
   "outputs": [
    {
     "name": "stdout",
     "output_type": "stream",
     "text": [
      "tensor([526.8000, 578.1714, 625.8000])\n",
      "tensor([651.6000, 626.2415, 342.6000])\n",
      "tensor([[526.8000, 651.6000],\n",
      "        [578.1714, 626.2415],\n",
      "        [625.8000, 342.6000]])\n"
     ]
    }
   ],
   "source": [
    "# Intrinsic Camera Matrix\n",
    "fx = cam_mtx[0,0]\n",
    "cx = cam_mtx[0,2]\n",
    "fy = cam_mtx[1,1]\n",
    "cy = cam_mtx[1,2]\n",
    "\n",
    "u = x_double_prime*fx + cx\n",
    "v = y_double_prime*fy + cy\n",
    "\n",
    "px_pts = torch.stack((u, v), dim=1)\n",
    "\n",
    "print(u)\n",
    "print(v)\n",
    "print(px_pts)"
   ]
  },
  {
   "cell_type": "markdown",
   "id": "50008d55-7250-467e-abf7-600143f600eb",
   "metadata": {},
   "source": [
    "## Function"
   ]
  },
  {
   "cell_type": "code",
   "execution_count": 20,
   "id": "f4bc417b-6053-45fa-b5c0-ab46b6592097",
   "metadata": {},
   "outputs": [],
   "source": [
    "def projectPoints(pts_3d, cam_mtx, ext_mtx, dist_coef):\n",
    "    # Transform to Homogeneous Coordinates\n",
    "    pts_3d_homo = torch.cat((pts_3d, torch.ones(pts_3d.shape[0], 1)), dim=1)\n",
    "    \n",
    "    # Apply extrinsic transformation (rotation + translation)\n",
    "    pts_3d_transformed = ext_mtx @ pts_3d_homo.T\n",
    "    \n",
    "    # Convert back from homogeneous to 2D coordinates\n",
    "    pts_2d_prime = pts_3d_transformed[:2, :] / pts_3d_transformed[2, :]\n",
    "    x_prime = pts_2d_prime[0]\n",
    "    y_prime = pts_2d_prime[1]\n",
    "    \n",
    "    # Distortion Parameters Calculation\n",
    "    k1, k2, p1, p2, k3 = dist_coef\n",
    "    \n",
    "    r2 = x_prime**2 + y_prime**2\n",
    "    r4 = r2**2\n",
    "    r6 = r2*r4\n",
    "    a1 = 2*x_prime*y_prime\n",
    "    a2 = r2 + 2*x_prime**2\n",
    "    a3 = r2 + 2*y_prime**2\n",
    "    \n",
    "    # Radial distortion\n",
    "    radial_distortion = 1 + k1*r2 + k2*r4 + k3*r6\n",
    "    \n",
    "    # Tangential distortion\n",
    "    tangential_distortion_x = p1*a1 + p2*a2\n",
    "    tangential_distortion_y = p1*a3 + p2*a1\n",
    "    \n",
    "    # Apply distortion\n",
    "    x_double_prime = x_prime*radial_distortion + tangential_distortion_x\n",
    "    y_double_prime = y_prime* radial_distortion + tangential_distortion_y\n",
    "    \n",
    "    # Intrinsic Camera Matrix\n",
    "    fx = cam_mtx[0,0]\n",
    "    cx = cam_mtx[0,2]\n",
    "    fy = cam_mtx[1,1]\n",
    "    cy = cam_mtx[1,2]\n",
    "    \n",
    "    u = x_double_prime*fx + cx\n",
    "    v = y_double_prime*fy + cy\n",
    "    \n",
    "    px_pts = torch.stack((u, v), dim=1)\n",
    "\n",
    "    return px_pts"
   ]
  },
  {
   "cell_type": "code",
   "execution_count": 21,
   "id": "440b1e5f-915e-4f91-bab3-6d6a46944df7",
   "metadata": {},
   "outputs": [
    {
     "data": {
      "text/plain": [
       "tensor([[526.8000, 651.6000],\n",
       "        [578.1714, 626.2415],\n",
       "        [625.8000, 342.6000]])"
      ]
     },
     "execution_count": 21,
     "metadata": {},
     "output_type": "execute_result"
    }
   ],
   "source": [
    "# Testing the Function\n",
    "\n",
    "#--- Input\n",
    "pts_3d = torch.tensor([[1.0, 2.0, 5.0],\n",
    "                      [2.0, 3.0, 8.0],\n",
    "                      [3.0, 1.0, 10.0]])\n",
    "cam_mtx = torch.tensor([[1000.0, 0, 320.0],\n",
    "                        [0, 1000.0 , 240.0],\n",
    "                        [0, 0, 1.0]])\n",
    "ext_mtx = torch.tensor([[1.0, 0.0, 0.0, 0.0],\n",
    "                        [0.0, 1.0, 0.0, 0.0],\n",
    "                        [0.0, 0.0, 1.0, 0.0],\n",
    "                        [0.0, 0.0, 0.0, 1.0]])\n",
    "dist_coef = (0.1, -0.2, 0.01, 0.01, 0.0)\n",
    "\n",
    "#--- Function\n",
    "pytorch_pts = projectPoints(pts_3d, cam_mtx, ext_mtx, dist_coef)\n",
    "pytorch_pts"
   ]
  },
  {
   "cell_type": "markdown",
   "id": "85c38c52-d16d-46f2-8076-847536548482",
   "metadata": {},
   "source": [
    "## OpenCV Comparison"
   ]
  },
  {
   "cell_type": "code",
   "execution_count": 22,
   "id": "b507e782-829b-4261-af60-c13baf3fc423",
   "metadata": {},
   "outputs": [],
   "source": [
    "# Input\n",
    "\n",
    "#--- Input\n",
    "pts_3d = np.array([[1.0, 2.0, 5.0],\n",
    "                      [2.0, 3.0, 8.0],\n",
    "                      [3.0, 1.0, 10.0]])\n",
    "cam_mtx = np.array([[1000.0, 0, 320.0],\n",
    "                        [0, 1000.0 , 240.0],\n",
    "                        [0, 0, 1.0]])\n",
    "rvec = np.array([0.0,0.0,0.0]).reshape(-1,1)\n",
    "tvec = np.array([0.0,0.0,0.0]).reshape(-1,1)\n",
    "dist_coef = np.array([0.1, -0.2, 0.01, 0.01, 0.0])"
   ]
  },
  {
   "cell_type": "code",
   "execution_count": 23,
   "id": "e4751d04-d96d-4a21-b1b6-73bb2f877eec",
   "metadata": {},
   "outputs": [
    {
     "data": {
      "text/plain": [
       "array([[[526.8       , 651.6       ]],\n",
       "\n",
       "       [[578.17138672, 626.24145508]],\n",
       "\n",
       "       [[625.8       , 342.6       ]]])"
      ]
     },
     "execution_count": 23,
     "metadata": {},
     "output_type": "execute_result"
    }
   ],
   "source": [
    "# OpenCV Function\n",
    "\n",
    "opencv_pts,_ = cv2.projectPoints(pts_3d, rvec, tvec, cam_mtx, dist_coef)\n",
    "opencv_pts"
   ]
  },
  {
   "cell_type": "code",
   "execution_count": 24,
   "id": "da02f7ca-48e8-4fd5-8e0b-a7847cc07e96",
   "metadata": {},
   "outputs": [
    {
     "data": {
      "text/plain": [
       "array([[ 1.22070312e-05,  2.44140625e-05],\n",
       "       [ 0.00000000e+00,  0.00000000e+00],\n",
       "       [-4.88281249e-05, -6.10351560e-06]])"
      ]
     },
     "execution_count": 24,
     "metadata": {},
     "output_type": "execute_result"
    }
   ],
   "source": [
    "# Comparison\n",
    "\n",
    "opencv_pts.squeeze() - pytorch_pts.numpy()"
   ]
  },
  {
   "cell_type": "code",
   "execution_count": null,
   "id": "2e50da2a-1c92-400f-acce-9e6ae8e67ded",
   "metadata": {},
   "outputs": [],
   "source": []
  }
 ],
 "metadata": {
  "kernelspec": {
   "display_name": "Python 3 (ipykernel)",
   "language": "python",
   "name": "python3"
  },
  "language_info": {
   "codemirror_mode": {
    "name": "ipython",
    "version": 3
   },
   "file_extension": ".py",
   "mimetype": "text/x-python",
   "name": "python",
   "nbconvert_exporter": "python",
   "pygments_lexer": "ipython3",
   "version": "3.8.10"
  }
 },
 "nbformat": 4,
 "nbformat_minor": 5
}
