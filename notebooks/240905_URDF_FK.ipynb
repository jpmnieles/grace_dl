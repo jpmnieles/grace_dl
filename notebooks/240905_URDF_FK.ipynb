{
 "cells": [
  {
   "cell_type": "markdown",
   "id": "a33d7847-7f78-4628-92ba-8d995acb23f8",
   "metadata": {},
   "source": [
    "# Import"
   ]
  },
  {
   "cell_type": "code",
   "execution_count": 11,
   "id": "fa368611-06fd-48cf-8def-ec346b120cd0",
   "metadata": {},
   "outputs": [],
   "source": [
    "import os\n",
    "import sys\n",
    "sys.path.append(os.path.join(os.getcwd(),\"..\"))\n",
    "\n",
    "import math\n",
    "import glob\n",
    "import numpy as np\n",
    "import pandas as pd\n",
    "import matplotlib.pyplot as plt\n",
    "\n",
    "import pytorch_kinematics as pk\n",
    "from urdf_parser_py.urdf import URDF"
   ]
  },
  {
   "cell_type": "markdown",
   "id": "ca7df2c7-5633-4de1-9c56-6b2a16535720",
   "metadata": {},
   "source": [
    "# Initialization"
   ]
  },
  {
   "cell_type": "code",
   "execution_count": 2,
   "id": "003afb0b-e23f-409f-828e-36c7661d8c23",
   "metadata": {},
   "outputs": [],
   "source": [
    "urdf_path = os.path.join(os.getcwd(),\"..\",\"urdf\",\"grace.urdf\")\n",
    "robot = URDF.from_xml_file(urdf_path)"
   ]
  },
  {
   "cell_type": "markdown",
   "id": "a6b5cea4-6bc5-4ecd-86b0-fbb0af109283",
   "metadata": {},
   "source": [
    "# URDF"
   ]
  },
  {
   "cell_type": "code",
   "execution_count": 3,
   "id": "4dbe175e-b6ff-4f4a-baef-7f514fcca244",
   "metadata": {},
   "outputs": [
    {
     "name": "stdout",
     "output_type": "stream",
     "text": [
      "torso\n",
      "realsense_mount\n",
      "chest_camera\n",
      "neck_pitch\n",
      "neck_yaw\n",
      "head_pitch\n",
      "eyes_pitch\n",
      "lefteye_yaw\n",
      "righteye_yaw\n"
     ]
    }
   ],
   "source": [
    "# URDF Object Properties\n",
    "\n",
    "for joint in robot.joints:\n",
    "    print(joint.name)"
   ]
  },
  {
   "cell_type": "code",
   "execution_count": 4,
   "id": "a61dd20a-9e0c-4197-805f-1b9768314f7a",
   "metadata": {},
   "outputs": [
    {
     "name": "stdout",
     "output_type": "stream",
     "text": [
      "Joint Object: rpy:\n",
      "- 0.0\n",
      "- 0.0\n",
      "- 0.0\n",
      "xyz:\n",
      "- 0.10749\n",
      "- 0.0\n",
      "- 0.44989\n",
      "Single Attribute: [0.10749, 0.0, 0.44989]\n",
      "Attribute Type: <class 'list'>\n",
      "Output: [0.10749, 0.0, 0.44989]\n"
     ]
    }
   ],
   "source": [
    "# Content Manipulation\n",
    "\n",
    "for joint in robot.joints:\n",
    "    if joint.name == 'realsense_mount':\n",
    "        print('Joint Object:',joint.origin)\n",
    "        # Getting\n",
    "        print(\"Single Attribute:\",joint.origin.position)\n",
    "        # Setting\n",
    "        print(\"Attribute Type:\",type(joint.origin.position))\n",
    "        joint.origin.position = [joint.origin.position[0], joint.origin.position[1], joint.origin.position[2]]\n",
    "        print(\"Output:\",joint.origin.position)"
   ]
  },
  {
   "cell_type": "code",
   "execution_count": 6,
   "id": "77c772d5-e94c-4756-b4b5-24d6d12e93e3",
   "metadata": {},
   "outputs": [
    {
     "name": "stdout",
     "output_type": "stream",
     "text": [
      "<?xml version=\"1.0\" ?> <robot name=\"robot\" > <link name=\"world\"/> <link name=\"torso\"> <visual> <origin xyz=\"0.0 0.0 0.26\" rpy=\"0 0 0\"/> <geometry> <box size=\"0.26 0.3 0.6\"/> </geometry> <material name=\"robot_model\"> <color rgba=\"0.3 0.3 0.3 0.4\"/> </material> </visual> </link> <link name=\"realsense_mount\"> <visual> <origin xyz=\"0.0 0.0 0.00625\" rpy=\"0.0 0.0 0.0\"/> <geometry> <box size=\"0.01485 0.001 0.015\"/> </geometry> <material name=\"robot_camera\"> <color rgba=\"0.0 0.1 0.3 0.6\"/> </material> </visual> </link> <link name=\"realsense\"> <visual> <origin xyz=\"-0.01485 -0.0325 0.0\" rpy=\"0.0 0.0 0.0\"/> <geometry> <box size=\"0.025 0.09 0.025\"/> </geometry> <material name=\"robot_camera\"> <color rgba=\"0.0 0.1 0.3 0.6\"/> </material> </visual> </link> <link name=\"neck_py\"/> <link name=\"neck\"> <visual> <origin xyz=\"0.0 0.0 0.07\" rpy=\"0 0 0\"/> <geometry> <cylinder radius=\"0.045\" length=\"0.14\"/> </geometry> <material name=\"robot_model\"> <color rgba=\"0.3 0.3 0.3 0.4\"/> </material> </visual> </link> <link name=\"head\"> <visual> <origin xyz=\"0.0 0.0 0.06\" rpy=\"0 0 0\"/> <geometry> <box size=\"0.21 0.115 0.2\"/> </geometry> <material name=\"robot_model\"> <color rgba=\"0.3 0.3 0.3 0.4\"/> </material> </visual> </link> <link name=\"eyes\"/> <link name=\"lefteye\"> <visual> <origin xyz=\"0.0 0.0 0.0\" rpy=\"0 0 0\"/> <geometry> <sphere radius=\"0.005\"/> </geometry> <material name=\"robot_camera\"> <color rgba=\"0.0 0.1 0.3 0.6\"/> </material> </visual> </link> <link name=\"righteye\"> <visual> <origin xyz=\"0.0 0.0 0.0\" rpy=\"0 0 0\"/> <geometry> <sphere radius=\"0.005\"/> </geometry> <material name=\"robot_camera\"> <color rgba=\"0.0 0.1 0.3 0.6\"/> </material> </visual> </link> <joint name=\"torso\" type=\"fixed\"> <origin xyz=\"0.0 0.0 0.0\" rpy=\"0 0 0\"/> <parent link=\"world\"/> <child link=\"torso\"/> </joint> <joint name=\"realsense_mount\" type=\"revolute\"> <origin xyz=\"0.10749 0.0 0.44989\" rpy=\"0.0 0.0 0.0\"/> <axis xyz=\"0.0 -1.0 0.0\"/> <parent link=\"torso\"/> <child link=\"realsense_mount\"/> <limit effort=\"1.0\" lower=\"-1.0\" upper=\"1.0\" velocity=\"1.0\"/> </joint> <joint name=\"chest_camera\" type=\"fixed\"> <origin xyz=\"0.01485 0.0325 0.0275\" rpy=\"0.0 0.0 0.0\"/> <parent link=\"realsense_mount\"/> <child link=\"realsense\"/> </joint> <joint name=\"neck_pitch\" type=\"revolute\"> <origin xyz=\"-0.01767 0.0 0.53431\" rpy=\"0 0 0\"/> <axis xyz=\"0.0 -1.0 0.0\"/> <parent link=\"torso\"/> <child link=\"neck_py\"/> <limit effort=\"1.0\" lower=\"-1.0\" upper=\"1.0\" velocity=\"1.0\"/> </joint> <joint name=\"neck_yaw\" type=\"revolute\"> <origin xyz=\"0.0 0.0 0.0\" rpy=\"0 0 0\"/> <axis xyz=\"0.0 0.0 -1.0\"/> <parent link=\"neck_py\"/> <child link=\"neck\"/> <limit effort=\"1.0\" lower=\"-1.0\" upper=\"1.0\" velocity=\"1.0\"/> </joint> <joint name=\"head_pitch\" type=\"revolute\"> <origin xyz=\"0.0 0.0 0.13172\" rpy=\"0 0 0\"/> <axis xyz=\"0.0 -1.0 0.0\"/> <parent link=\"neck\"/> <child link=\"head\"/> <limit effort=\"1.0\" lower=\"-1.0\" upper=\"1.0\" velocity=\"1.0\"/> </joint> <joint name=\"eyes_pitch\" type=\"revolute\"> <origin xyz=\"0.08492 0.0 0.05186\" rpy=\"0 0 0\"/> <axis xyz=\"0.0 -1.0 0.0\"/> <parent link=\"head\"/> <child link=\"eyes\"/> <limit effort=\"1.0\" lower=\"-1.0\" upper=\"1.0\" velocity=\"1.0\"/> </joint> <joint name=\"lefteye_yaw\" type=\"revolute\"> <origin xyz=\"0.0 0.02895 0.0\" rpy=\"0 0 0\"/> <axis xyz=\"0.0 0.0 -1.0\"/> <parent link=\"eyes\"/> <child link=\"lefteye\"/> <limit effort=\"1.0\" lower=\"-1.0\" upper=\"1.0\" velocity=\"1.0\"/> </joint> <joint name=\"righteye_yaw\" type=\"revolute\"> <origin xyz=\"0.0 -0.02895 0.0\" rpy=\"0 0 0\"/> <axis xyz=\"0.0 0.0 -1.0\"/> <parent link=\"eyes\"/> <child link=\"righteye\"/> <limit effort=\"1.0\" lower=\"-1.0\" upper=\"1.0\" velocity=\"1.0\"/> </joint> </robot>\n"
     ]
    }
   ],
   "source": [
    "# To XML string with filtering\n",
    "\n",
    "temp_str = robot.to_xml_string()\n",
    "words = temp_str.split()\n",
    "words[5] = '>'\n",
    "urdf_str = ' '.join(words)\n",
    "print(urdf_str)"
   ]
  },
  {
   "cell_type": "markdown",
   "id": "e829fb63-5a98-43c1-b47e-9fbdce16a127",
   "metadata": {},
   "source": [
    "# Pytorch Kinematics"
   ]
  },
  {
   "cell_type": "code",
   "execution_count": 7,
   "id": "15acb902-b8ac-4b3a-a9b2-e68b6808b1b1",
   "metadata": {},
   "outputs": [
    {
     "name": "stdout",
     "output_type": "stream",
     "text": [
      "world\n",
      "└── torso\n",
      "    ├── realsense_mount\n",
      "    │   └── realsense\n",
      "    └── neck_py\n",
      "        └── neck\n",
      "            └── head\n",
      "                └── eyes\n",
      "                    ├── lefteye\n",
      "                    └── righteye\n",
      "\n"
     ]
    },
    {
     "data": {
      "text/plain": [
       "'world\\n└── torso\\n    ├── realsense_mount\\n    │   └── realsense\\n    └── neck_py\\n        └── neck\\n            └── head\\n                └── eyes\\n                    ├── lefteye\\n                    └── righteye\\n'"
      ]
     },
     "execution_count": 7,
     "metadata": {},
     "output_type": "execute_result"
    }
   ],
   "source": [
    "chain = pk.build_chain_from_urdf(urdf_str).to\n",
    "chain.print_tree()"
   ]
  },
  {
   "cell_type": "code",
   "execution_count": 10,
   "id": "1f51c49e-b8ef-449b-9033-2fd2fc51c91f",
   "metadata": {},
   "outputs": [
    {
     "name": "stdout",
     "output_type": "stream",
     "text": [
      "['realsense_mount', 'neck_pitch', 'neck_yaw', 'head_pitch', 'eyes_pitch', 'lefteye_yaw', 'righteye_yaw']\n"
     ]
    }
   ],
   "source": [
    "print(chain.get_joint_parameter_names())"
   ]
  },
  {
   "cell_type": "code",
   "execution_count": 16,
   "id": "5a42bf20-1800-499a-bd5c-da5f3b3f7b08",
   "metadata": {},
   "outputs": [],
   "source": [
    "# Specify Joint Angles (radians)\n",
    "joint_cmd = {\n",
    "    'realsense_mount': 0.0,\n",
    "    'neck_pitch': 0.0,\n",
    "    'neck_yaw': 0.0,\n",
    "    'head_pitch': math.radians(10),\n",
    "    'eyes_pitch': 0.0,\n",
    "    'lefteye_yaw': 0.0,\n",
    "    'righteye_yaw': 0.0,\n",
    "}"
   ]
  },
  {
   "cell_type": "code",
   "execution_count": 15,
   "id": "66a8e984-5cae-407a-8e7c-5ddfc505f171",
   "metadata": {},
   "outputs": [
    {
     "data": {
      "text/plain": [
       "{'world': Transform3d(rot=tensor([[1., 0., 0., 0.]]), pos=tensor([[0., 0., 0.]])),\n",
       " 'torso': Transform3d(rot=tensor([[1., 0., 0., 0.]]), pos=tensor([[0., 0., 0.]])),\n",
       " 'realsense_mount': Transform3d(rot=tensor([[1., 0., 0., 0.]]), pos=tensor([[0.1075, 0.0000, 0.4499]])),\n",
       " 'realsense': Transform3d(rot=tensor([[1., 0., 0., 0.]]), pos=tensor([[0.1223, 0.0325, 0.4774]])),\n",
       " 'neck_py': Transform3d(rot=tensor([[1., 0., 0., 0.]]), pos=tensor([[-0.0177,  0.0000,  0.5343]])),\n",
       " 'neck': Transform3d(rot=tensor([[1., 0., 0., 0.]]), pos=tensor([[-0.0177,  0.0000,  0.5343]])),\n",
       " 'head': Transform3d(rot=tensor([[1., 0., 0., 0.]]), pos=tensor([[-0.0177,  0.0000,  0.6660]])),\n",
       " 'eyes': Transform3d(rot=tensor([[1., 0., 0., 0.]]), pos=tensor([[0.0672, 0.0000, 0.7179]])),\n",
       " 'lefteye': Transform3d(rot=tensor([[1., 0., 0., 0.]]), pos=tensor([[0.0672, 0.0290, 0.7179]])),\n",
       " 'righteye': Transform3d(rot=tensor([[1., 0., 0., 0.]]), pos=tensor([[ 0.0672, -0.0290,  0.7179]]))}"
      ]
     },
     "execution_count": 15,
     "metadata": {},
     "output_type": "execute_result"
    }
   ],
   "source": [
    "# Forward Kinematics\n",
    "ret = chain.forward_kinematics(joint_cmd)\n",
    "ret"
   ]
  },
  {
   "cell_type": "code",
   "execution_count": 17,
   "id": "6bfa580f-44d4-4dbb-9c5c-ca71b09c7eb7",
   "metadata": {},
   "outputs": [
    {
     "data": {
      "text/plain": [
       "{'world': Transform3d(rot=tensor([[1., 0., 0., 0.]]), pos=tensor([[0., 0., 0.]])),\n",
       " 'torso': Transform3d(rot=tensor([[1., 0., 0., 0.]]), pos=tensor([[0., 0., 0.]])),\n",
       " 'realsense_mount': Transform3d(rot=tensor([[1., 0., 0., 0.]]), pos=tensor([[0.1075, 0.0000, 0.4499]])),\n",
       " 'realsense': Transform3d(rot=tensor([[1., 0., 0., 0.]]), pos=tensor([[0.1223, 0.0325, 0.4774]])),\n",
       " 'neck_py': Transform3d(rot=tensor([[1., 0., 0., 0.]]), pos=tensor([[-0.0177,  0.0000,  0.5343]])),\n",
       " 'neck': Transform3d(rot=tensor([[1., 0., 0., 0.]]), pos=tensor([[-0.0177,  0.0000,  0.5343]])),\n",
       " 'head': Transform3d(rot=tensor([[ 0.9962,  0.0000, -0.0872,  0.0000]]), pos=tensor([[-0.0177,  0.0000,  0.6660]])),\n",
       " 'eyes': Transform3d(rot=tensor([[ 0.9962,  0.0000, -0.0872,  0.0000]]), pos=tensor([[0.0570, 0.0000, 0.7318]])),\n",
       " 'lefteye': Transform3d(rot=tensor([[ 0.9962,  0.0000, -0.0872,  0.0000]]), pos=tensor([[0.0570, 0.0290, 0.7318]])),\n",
       " 'righteye': Transform3d(rot=tensor([[ 0.9962,  0.0000, -0.0872,  0.0000]]), pos=tensor([[ 0.0570, -0.0290,  0.7318]]))}"
      ]
     },
     "execution_count": 17,
     "metadata": {},
     "output_type": "execute_result"
    }
   ],
   "source": [
    "# Forward Kinematics\n",
    "ret = chain.forward_kinematics(joint_cmd)\n",
    "ret"
   ]
  },
  {
   "cell_type": "code",
   "execution_count": 18,
   "id": "198b358c-89fd-49ac-bdc4-277c1418e3ef",
   "metadata": {},
   "outputs": [
    {
     "data": {
      "text/plain": [
       "tensor([[[ 0.9848,  0.0000, -0.1736,  0.0570],\n",
       "         [ 0.0000,  1.0000,  0.0000,  0.0290],\n",
       "         [ 0.1736,  0.0000,  0.9848,  0.7318],\n",
       "         [ 0.0000,  0.0000,  0.0000,  1.0000]]])"
      ]
     },
     "execution_count": 18,
     "metadata": {},
     "output_type": "execute_result"
    }
   ],
   "source": [
    "ret['lefteye'].get_matrix()"
   ]
  },
  {
   "cell_type": "code",
   "execution_count": 22,
   "id": "58ac5aad-eb70-402c-9cfe-a0b30a190ca2",
   "metadata": {},
   "outputs": [
    {
     "data": {
      "text/plain": [
       "tensor([[[ 0.9848,  0.0000, -0.1736,  0.0570],\n",
       "         [ 0.0000,  1.0000,  0.0000, -0.0290],\n",
       "         [ 0.1736,  0.0000,  0.9848,  0.7318],\n",
       "         [ 0.0000,  0.0000,  0.0000,  1.0000]]])"
      ]
     },
     "execution_count": 22,
     "metadata": {},
     "output_type": "execute_result"
    }
   ],
   "source": [
    "ret['righteye'].get_matrix()"
   ]
  },
  {
   "cell_type": "code",
   "execution_count": null,
   "id": "b55135d3-3f03-4222-a05e-90774e46c458",
   "metadata": {},
   "outputs": [],
   "source": []
  }
 ],
 "metadata": {
  "kernelspec": {
   "display_name": "Python 3 (ipykernel)",
   "language": "python",
   "name": "python3"
  },
  "language_info": {
   "codemirror_mode": {
    "name": "ipython",
    "version": 3
   },
   "file_extension": ".py",
   "mimetype": "text/x-python",
   "name": "python",
   "nbconvert_exporter": "python",
   "pygments_lexer": "ipython3",
   "version": "3.8.10"
  }
 },
 "nbformat": 4,
 "nbformat_minor": 5
}
