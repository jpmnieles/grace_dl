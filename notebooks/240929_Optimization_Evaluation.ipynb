{
 "cells": [
  {
   "cell_type": "markdown",
   "id": "a261346b-9d0e-4de0-b2d2-c476667d8825",
   "metadata": {},
   "source": [
    "# Import"
   ]
  },
  {
   "cell_type": "code",
   "execution_count": 1,
   "id": "a7e4639d-975b-4b6d-8161-de32096240dd",
   "metadata": {
    "tags": []
   },
   "outputs": [],
   "source": [
    "import os\n",
    "import sys\n",
    "\n",
    "import time\n",
    "import math\n",
    "import json\n",
    "import glob\n",
    "from datetime import datetime\n",
    "\n",
    "import numpy as np\n",
    "import pandas as pd\n",
    "import scipy\n",
    "from scipy.optimize import minimize, least_squares\n",
    "import matplotlib.pyplot as plt\n",
    "\n",
    "import cv2\n",
    "import torch\n",
    "from torch.nn.functional import mse_loss\n",
    "from pytorch_kinematics.transforms.rotation_conversions import matrix_to_axis_angle, axis_angle_to_matrix\n",
    "\n",
    "import pytorch_kinematics as pk\n",
    "from pytransform3d.urdf import UrdfTransformManager\n",
    "from urdf_parser_py.urdf import URDF"
   ]
  },
  {
   "cell_type": "markdown",
   "id": "c7cb7ff8-3b86-4f83-a8ed-ecd8df9e364a",
   "metadata": {},
   "source": [
    "# Helper Functions"
   ]
  },
  {
   "cell_type": "code",
   "execution_count": 2,
   "id": "c8036da1-6219-4e06-8355-5dea2478d8ee",
   "metadata": {
    "tags": []
   },
   "outputs": [],
   "source": [
    "def load_json(filename: str):\n",
    "    # Construct the absolute path by joining the current directory and relative path\n",
    "    absolute_path = os.path.join(os.getcwd(), '..', filename)\n",
    "    # Load the JSON data\n",
    "    with open(absolute_path, 'r') as file:\n",
    "        json_data = json.load(file)    \n",
    "    return json_data\n",
    "\n",
    "def xml_to_str(robot):\n",
    "    # To XML string with filtering\n",
    "    temp_str = robot.to_xml_string()\n",
    "    words = temp_str.split()\n",
    "    words[5] = '>'\n",
    "    urdf_str = ' '.join(words)\n",
    "    return urdf_str\n",
    "\n",
    "def forward_kinematics(V, \n",
    "                       cmd_lnt, cmd_lnp, cmd_unt, cmd_et, cmd_lep, cmd_rep,\n",
    "                       l_rvec, l_tvec, r_rvec, r_tvec):\n",
    "    \n",
    "    # Convert to Tensor\n",
    "    cmd_lnt = torch.Tensor(cmd_lnt).reshape(-1,1).to(dtype=dtype, device=device)\n",
    "    cmd_lnp = torch.Tensor(cmd_lnp).reshape(-1,1).to(dtype=dtype, device=device)\n",
    "    cmd_unt = torch.Tensor(cmd_unt).reshape(-1,1).to(dtype=dtype, device=device)\n",
    "    cmd_et = torch.Tensor(cmd_et).reshape(-1,1).to(dtype=dtype, device=device)\n",
    "    cmd_lep = torch.Tensor(cmd_lep).reshape(-1,1).to(dtype=dtype, device=device)\n",
    "    cmd_rep = torch.Tensor(cmd_rep).reshape(-1,1).to(dtype=dtype, device=device)\n",
    "\n",
    "    l_rvec_t = torch.Tensor(l_rvec).to(dtype=dtype, device=device)\n",
    "    l_tvec_t = torch.Tensor(l_tvec).to(dtype=dtype, device=device)\n",
    "    r_rvec_t = torch.Tensor(r_rvec).to(dtype=dtype, device=device)\n",
    "    r_tvec_t = torch.Tensor(r_tvec).to(dtype=dtype, device=device)\n",
    "\n",
    "    #Joint-to-Motor Polynomial Models\n",
    "    neck_pitch = V[var2idx['neck_pitch_polyfit_b0']] + cmd_lnt @ torch.Tensor([V[var2idx['neck_pitch_polyfit_b1']]]).to(dtype=dtype, device=device)\n",
    "    neck_yaw = V[var2idx['neck_yaw_polyfit_b0']] + cmd_lnp @ torch.Tensor([V[var2idx['neck_yaw_polyfit_b1']]]).to(dtype=dtype, device=device)\n",
    "    head_pitch = V[var2idx['head_pitch_polyfit_b0']] + cmd_unt @ torch.Tensor([V[var2idx['head_pitch_polyfit_b1']]]).to(dtype=dtype, device=device)\n",
    "    eyes_pitch = V[var2idx['eyes_pitch_polyfit_b0']] + cmd_et @ torch.Tensor([V[var2idx['eyes_pitch_polyfit_b1']]]).to(dtype=dtype, device=device)\n",
    "    lefteye_yaw = V[var2idx['lefteye_yaw_polyfit_b0']] + cmd_lep @ torch.Tensor([V[var2idx['lefteye_yaw_polyfit_b1']]]).to(dtype=dtype, device=device)\n",
    "    righteye_yaw = V[var2idx['righteye_yaw_polyfit_b0']] + cmd_rep @ torch.Tensor([V[var2idx['righteye_yaw_polyfit_b1']]]).to(dtype=dtype, device=device)\n",
    "\n",
    "    # URDF Variable Assignment\n",
    "    for joint in robot.joints:\n",
    "        if joint.name == 'torso':\n",
    "            joint.origin.position[0] = V[var2idx['torso_origin_x']]\n",
    "            joint.origin.position[1] = V[var2idx['torso_origin_y']]\n",
    "            joint.origin.position[2] = V[var2idx['torso_origin_z']]\n",
    "        elif joint.name == 'neck_pitch':\n",
    "            joint.origin.rotation[0] = V[var2idx['neck_pitch_rot_r']]\n",
    "        elif joint.name == 'head_pitch':\n",
    "            joint.origin.position[2] = V[var2idx['head_pitch_origin_z']]\n",
    "        elif joint.name == 'eyes_pitch':\n",
    "            joint.origin.position[0] = V[var2idx['eyes_pitch_origin_x']]\n",
    "            joint.origin.position[2] = V[var2idx['eyes_pitch_origin_z']]\n",
    "        elif joint.name == 'lefteye_yaw':\n",
    "            joint.origin.position[1] = V[var2idx['lefteye_yaw_origin_y']]\n",
    "        elif joint.name == 'righteye_yaw':\n",
    "            joint.origin.position[1] = -V[var2idx['lefteye_yaw_origin_y']]\n",
    "        elif joint.name == 'lefteye_cam':\n",
    "            joint.origin.position[0] = V[var2idx['lefteye_cam_origin_x']]\n",
    "            joint.origin.rotation[0] = V[var2idx['lefteye_cam_rot_r']]\n",
    "            joint.origin.rotation[2] = V[var2idx['lefteye_cam_rot_y']]\n",
    "        elif joint.name == 'righteye_cam':\n",
    "            joint.origin.position[0] = V[var2idx['righteye_cam_origin_x']]\n",
    "            joint.origin.rotation[0] = V[var2idx['righteye_cam_rot_r']]\n",
    "            joint.origin.rotation[2] = V[var2idx['righteye_cam_rot_y']]\n",
    "    \n",
    "    # XML to String\n",
    "    urdf_str = xml_to_str(robot)\n",
    "    \n",
    "    # Kinematic Chain\n",
    "    chain = pk.build_chain_from_urdf(urdf_str)\n",
    "    chain.to(dtype=dtype, device=device)\n",
    "    \n",
    "    # Specifying Joint Angles (radians)\n",
    "    joint_cmd = torch.cat((neck_pitch.reshape(-1,1), neck_yaw.reshape(-1,1), head_pitch.reshape(-1,1), eyes_pitch.reshape(-1,1), lefteye_yaw.reshape(-1,1), righteye_yaw.reshape(-1,1)), dim=1)\n",
    "\n",
    "    # Forward Kinematics\n",
    "    ret = chain.forward_kinematics(joint_cmd)\n",
    "\n",
    "    # Realsense to Left Eye Camera (Pytorch) with Points\n",
    "    T_clprime = torch.linalg.inv(ret['leftcamera'].get_matrix()) @ ret['realsense'].get_matrix()\n",
    "    \n",
    "    # Realsense to Right Eye Camera (Pytorch) with Points\n",
    "    T_crprime = torch.linalg.inv(ret['rightcamera'].get_matrix()) @ ret['realsense'].get_matrix()\n",
    "\n",
    "    # Rvec and Tvec\n",
    "    out_l_rvec = matrix_to_axis_angle(T_clprime[:,:3,:3])\n",
    "    out_l_tvec = T_clprime[:,:3,3]\n",
    "    out_r_rvec = matrix_to_axis_angle(T_crprime[:,:3,:3])\n",
    "    out_r_tvec = T_crprime[:,:3,3]\n",
    "\n",
    "    # Return Output\n",
    "    return out_l_rvec, out_l_tvec, out_r_rvec, out_r_rvec, out_r_tvec"
   ]
  },
  {
   "cell_type": "markdown",
   "id": "f734e82f-a8d7-46b8-8b73-4b6d3b0bf389",
   "metadata": {},
   "source": [
    "# Initialization"
   ]
  },
  {
   "cell_type": "code",
   "execution_count": 3,
   "id": "e1c76287-0236-4d9f-b7f9-ba2ee7011a0e",
   "metadata": {
    "tags": []
   },
   "outputs": [],
   "source": [
    "# Explicitly telling to use GPU\n",
    "torch.set_default_device('cuda')\n",
    "torch.set_default_dtype(d=torch.float64)\n",
    "device = \"cuda\" if torch.cuda.is_available() else \"cpu\"\n",
    "dtype = torch.float64"
   ]
  },
  {
   "cell_type": "code",
   "execution_count": 4,
   "id": "8b5e1ae8-583f-4a24-bbda-90ec14b49dbe",
   "metadata": {
    "tags": []
   },
   "outputs": [],
   "source": [
    "# Load Configs\n",
    "cam_mtxs = load_json('camera_mtx.json')\n",
    "gaze_ctrs = load_json('calib_params.json')\n",
    "urdf_path = os.path.join(os.getcwd(),\"..\",\"urdf\",\"chest_grace_cam_true.urdf\")\n",
    "robot = URDF.from_xml_file(urdf_path)"
   ]
  },
  {
   "cell_type": "markdown",
   "id": "74b000a8-c053-4f6e-86a4-34c9ccd3e107",
   "metadata": {},
   "source": [
    "## Load Dataset"
   ]
  },
  {
   "cell_type": "code",
   "execution_count": 5,
   "id": "5f4e5d10-2c2c-4b52-84f9-2f0c8fed58c6",
   "metadata": {
    "tags": []
   },
   "outputs": [
    {
     "name": "stdout",
     "output_type": "stream",
     "text": [
      "(47719, 32)\n"
     ]
    }
   ],
   "source": [
    "# Load Dataset CSV\n",
    "\n",
    "data_fn = \"241001_075m_grace_dataset.csv\"\n",
    "data_dir = \"final\"\n",
    "csv_file = os.path.join(os.getcwd(),\"..\",\"data\", data_dir, data_fn)\n",
    "temp_df = pd.read_csv(csv_file)\n",
    "print(temp_df.shape)"
   ]
  },
  {
   "cell_type": "code",
   "execution_count": 6,
   "id": "5d2a4ea2-14f6-4c2e-82cc-8efb883b40fd",
   "metadata": {
    "tags": []
   },
   "outputs": [],
   "source": [
    "# Convert DF Degrees Column to Radians\n",
    "data_df = temp_df.copy()\n",
    "data_df['cmd_theta_lower_neck_pan'] = np.radians(data_df['cmd_theta_lower_neck_pan'].values)\n",
    "data_df['cmd_theta_lower_neck_tilt'] = np.radians(data_df['cmd_theta_lower_neck_tilt'].values)\n",
    "data_df['cmd_theta_upper_neck_tilt'] = np.radians(data_df['cmd_theta_upper_neck_tilt'].values)\n",
    "data_df['cmd_theta_left_eye_pan'] = np.radians(data_df['cmd_theta_left_eye_pan'].values)\n",
    "data_df['cmd_theta_right_eye_pan'] = np.radians(data_df['cmd_theta_right_eye_pan'].values)\n",
    "data_df['cmd_theta_eyes_tilt'] = np.radians(data_df['cmd_theta_eyes_tilt'].values)"
   ]
  },
  {
   "cell_type": "markdown",
   "id": "8a88d081-bfba-4d25-9e8c-6c2e9ae10f45",
   "metadata": {},
   "source": [
    "## Load Optimization Results"
   ]
  },
  {
   "cell_type": "code",
   "execution_count": 7,
   "id": "17dbf3b5-3128-4998-a9d1-c19ddb7328cc",
   "metadata": {
    "tags": []
   },
   "outputs": [
    {
     "data": {
      "text/plain": [
       "{'neck_pitch_polyfit_b0': 0.1654970032273193,\n",
       " 'neck_yaw_polyfit_b0': 0.0251282567399667,\n",
       " 'head_pitch_polyfit_b0': 0.0729773083106799,\n",
       " 'eyes_pitch_polyfit_b0': 0.0910635749747773,\n",
       " 'lefteye_yaw_polyfit_b0': 0.0655062328060863,\n",
       " 'righteye_yaw_polyfit_b0': -0.0608785871061202,\n",
       " 'neck_pitch_polyfit_b1': 0.4441761255804563,\n",
       " 'neck_yaw_polyfit_b1': 0.880978386890597,\n",
       " 'head_pitch_polyfit_b1': 0.5415628798328342,\n",
       " 'eyes_pitch_polyfit_b1': 0.3840949085661228,\n",
       " 'lefteye_yaw_polyfit_b1': 1.460690439774023,\n",
       " 'righteye_yaw_polyfit_b1': 1.5901112387296288,\n",
       " 'neck_pitch_rot_r': -0.0365213226856893,\n",
       " 'torso_origin_x': 0.037482253022513,\n",
       " 'torso_origin_y': -0.0668215870682695,\n",
       " 'torso_origin_z': -0.1235229808058602,\n",
       " 'head_pitch_origin_z': 0.1160622945788974,\n",
       " 'eyes_pitch_origin_x': 0.0906799899626206,\n",
       " 'eyes_pitch_origin_z': 0.0405242524790131,\n",
       " 'lefteye_yaw_origin_y': 0.0357351180984021,\n",
       " 'lefteye_cam_origin_x': 0.0260851377656674,\n",
       " 'righteye_cam_origin_x': 0.0266920163748794,\n",
       " 'lefteye_cam_rot_r': -1.5307008145135297,\n",
       " 'lefteye_cam_rot_y': -1.3832409148279985,\n",
       " 'righteye_cam_rot_r': -1.5039761865984045,\n",
       " 'righteye_cam_rot_y': -1.8251237210159277}"
      ]
     },
     "execution_count": 7,
     "metadata": {},
     "output_type": "execute_result"
    }
   ],
   "source": [
    "# Load CSV Optimization Results\n",
    "\n",
    "csv_fn = \"20241001_051813_541397_075m_grace_results.csv\"\n",
    "csv_path = os.path.join(os.getcwd(),\"..\",\"results\",csv_fn)\n",
    "df = pd.read_csv(csv_path, index_col=0)\n",
    "var_dict = dict(zip(df.index,df['learned'].values))\n",
    "var_dict"
   ]
  },
  {
   "cell_type": "code",
   "execution_count": 8,
   "id": "703188ad-17d2-4204-afb8-35e5140bff3b",
   "metadata": {
    "tags": []
   },
   "outputs": [],
   "source": [
    "# Decision Variables \n",
    "var_list = list(var_dict.values())\n",
    "\n",
    "# Variable Names\n",
    "var_names_list = list(var_dict.keys())\n",
    "\n",
    "# Mapping\n",
    "idx2var = dict(zip(list(range(len(var_names_list))),var_names_list))\n",
    "var2idx = dict(zip(var_names_list, list(range(len(var_names_list)))))"
   ]
  },
  {
   "cell_type": "markdown",
   "id": "d731370b-b3fa-4e5e-a6fe-efb000760245",
   "metadata": {},
   "source": [
    "# Evaluation"
   ]
  },
  {
   "cell_type": "code",
   "execution_count": 9,
   "id": "9c9d9a08-b2d9-4c3d-a663-02aa192aba24",
   "metadata": {},
   "outputs": [],
   "source": [
    "# Input\n",
    "\n",
    "V = np.array(var_list)\n",
    "x_c_l = data_df['x_c_l'].to_numpy()\n",
    "y_c_l = data_df['y_c_l'].to_numpy()\n",
    "z_c_l = data_df['z_c_l'].to_numpy()\n",
    "x_c_r = data_df['x_c_r'].to_numpy()\n",
    "y_c_r = data_df['y_c_r'].to_numpy()\n",
    "z_c_r = data_df['z_c_r'].to_numpy()\n",
    "cmd_lnt = data_df['cmd_theta_lower_neck_tilt'].to_numpy()\n",
    "cmd_lnp = data_df['cmd_theta_lower_neck_pan'].to_numpy()\n",
    "cmd_unt = data_df['cmd_theta_upper_neck_tilt'].to_numpy()\n",
    "cmd_et = data_df['cmd_theta_eyes_tilt'].to_numpy()\n",
    "cmd_lep = data_df['cmd_theta_left_eye_pan'].to_numpy()\n",
    "cmd_rep = data_df['cmd_theta_right_eye_pan'].to_numpy()\n",
    "\n",
    "l_rvec = np.concatenate([data_df['l_rvec_0'].values.reshape(-1,1),\n",
    "                         data_df['l_rvec_1'].values.reshape(-1,1),\n",
    "                         data_df['l_rvec_2'].values.reshape(-1,1)], axis=1)\n",
    "l_tvec = np.concatenate([data_df['l_tvec_0'].values.reshape(-1,1),\n",
    "                         data_df['l_tvec_1'].values.reshape(-1,1),\n",
    "                         data_df['l_tvec_2'].values.reshape(-1,1)], axis=1)\n",
    "r_rvec = np.concatenate([data_df['r_rvec_0'].values.reshape(-1,1),\n",
    "                         data_df['r_rvec_1'].values.reshape(-1,1),\n",
    "                         data_df['r_rvec_2'].values.reshape(-1,1)], axis=1)\n",
    "r_tvec = np.concatenate([data_df['r_tvec_0'].values.reshape(-1,1),\n",
    "                         data_df['r_tvec_1'].values.reshape(-1,1),\n",
    "                         data_df['r_tvec_2'].values.reshape(-1,1)], axis=1)"
   ]
  },
  {
   "cell_type": "code",
   "execution_count": 10,
   "id": "721b0047-c4e3-4a1c-b695-de7a3c101690",
   "metadata": {
    "tags": []
   },
   "outputs": [],
   "source": [
    "# Fprward Kinematics\n",
    "\n",
    "out_l_rvec, out_l_tvec, out_r_rvec, out_r_rvec, out_r_tvec = forward_kinematics(V, \n",
    "                                                                                cmd_lnt, cmd_lnp, cmd_unt, cmd_et, cmd_lep, cmd_rep,\n",
    "                                                                                l_rvec, l_tvec, r_rvec, r_tvec)"
   ]
  },
  {
   "cell_type": "code",
   "execution_count": 11,
   "id": "229a97f2-0b4c-4c66-bb19-58eb8f7ba5a7",
   "metadata": {
    "tags": []
   },
   "outputs": [],
   "source": [
    "# True Value\n",
    "\n",
    "l_rvec_t = torch.Tensor(l_rvec).to(dtype=dtype, device=device)\n",
    "l_tvec_t = torch.Tensor(l_tvec).to(dtype=dtype, device=device)\n",
    "r_rvec_t = torch.Tensor(r_rvec).to(dtype=dtype, device=device)\n",
    "r_tvec_t = torch.Tensor(r_tvec).to(dtype=dtype, device=device)"
   ]
  },
  {
   "cell_type": "markdown",
   "id": "4297c09a-cb6e-4674-8ef1-c62811891aaf",
   "metadata": {},
   "source": [
    "## Results"
   ]
  },
  {
   "cell_type": "code",
   "execution_count": 12,
   "id": "bcb759a1-e22a-45a6-ad02-8228031e4537",
   "metadata": {
    "tags": []
   },
   "outputs": [
    {
     "data": {
      "text/html": [
       "<div>\n",
       "<style scoped>\n",
       "    .dataframe tbody tr th:only-of-type {\n",
       "        vertical-align: middle;\n",
       "    }\n",
       "\n",
       "    .dataframe tbody tr th {\n",
       "        vertical-align: top;\n",
       "    }\n",
       "\n",
       "    .dataframe thead th {\n",
       "        text-align: right;\n",
       "    }\n",
       "</style>\n",
       "<table border=\"1\" class=\"dataframe\">\n",
       "  <thead>\n",
       "    <tr style=\"text-align: right;\">\n",
       "      <th></th>\n",
       "      <th>Left Eye MSE</th>\n",
       "      <th>Right Eye MSE</th>\n",
       "      <th>Left Eye RMSE</th>\n",
       "      <th>Right Eye RMSE</th>\n",
       "    </tr>\n",
       "  </thead>\n",
       "  <tbody>\n",
       "    <tr>\n",
       "      <th>r(rad)</th>\n",
       "      <td>0.000086</td>\n",
       "      <td>0.000084</td>\n",
       "      <td>0.009289</td>\n",
       "      <td>0.009166</td>\n",
       "    </tr>\n",
       "    <tr>\n",
       "      <th>p(rad)</th>\n",
       "      <td>0.000153</td>\n",
       "      <td>0.000155</td>\n",
       "      <td>0.012375</td>\n",
       "      <td>0.012456</td>\n",
       "    </tr>\n",
       "    <tr>\n",
       "      <th>y(rad)</th>\n",
       "      <td>0.000083</td>\n",
       "      <td>0.000085</td>\n",
       "      <td>0.009137</td>\n",
       "      <td>0.009239</td>\n",
       "    </tr>\n",
       "    <tr>\n",
       "      <th>x(mm)</th>\n",
       "      <td>0.010400</td>\n",
       "      <td>0.021585</td>\n",
       "      <td>0.101981</td>\n",
       "      <td>0.146918</td>\n",
       "    </tr>\n",
       "    <tr>\n",
       "      <th>y(mm)</th>\n",
       "      <td>0.010954</td>\n",
       "      <td>0.013897</td>\n",
       "      <td>0.104662</td>\n",
       "      <td>0.117884</td>\n",
       "    </tr>\n",
       "    <tr>\n",
       "      <th>z(mm)</th>\n",
       "      <td>0.004573</td>\n",
       "      <td>0.006944</td>\n",
       "      <td>0.067624</td>\n",
       "      <td>0.083333</td>\n",
       "    </tr>\n",
       "  </tbody>\n",
       "</table>\n",
       "</div>"
      ],
      "text/plain": [
       "        Left Eye MSE  Right Eye MSE  Left Eye RMSE  Right Eye RMSE\n",
       "r(rad)      0.000086       0.000084       0.009289        0.009166\n",
       "p(rad)      0.000153       0.000155       0.012375        0.012456\n",
       "y(rad)      0.000083       0.000085       0.009137        0.009239\n",
       "x(mm)       0.010400       0.021585       0.101981        0.146918\n",
       "y(mm)       0.010954       0.013897       0.104662        0.117884\n",
       "z(mm)       0.004573       0.006944       0.067624        0.083333"
      ]
     },
     "execution_count": 12,
     "metadata": {},
     "output_type": "execute_result"
    }
   ],
   "source": [
    "# Results\n",
    "\n",
    "results_idx = ['r(rad)','p(rad)', 'y(rad)', 'x(mm)','y(mm)', 'z(mm)',]\n",
    "results_df = pd.DataFrame({'Left Eye MSE': [\n",
    "                            mse_loss(out_l_rvec[:,0], l_rvec_t[:,0]).cpu().item(),\n",
    "                            mse_loss(out_l_rvec[:,1], l_rvec_t[:,1]).cpu().item(),\n",
    "                            mse_loss(out_l_rvec[:,2], l_rvec_t[:,2]).cpu().item(),\n",
    "                            1000*mse_loss(out_l_tvec[:,0], l_tvec_t[:,0]).cpu().item(),\n",
    "                            1000*mse_loss(out_l_tvec[:,1], l_tvec_t[:,1]).cpu().item(),\n",
    "                            1000*mse_loss(out_l_tvec[:,2], l_tvec_t[:,2]).cpu().item(),\n",
    "                            ],\n",
    "                          'Right Eye MSE': [\n",
    "                            mse_loss(out_r_rvec[:,0], r_rvec_t[:,0]).cpu().item(),\n",
    "                            mse_loss(out_r_rvec[:,1], r_rvec_t[:,1]).cpu().item(),\n",
    "                            mse_loss(out_r_rvec[:,2], r_rvec_t[:,2]).cpu().item(),\n",
    "                            1000*mse_loss(out_r_tvec[:,0], r_tvec_t[:,0]).cpu().item(),\n",
    "                            1000*mse_loss(out_r_tvec[:,1], r_tvec_t[:,1]).cpu().item(),\n",
    "                            1000*mse_loss(out_r_tvec[:,2], r_tvec_t[:,2]).cpu().item(),\n",
    "                          ],\n",
    "                           'Left Eye RMSE': [\n",
    "                            math.sqrt(mse_loss(out_l_rvec[:,0], l_rvec_t[:,0]).cpu().item()),\n",
    "                            math.sqrt(mse_loss(out_l_rvec[:,1], l_rvec_t[:,1]).cpu().item()),\n",
    "                            math.sqrt(mse_loss(out_l_rvec[:,2], l_rvec_t[:,2]).cpu().item()),\n",
    "                            math.sqrt(1000*mse_loss(out_l_tvec[:,0], l_tvec_t[:,0]).cpu().item()),\n",
    "                            math.sqrt(1000*mse_loss(out_l_tvec[:,1], l_tvec_t[:,1]).cpu().item()),\n",
    "                            math.sqrt(1000*mse_loss(out_l_tvec[:,2], l_tvec_t[:,2]).cpu().item()),\n",
    "                            ],\n",
    "                          'Right Eye RMSE': [\n",
    "                            math.sqrt(mse_loss(out_r_rvec[:,0], r_rvec_t[:,0]).cpu().item()),\n",
    "                            math.sqrt(mse_loss(out_r_rvec[:,1], r_rvec_t[:,1]).cpu().item()),\n",
    "                            math.sqrt(mse_loss(out_r_rvec[:,2], r_rvec_t[:,2]).cpu().item()),\n",
    "                            math.sqrt(1000*mse_loss(out_r_tvec[:,0], r_tvec_t[:,0]).cpu().item()),\n",
    "                            math.sqrt(1000*mse_loss(out_r_tvec[:,1], r_tvec_t[:,1]).cpu().item()),\n",
    "                            math.sqrt(1000*mse_loss(out_r_tvec[:,2], r_tvec_t[:,2]).cpu().item()),\n",
    "                          ],\n",
    "                           \n",
    "                          })\n",
    "results_df.index = results_idx\n",
    "results_df"
   ]
  },
  {
   "cell_type": "markdown",
   "id": "2292c82a-0304-4478-b515-7aa27e181563",
   "metadata": {},
   "source": [
    "# Absolute Error"
   ]
  },
  {
   "cell_type": "markdown",
   "id": "b80349c0-24dc-4818-b96b-1e9d29bfb3f7",
   "metadata": {},
   "source": [
    "## Absolute Error"
   ]
  },
  {
   "cell_type": "code",
   "execution_count": 13,
   "id": "ffb07272-4b7f-4ab1-bef6-d76a927243d1",
   "metadata": {
    "tags": []
   },
   "outputs": [
    {
     "name": "stdout",
     "output_type": "stream",
     "text": [
      "(47719, 44)\n"
     ]
    },
    {
     "data": {
      "text/html": [
       "<div>\n",
       "<style scoped>\n",
       "    .dataframe tbody tr th:only-of-type {\n",
       "        vertical-align: middle;\n",
       "    }\n",
       "\n",
       "    .dataframe tbody tr th {\n",
       "        vertical-align: top;\n",
       "    }\n",
       "\n",
       "    .dataframe thead th {\n",
       "        text-align: right;\n",
       "    }\n",
       "</style>\n",
       "<table border=\"1\" class=\"dataframe\">\n",
       "  <thead>\n",
       "    <tr style=\"text-align: right;\">\n",
       "      <th></th>\n",
       "      <th>x_c_l</th>\n",
       "      <th>y_c_l</th>\n",
       "      <th>z_c_l</th>\n",
       "      <th>x_c_r</th>\n",
       "      <th>y_c_r</th>\n",
       "      <th>z_c_r</th>\n",
       "      <th>cmd_theta_lower_neck_pan</th>\n",
       "      <th>cmd_theta_lower_neck_tilt</th>\n",
       "      <th>cmd_theta_upper_neck_tilt</th>\n",
       "      <th>cmd_theta_left_eye_pan</th>\n",
       "      <th>...</th>\n",
       "      <th>err_l_rvec_2</th>\n",
       "      <th>err_l_tvec_0</th>\n",
       "      <th>err_l_tvec_1</th>\n",
       "      <th>err_l_tvec_2</th>\n",
       "      <th>err_r_rvec_0</th>\n",
       "      <th>err_r_rvec_1</th>\n",
       "      <th>err_r_rvec_2</th>\n",
       "      <th>err_r_tvec_0</th>\n",
       "      <th>err_r_tvec_1</th>\n",
       "      <th>err_r_tvec_2</th>\n",
       "    </tr>\n",
       "  </thead>\n",
       "  <tbody>\n",
       "    <tr>\n",
       "      <th>0</th>\n",
       "      <td>-0.613507</td>\n",
       "      <td>-0.317492</td>\n",
       "      <td>0.737656</td>\n",
       "      <td>-0.690487</td>\n",
       "      <td>-0.321762</td>\n",
       "      <td>0.737752</td>\n",
       "      <td>-35</td>\n",
       "      <td>-10</td>\n",
       "      <td>-10</td>\n",
       "      <td>-6</td>\n",
       "      <td>...</td>\n",
       "      <td>0.009670</td>\n",
       "      <td>0.002368</td>\n",
       "      <td>-0.005103</td>\n",
       "      <td>-0.000847</td>\n",
       "      <td>-0.017979</td>\n",
       "      <td>-0.012732</td>\n",
       "      <td>-0.000941</td>\n",
       "      <td>-0.007566</td>\n",
       "      <td>-0.003562</td>\n",
       "      <td>-0.003134</td>\n",
       "    </tr>\n",
       "    <tr>\n",
       "      <th>1</th>\n",
       "      <td>-0.551371</td>\n",
       "      <td>-0.313438</td>\n",
       "      <td>0.737570</td>\n",
       "      <td>-0.614298</td>\n",
       "      <td>-0.317635</td>\n",
       "      <td>0.737655</td>\n",
       "      <td>-35</td>\n",
       "      <td>-10</td>\n",
       "      <td>-10</td>\n",
       "      <td>-4</td>\n",
       "      <td>...</td>\n",
       "      <td>0.011582</td>\n",
       "      <td>0.002602</td>\n",
       "      <td>-0.004422</td>\n",
       "      <td>0.000171</td>\n",
       "      <td>-0.017089</td>\n",
       "      <td>-0.011305</td>\n",
       "      <td>0.000948</td>\n",
       "      <td>-0.008208</td>\n",
       "      <td>-0.002665</td>\n",
       "      <td>-0.003544</td>\n",
       "    </tr>\n",
       "    <tr>\n",
       "      <th>2</th>\n",
       "      <td>-0.488732</td>\n",
       "      <td>-0.307404</td>\n",
       "      <td>0.737476</td>\n",
       "      <td>-0.554609</td>\n",
       "      <td>-0.313155</td>\n",
       "      <td>0.737581</td>\n",
       "      <td>-35</td>\n",
       "      <td>-10</td>\n",
       "      <td>-10</td>\n",
       "      <td>-2</td>\n",
       "      <td>...</td>\n",
       "      <td>0.011572</td>\n",
       "      <td>0.002507</td>\n",
       "      <td>-0.004064</td>\n",
       "      <td>0.000043</td>\n",
       "      <td>-0.016989</td>\n",
       "      <td>-0.017481</td>\n",
       "      <td>0.000621</td>\n",
       "      <td>-0.008822</td>\n",
       "      <td>-0.002257</td>\n",
       "      <td>-0.004591</td>\n",
       "    </tr>\n",
       "    <tr>\n",
       "      <th>3</th>\n",
       "      <td>-0.438227</td>\n",
       "      <td>-0.303246</td>\n",
       "      <td>0.737435</td>\n",
       "      <td>-0.493794</td>\n",
       "      <td>-0.308266</td>\n",
       "      <td>0.737530</td>\n",
       "      <td>-35</td>\n",
       "      <td>-10</td>\n",
       "      <td>-10</td>\n",
       "      <td>0</td>\n",
       "      <td>...</td>\n",
       "      <td>0.010753</td>\n",
       "      <td>0.000784</td>\n",
       "      <td>-0.005094</td>\n",
       "      <td>-0.000811</td>\n",
       "      <td>-0.018035</td>\n",
       "      <td>-0.020151</td>\n",
       "      <td>-0.000340</td>\n",
       "      <td>-0.008057</td>\n",
       "      <td>-0.002644</td>\n",
       "      <td>-0.005504</td>\n",
       "    </tr>\n",
       "    <tr>\n",
       "      <th>4</th>\n",
       "      <td>-0.381455</td>\n",
       "      <td>-0.297903</td>\n",
       "      <td>0.737400</td>\n",
       "      <td>-0.425342</td>\n",
       "      <td>-0.303679</td>\n",
       "      <td>0.737497</td>\n",
       "      <td>-35</td>\n",
       "      <td>-10</td>\n",
       "      <td>-10</td>\n",
       "      <td>2</td>\n",
       "      <td>...</td>\n",
       "      <td>0.010743</td>\n",
       "      <td>-0.000164</td>\n",
       "      <td>-0.004098</td>\n",
       "      <td>-0.001112</td>\n",
       "      <td>-0.018758</td>\n",
       "      <td>-0.009186</td>\n",
       "      <td>0.000236</td>\n",
       "      <td>-0.009330</td>\n",
       "      <td>-0.002721</td>\n",
       "      <td>-0.006353</td>\n",
       "    </tr>\n",
       "  </tbody>\n",
       "</table>\n",
       "<p>5 rows × 44 columns</p>\n",
       "</div>"
      ],
      "text/plain": [
       "      x_c_l     y_c_l     z_c_l     x_c_r     y_c_r     z_c_r   \n",
       "0 -0.613507 -0.317492  0.737656 -0.690487 -0.321762  0.737752  \\\n",
       "1 -0.551371 -0.313438  0.737570 -0.614298 -0.317635  0.737655   \n",
       "2 -0.488732 -0.307404  0.737476 -0.554609 -0.313155  0.737581   \n",
       "3 -0.438227 -0.303246  0.737435 -0.493794 -0.308266  0.737530   \n",
       "4 -0.381455 -0.297903  0.737400 -0.425342 -0.303679  0.737497   \n",
       "\n",
       "   cmd_theta_lower_neck_pan  cmd_theta_lower_neck_tilt   \n",
       "0                       -35                        -10  \\\n",
       "1                       -35                        -10   \n",
       "2                       -35                        -10   \n",
       "3                       -35                        -10   \n",
       "4                       -35                        -10   \n",
       "\n",
       "   cmd_theta_upper_neck_tilt  cmd_theta_left_eye_pan  ...  err_l_rvec_2   \n",
       "0                        -10                      -6  ...      0.009670  \\\n",
       "1                        -10                      -4  ...      0.011582   \n",
       "2                        -10                      -2  ...      0.011572   \n",
       "3                        -10                       0  ...      0.010753   \n",
       "4                        -10                       2  ...      0.010743   \n",
       "\n",
       "   err_l_tvec_0  err_l_tvec_1  err_l_tvec_2  err_r_rvec_0  err_r_rvec_1   \n",
       "0      0.002368     -0.005103     -0.000847     -0.017979     -0.012732  \\\n",
       "1      0.002602     -0.004422      0.000171     -0.017089     -0.011305   \n",
       "2      0.002507     -0.004064      0.000043     -0.016989     -0.017481   \n",
       "3      0.000784     -0.005094     -0.000811     -0.018035     -0.020151   \n",
       "4     -0.000164     -0.004098     -0.001112     -0.018758     -0.009186   \n",
       "\n",
       "   err_r_rvec_2  err_r_tvec_0  err_r_tvec_1  err_r_tvec_2  \n",
       "0     -0.000941     -0.007566     -0.003562     -0.003134  \n",
       "1      0.000948     -0.008208     -0.002665     -0.003544  \n",
       "2      0.000621     -0.008822     -0.002257     -0.004591  \n",
       "3     -0.000340     -0.008057     -0.002644     -0.005504  \n",
       "4      0.000236     -0.009330     -0.002721     -0.006353  \n",
       "\n",
       "[5 rows x 44 columns]"
      ]
     },
     "execution_count": 13,
     "metadata": {},
     "output_type": "execute_result"
    }
   ],
   "source": [
    "temp_df['err_l_rvec_0'] = (out_l_rvec[:,0]-l_rvec_t[:,0]).cpu().numpy()\n",
    "temp_df['err_l_rvec_1'] = (out_l_rvec[:,1]-l_rvec_t[:,1]).cpu().numpy()\n",
    "temp_df['err_l_rvec_2'] = (out_l_rvec[:,2]-l_rvec_t[:,2]).cpu().numpy()\n",
    "temp_df['err_l_tvec_0'] = (out_l_tvec[:,0]-l_tvec_t[:,0]).cpu().numpy()\n",
    "temp_df['err_l_tvec_1'] = (out_l_tvec[:,1]-l_tvec_t[:,1]).cpu().numpy()\n",
    "temp_df['err_l_tvec_2'] = (out_l_tvec[:,2]-l_tvec_t[:,2]).cpu().numpy()\n",
    "\n",
    "temp_df['err_r_rvec_0'] = (out_r_rvec[:,0]-r_rvec_t[:,0]).cpu().numpy()\n",
    "temp_df['err_r_rvec_1'] = (out_r_rvec[:,1]-r_rvec_t[:,1]).cpu().numpy()\n",
    "temp_df['err_r_rvec_2'] = (out_r_rvec[:,2]-r_rvec_t[:,2]).cpu().numpy()\n",
    "temp_df['err_r_tvec_0'] = (out_r_tvec[:,0]-r_tvec_t[:,0]).cpu().numpy()\n",
    "temp_df['err_r_tvec_1'] = (out_r_tvec[:,1]-r_tvec_t[:,1]).cpu().numpy()\n",
    "temp_df['err_r_tvec_2'] = (out_r_tvec[:,2]-r_tvec_t[:,2]).cpu().numpy()\n",
    "\n",
    "print(temp_df.shape)\n",
    "temp_df.head()"
   ]
  },
  {
   "cell_type": "code",
   "execution_count": 14,
   "id": "8851e480-b6b1-48f2-9ab8-f0984d45bc17",
   "metadata": {
    "tags": []
   },
   "outputs": [
    {
     "data": {
      "image/png": "[encoded data removed]",
      "text/plain": [
       "<Figure size 1500x1000 with 6 Axes>"
      ]
     },
     "metadata": {},
     "output_type": "display_data"
    }
   ],
   "source": [
    "# Create a 2x3 subplot\n",
    "fig, axs = plt.subplots(2, 3, figsize=(15, 10))\n",
    "\n",
    "# Plotting\n",
    "axs[0,0].plot(np.sort(temp_df['err_l_rvec_0']), marker='.')\n",
    "axs[0,0].set_title('err_l_rvec_0')\n",
    "axs[0,1].plot(np.sort(temp_df['err_l_rvec_1']), marker='.')\n",
    "axs[0,1].set_title('err_l_rvec_1')\n",
    "axs[0,2].plot(np.sort(temp_df['err_l_rvec_2']), marker='.')\n",
    "axs[0,2].set_title('err_l_rvec_2')\n",
    "\n",
    "axs[1,0].plot(np.sort(temp_df['err_l_tvec_0']), marker='.')\n",
    "axs[1,0].set_title('err_l_tvec_0')\n",
    "axs[1,1].plot(np.sort(temp_df['err_l_tvec_1']), marker='.')\n",
    "axs[1,1].set_title('err_l_tvec_1')\n",
    "axs[1,2].plot(np.sort(temp_df['err_l_tvec_2']), marker='.')\n",
    "axs[1,2].set_title('err_l_tvec_2')\n",
    "\n",
    "for i in range(2):\n",
    "    for j in range(3):\n",
    "        axs[i, j].set_ylim(-1.5, 1.5)\n",
    "\n",
    "# Adjust layout\n",
    "fig.suptitle('Left Camera', fontsize=16)\n",
    "plt.tight_layout()\n",
    "plt.show()"
   ]
  },
  {
   "cell_type": "code",
   "execution_count": 15,
   "id": "0cdaef4a-d475-4bb2-8daf-0075c381e115",
   "metadata": {
    "tags": []
   },
   "outputs": [
    {
     "data": {
      "image/png": "[encoded data removed]",
      "text/plain": [
       "<Figure size 1500x1000 with 6 Axes>"
      ]
     },
     "metadata": {},
     "output_type": "display_data"
    }
   ],
   "source": [
    "# Create a 2x3 subplot\n",
    "fig, axs = plt.subplots(2, 3, figsize=(15, 10))\n",
    "\n",
    "# Plotting\n",
    "axs[0,0].plot(np.sort(temp_df['err_r_rvec_0']), marker='.')\n",
    "axs[0,0].set_title('err_r_rvec_0')\n",
    "axs[0,1].plot(np.sort(temp_df['err_r_rvec_1']), marker='.')\n",
    "axs[0,1].set_title('err_r_rvec_1')\n",
    "axs[0,2].plot(np.sort(temp_df['err_r_rvec_2']), marker='.')\n",
    "axs[0,2].set_title('err_r_rvec_2')\n",
    "\n",
    "axs[1,0].plot(np.sort(temp_df['err_r_tvec_0']), marker='.')\n",
    "axs[1,0].set_title('err_r_tvec_0')\n",
    "axs[1,1].plot(np.sort(temp_df['err_r_tvec_1']), marker='.')\n",
    "axs[1,1].set_title('err_r_tvec_1')\n",
    "axs[1,2].plot(np.sort(temp_df['err_r_tvec_2']), marker='.')\n",
    "axs[1,2].set_title('err_r_tvec_2')\n",
    "\n",
    "for i in range(2):\n",
    "    for j in range(3):\n",
    "        axs[i, j].set_ylim(-1.5, 1.5)\n",
    "\n",
    "# Adjust layout\n",
    "fig.suptitle('Right Camera', fontsize=16)\n",
    "plt.tight_layout()\n",
    "plt.show()"
   ]
  },
  {
   "cell_type": "code",
   "execution_count": null,
   "id": "80ea35d3-c860-4709-aacd-ba786c39a812",
   "metadata": {},
   "outputs": [],
   "source": []
  }
 ],
 "metadata": {
  "kernelspec": {
   "display_name": "Python 3 (ipykernel)",
   "language": "python",
   "name": "python3"
  },
  "language_info": {
   "codemirror_mode": {
    "name": "ipython",
    "version": 3
   },
   "file_extension": ".py",
   "mimetype": "text/x-python",
   "name": "python",
   "nbconvert_exporter": "python",
   "pygments_lexer": "ipython3",
   "version": "3.8.10"
  },
  "toc-autonumbering": true,
  "toc-showcode": false,
  "toc-showmarkdowntxt": false,
  "toc-showtags": false
 },
 "nbformat": 4,
 "nbformat_minor": 5
}
