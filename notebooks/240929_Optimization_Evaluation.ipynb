{
 "cells": [
  {
   "cell_type": "markdown",
   "id": "a261346b-9d0e-4de0-b2d2-c476667d8825",
   "metadata": {},
   "source": [
    "# Import"
   ]
  },
  {
   "cell_type": "code",
   "execution_count": 1,
   "id": "a7e4639d-975b-4b6d-8161-de32096240dd",
   "metadata": {
    "tags": []
   },
   "outputs": [],
   "source": [
    "import os\n",
    "import sys\n",
    "\n",
    "import time\n",
    "import math\n",
    "import json\n",
    "import glob\n",
    "from datetime import datetime\n",
    "\n",
    "import numpy as np\n",
    "import pandas as pd\n",
    "import scipy\n",
    "from scipy.optimize import minimize, least_squares\n",
    "import matplotlib.pyplot as plt\n",
    "\n",
    "import cv2\n",
    "import torch\n",
    "from torch.nn.functional import mse_loss\n",
    "from pytorch_kinematics.transforms.rotation_conversions import matrix_to_axis_angle, axis_angle_to_matrix\n",
    "\n",
    "import pytorch_kinematics as pk\n",
    "from pytransform3d.urdf import UrdfTransformManager\n",
    "from urdf_parser_py.urdf import URDF"
   ]
  },
  {
   "cell_type": "markdown",
   "id": "c7cb7ff8-3b86-4f83-a8ed-ecd8df9e364a",
   "metadata": {},
   "source": [
    "# Helper Functions"
   ]
  },
  {
   "cell_type": "code",
   "execution_count": 2,
   "id": "c8036da1-6219-4e06-8355-5dea2478d8ee",
   "metadata": {
    "tags": []
   },
   "outputs": [],
   "source": [
    "def load_json(filename: str):\n",
    "    # Construct the absolute path by joining the current directory and relative path\n",
    "    absolute_path = os.path.join(os.getcwd(), '..', filename)\n",
    "    # Load the JSON data\n",
    "    with open(absolute_path, 'r') as file:\n",
    "        json_data = json.load(file)    \n",
    "    return json_data\n",
    "\n",
    "def xml_to_str(robot):\n",
    "    # To XML string with filtering\n",
    "    temp_str = robot.to_xml_string()\n",
    "    words = temp_str.split()\n",
    "    words[5] = '>'\n",
    "    urdf_str = ' '.join(words)\n",
    "    return urdf_str\n",
    "\n",
    "def motor_cmd_joint(cmd_lnp,cmd_lnt,cmd_unt,cmd_et,cmd_lep,cmd_rep):  # degrees\n",
    "    cmd_lnp = math.radians(cmd_lnp)\n",
    "    cmd_lnt = math.radians(cmd_lnt)\n",
    "    cmd_unt = math.radians(cmd_unt)\n",
    "    cmd_et = math.radians(cmd_et)\n",
    "    cmd_lep = math.radians(cmd_lep)\n",
    "    cmd_rep = math.radians(cmd_rep)\n",
    "\n",
    "    neck_pitch = cmd_lnt*0.5 + 0\n",
    "    neck_yaw = cmd_lnp*0.5 + 0\n",
    "    head_pitch = cmd_unt*0.5 + 0\n",
    "    eyes_pitch = cmd_et*0.4 + 0\n",
    "    lefteye_yaw = cmd_lep*1.6 + 0\n",
    "    righteye_yaw = cmd_rep*1.7 + 0\n",
    "\n",
    "    res_dict = {\n",
    "        \"neck_pitch\": neck_pitch,\n",
    "        \"neck_yaw\": neck_yaw,\n",
    "        \"head_pitch\": head_pitch,\n",
    "        \"eyes_pitch\": eyes_pitch,\n",
    "        \"lefteye_yaw\": lefteye_yaw,\n",
    "        \"righteye_yaw\": righteye_yaw,\n",
    "    }\n",
    "\n",
    "    return res_dict\n",
    "\n",
    "def forward_kinematics(V, \n",
    "                       cmd_lnt, cmd_lnp, cmd_unt, cmd_et, cmd_lep, cmd_rep,\n",
    "                       l_rvec, l_tvec, r_rvec, r_tvec):\n",
    "    \n",
    "    # Convert to Tensor\n",
    "    cmd_lnt = torch.Tensor(cmd_lnt).reshape(-1,1).to(dtype=dtype, device=device)\n",
    "    cmd_lnp = torch.Tensor(cmd_lnp).reshape(-1,1).to(dtype=dtype, device=device)\n",
    "    cmd_unt = torch.Tensor(cmd_unt).reshape(-1,1).to(dtype=dtype, device=device)\n",
    "    cmd_et = torch.Tensor(cmd_et).reshape(-1,1).to(dtype=dtype, device=device)\n",
    "    cmd_lep = torch.Tensor(cmd_lep).reshape(-1,1).to(dtype=dtype, device=device)\n",
    "    cmd_rep = torch.Tensor(cmd_rep).reshape(-1,1).to(dtype=dtype, device=device)\n",
    "\n",
    "    l_rvec_t = torch.Tensor(l_rvec).to(dtype=dtype, device=device)\n",
    "    l_tvec_t = torch.Tensor(l_tvec).to(dtype=dtype, device=device)\n",
    "    r_rvec_t = torch.Tensor(r_rvec).to(dtype=dtype, device=device)\n",
    "    r_tvec_t = torch.Tensor(r_tvec).to(dtype=dtype, device=device)\n",
    "\n",
    "    #Joint-to-Motor Polynomial Models\n",
    "    neck_pitch = V[var2idx['neck_pitch_polyfit_b0']] + cmd_lnt @ torch.Tensor([V[var2idx['neck_pitch_polyfit_b1']]]).to(dtype=dtype, device=device)\n",
    "    neck_yaw = V[var2idx['neck_yaw_polyfit_b0']] + cmd_lnp @ torch.Tensor([V[var2idx['neck_yaw_polyfit_b1']]]).to(dtype=dtype, device=device)\n",
    "    head_pitch = V[var2idx['head_pitch_polyfit_b0']] + cmd_unt @ torch.Tensor([V[var2idx['head_pitch_polyfit_b1']]]).to(dtype=dtype, device=device)\n",
    "    eyes_pitch = V[var2idx['eyes_pitch_polyfit_b0']] + cmd_et @ torch.Tensor([V[var2idx['eyes_pitch_polyfit_b1']]]).to(dtype=dtype, device=device)\n",
    "    lefteye_yaw = V[var2idx['lefteye_yaw_polyfit_b0']] + cmd_lep @ torch.Tensor([V[var2idx['lefteye_yaw_polyfit_b1']]]).to(dtype=dtype, device=device)\n",
    "    righteye_yaw = V[var2idx['righteye_yaw_polyfit_b0']] + cmd_rep @ torch.Tensor([V[var2idx['righteye_yaw_polyfit_b1']]]).to(dtype=dtype, device=device)\n",
    "\n",
    "    # URDF Variable Assignment\n",
    "    for joint in robot.joints:\n",
    "        if joint.name == 'torso':\n",
    "            joint.origin.position[0] = V[var2idx['torso_origin_x']]\n",
    "            joint.origin.position[1] = V[var2idx['torso_origin_y']]\n",
    "            joint.origin.position[2] = V[var2idx['torso_origin_z']]\n",
    "        elif joint.name == 'neck_pitch':\n",
    "            joint.origin.rotation[0] = V[var2idx['neck_pitch_rot_r']]\n",
    "        elif joint.name == 'head_pitch':\n",
    "            joint.origin.position[2] = V[var2idx['head_pitch_origin_z']]\n",
    "        elif joint.name == 'eyes_pitch':\n",
    "            joint.origin.position[0] = V[var2idx['eyes_pitch_origin_x']]\n",
    "            joint.origin.position[2] = V[var2idx['eyes_pitch_origin_z']]\n",
    "        elif joint.name == 'lefteye_yaw':\n",
    "            joint.origin.position[1] = V[var2idx['lefteye_yaw_origin_y']]\n",
    "        elif joint.name == 'righteye_yaw':\n",
    "            joint.origin.position[1] = -V[var2idx['lefteye_yaw_origin_y']]\n",
    "        elif joint.name == 'lefteye_cam':\n",
    "            joint.origin.position[0] = V[var2idx['lefteye_cam_origin_x']]\n",
    "            joint.origin.rotation[0] = V[var2idx['lefteye_cam_rot_r']]\n",
    "            joint.origin.rotation[2] = V[var2idx['lefteye_cam_rot_y']]\n",
    "        elif joint.name == 'righteye_cam':\n",
    "            joint.origin.position[0] = V[var2idx['righteye_cam_origin_x']]\n",
    "            joint.origin.rotation[0] = V[var2idx['righteye_cam_rot_r']]\n",
    "            joint.origin.rotation[2] = V[var2idx['righteye_cam_rot_y']]\n",
    "    \n",
    "    # XML to String\n",
    "    urdf_str = xml_to_str(robot)\n",
    "    \n",
    "    # Kinematic Chain\n",
    "    chain = pk.build_chain_from_urdf(urdf_str)\n",
    "    chain.to(dtype=dtype, device=device)\n",
    "    \n",
    "    # Specifying Joint Angles (radians)\n",
    "    joint_cmd = torch.cat((neck_pitch.reshape(-1,1), neck_yaw.reshape(-1,1), head_pitch.reshape(-1,1), eyes_pitch.reshape(-1,1), lefteye_yaw.reshape(-1,1), righteye_yaw.reshape(-1,1)), dim=1)\n",
    "\n",
    "    # Forward Kinematics\n",
    "    ret = chain.forward_kinematics(joint_cmd)\n",
    "\n",
    "    # Realsense to Left Eye Camera (Pytorch) with Points\n",
    "    T_clprime = torch.linalg.inv(ret['leftcamera'].get_matrix()) @ ret['realsense'].get_matrix()\n",
    "    \n",
    "    # Realsense to Right Eye Camera (Pytorch) with Points\n",
    "    T_crprime = torch.linalg.inv(ret['rightcamera'].get_matrix()) @ ret['realsense'].get_matrix()\n",
    "\n",
    "    # Rvec and Tvec\n",
    "    out_l_rvec = matrix_to_axis_angle(T_clprime[:,:3,:3])\n",
    "    out_l_tvec = T_clprime[:,:3,3]\n",
    "    out_r_rvec = matrix_to_axis_angle(T_crprime[:,:3,:3])\n",
    "    out_r_tvec = T_crprime[:,:3,3]\n",
    "\n",
    "    # Return Output\n",
    "    return out_l_rvec, out_l_tvec, out_r_rvec, out_r_rvec, out_r_tvec"
   ]
  },
  {
   "cell_type": "markdown",
   "id": "f734e82f-a8d7-46b8-8b73-4b6d3b0bf389",
   "metadata": {},
   "source": [
    "# Initialization"
   ]
  },
  {
   "cell_type": "code",
   "execution_count": 3,
   "id": "e1c76287-0236-4d9f-b7f9-ba2ee7011a0e",
   "metadata": {
    "tags": []
   },
   "outputs": [],
   "source": [
    "# Explicitly telling to use GPU\n",
    "torch.set_default_device('cuda')\n",
    "torch.set_default_dtype(d=torch.float64)\n",
    "device = \"cuda\" if torch.cuda.is_available() else \"cpu\"\n",
    "dtype = torch.float64"
   ]
  },
  {
   "cell_type": "code",
   "execution_count": 4,
   "id": "8b5e1ae8-583f-4a24-bbda-90ec14b49dbe",
   "metadata": {
    "tags": []
   },
   "outputs": [],
   "source": [
    "# Load Configs\n",
    "cam_mtxs = load_json('camera_mtx.json')\n",
    "gaze_ctrs = load_json('calib_params.json')\n",
    "urdf_path = os.path.join(os.getcwd(),\"..\",\"urdf\",\"chest_grace_cam_true.urdf\")\n",
    "robot = URDF.from_xml_file(urdf_path)"
   ]
  },
  {
   "cell_type": "markdown",
   "id": "74b000a8-c053-4f6e-86a4-34c9ccd3e107",
   "metadata": {},
   "source": [
    "## Load Dataset"
   ]
  },
  {
   "cell_type": "code",
   "execution_count": 5,
   "id": "5f4e5d10-2c2c-4b52-84f9-2f0c8fed58c6",
   "metadata": {
    "tags": []
   },
   "outputs": [
    {
     "name": "stdout",
     "output_type": "stream",
     "text": [
      "(72533, 32)\n"
     ]
    }
   ],
   "source": [
    "# Load Dataset CSV\n",
    "\n",
    "data_fn = \"240927_075m_grace_dataset.csv\"\n",
    "data_dir = \"final\"\n",
    "csv_file = os.path.join(os.getcwd(),\"..\",\"data\", data_dir, data_fn)\n",
    "temp_df = pd.read_csv(csv_file)\n",
    "print(temp_df.shape)"
   ]
  },
  {
   "cell_type": "code",
   "execution_count": 6,
   "id": "5d2a4ea2-14f6-4c2e-82cc-8efb883b40fd",
   "metadata": {
    "tags": []
   },
   "outputs": [],
   "source": [
    "# Convert DF Degrees Column to Radians\n",
    "data_df = temp_df.copy()\n",
    "data_df['cmd_theta_lower_neck_pan'] = np.radians(data_df['cmd_theta_lower_neck_pan'].values)\n",
    "data_df['cmd_theta_lower_neck_tilt'] = np.radians(data_df['cmd_theta_lower_neck_tilt'].values)\n",
    "data_df['cmd_theta_upper_neck_tilt'] = np.radians(data_df['cmd_theta_upper_neck_tilt'].values)\n",
    "data_df['cmd_theta_left_eye_pan'] = np.radians(data_df['cmd_theta_left_eye_pan'].values)\n",
    "data_df['cmd_theta_right_eye_pan'] = np.radians(data_df['cmd_theta_right_eye_pan'].values)\n",
    "data_df['cmd_theta_eyes_tilt'] = np.radians(data_df['cmd_theta_eyes_tilt'].values)"
   ]
  },
  {
   "cell_type": "markdown",
   "id": "8a88d081-bfba-4d25-9e8c-6c2e9ae10f45",
   "metadata": {},
   "source": [
    "## Load Optimization Results"
   ]
  },
  {
   "cell_type": "code",
   "execution_count": 7,
   "id": "17dbf3b5-3128-4998-a9d1-c19ddb7328cc",
   "metadata": {
    "tags": []
   },
   "outputs": [
    {
     "data": {
      "text/plain": [
       "{'neck_pitch_polyfit_b0': 0.1629712441967706,\n",
       " 'neck_yaw_polyfit_b0': 0.0336948935494423,\n",
       " 'head_pitch_polyfit_b0': 0.0709478454732965,\n",
       " 'eyes_pitch_polyfit_b0': 0.0928781154853302,\n",
       " 'lefteye_yaw_polyfit_b0': 0.056631313963081,\n",
       " 'righteye_yaw_polyfit_b0': -0.0708884999387775,\n",
       " 'neck_pitch_polyfit_b1': 0.4334052313523985,\n",
       " 'neck_yaw_polyfit_b1': 0.8824064051209091,\n",
       " 'head_pitch_polyfit_b1': 0.531241035765275,\n",
       " 'eyes_pitch_polyfit_b1': 0.3770030383059998,\n",
       " 'lefteye_yaw_polyfit_b1': 1.461506821357058,\n",
       " 'righteye_yaw_polyfit_b1': 1.5981040374080078,\n",
       " 'neck_pitch_rot_r': -0.0354847187729475,\n",
       " 'torso_origin_x': 0.035984955683584,\n",
       " 'torso_origin_y': -0.0744675391462022,\n",
       " 'torso_origin_z': -0.1190279931579989,\n",
       " 'head_pitch_origin_z': 0.1145613172385128,\n",
       " 'eyes_pitch_origin_x': 0.0901956547376227,\n",
       " 'eyes_pitch_origin_z': 0.0329010993189591,\n",
       " 'lefteye_yaw_origin_y': 0.0344577986111276,\n",
       " 'lefteye_cam_origin_x': 0.0234087734266175,\n",
       " 'righteye_cam_origin_x': 0.0253092681092937,\n",
       " 'lefteye_cam_rot_r': -1.5339467896049488,\n",
       " 'lefteye_cam_rot_y': -1.3819535131311598,\n",
       " 'righteye_cam_rot_r': -1.5087114334473437,\n",
       " 'righteye_cam_rot_y': -1.822562092036465}"
      ]
     },
     "execution_count": 7,
     "metadata": {},
     "output_type": "execute_result"
    }
   ],
   "source": [
    "# Load CSV Optimization Results\n",
    "\n",
    "csv_fn = \"20240929_020455_771894_075m_grace_results.csv\"\n",
    "csv_path = os.path.join(os.getcwd(),\"..\",\"results\",csv_fn)\n",
    "df = pd.read_csv(csv_path, index_col=0)\n",
    "var_dict = dict(zip(df.index,df['learned'].values))\n",
    "var_dict"
   ]
  },
  {
   "cell_type": "code",
   "execution_count": 8,
   "id": "703188ad-17d2-4204-afb8-35e5140bff3b",
   "metadata": {
    "tags": []
   },
   "outputs": [],
   "source": [
    "# Decision Variables \n",
    "var_list = list(var_dict.values())\n",
    "\n",
    "# Variable Names\n",
    "var_names_list = list(var_dict.keys())\n",
    "\n",
    "# Mapping\n",
    "idx2var = dict(zip(list(range(len(var_names_list))),var_names_list))\n",
    "var2idx = dict(zip(var_names_list, list(range(len(var_names_list)))))"
   ]
  },
  {
   "cell_type": "markdown",
   "id": "d731370b-b3fa-4e5e-a6fe-efb000760245",
   "metadata": {},
   "source": [
    "# Evaluation"
   ]
  },
  {
   "cell_type": "code",
   "execution_count": 9,
   "id": "9c9d9a08-b2d9-4c3d-a663-02aa192aba24",
   "metadata": {},
   "outputs": [],
   "source": [
    "# Input\n",
    "\n",
    "V = np.array(var_list)\n",
    "x_c_l = data_df['x_c_l'].to_numpy()\n",
    "y_c_l = data_df['y_c_l'].to_numpy()\n",
    "z_c_l = data_df['z_c_l'].to_numpy()\n",
    "x_c_r = data_df['x_c_r'].to_numpy()\n",
    "y_c_r = data_df['y_c_r'].to_numpy()\n",
    "z_c_r = data_df['z_c_r'].to_numpy()\n",
    "cmd_lnt = data_df['cmd_theta_lower_neck_tilt'].to_numpy()\n",
    "cmd_lnp = data_df['cmd_theta_lower_neck_pan'].to_numpy()\n",
    "cmd_unt = data_df['cmd_theta_upper_neck_tilt'].to_numpy()\n",
    "cmd_et = data_df['cmd_theta_eyes_tilt'].to_numpy()\n",
    "cmd_lep = data_df['cmd_theta_left_eye_pan'].to_numpy()\n",
    "cmd_rep = data_df['cmd_theta_right_eye_pan'].to_numpy()\n",
    "\n",
    "l_rvec = np.concatenate([data_df['l_rvec_0'].values.reshape(-1,1),\n",
    "                         data_df['l_rvec_1'].values.reshape(-1,1),\n",
    "                         data_df['l_rvec_2'].values.reshape(-1,1)], axis=1)\n",
    "l_tvec = np.concatenate([data_df['l_tvec_0'].values.reshape(-1,1),\n",
    "                         data_df['l_tvec_1'].values.reshape(-1,1),\n",
    "                         data_df['l_tvec_2'].values.reshape(-1,1)], axis=1)\n",
    "r_rvec = np.concatenate([data_df['r_rvec_0'].values.reshape(-1,1),\n",
    "                         data_df['r_rvec_1'].values.reshape(-1,1),\n",
    "                         data_df['r_rvec_2'].values.reshape(-1,1)], axis=1)\n",
    "r_tvec = np.concatenate([data_df['r_tvec_0'].values.reshape(-1,1),\n",
    "                         data_df['r_tvec_1'].values.reshape(-1,1),\n",
    "                         data_df['r_tvec_2'].values.reshape(-1,1)], axis=1)"
   ]
  },
  {
   "cell_type": "code",
   "execution_count": 10,
   "id": "721b0047-c4e3-4a1c-b695-de7a3c101690",
   "metadata": {
    "tags": []
   },
   "outputs": [],
   "source": [
    "# Fprward Kinematics\n",
    "\n",
    "out_l_rvec, out_l_tvec, out_r_rvec, out_r_rvec, out_r_tvec = forward_kinematics(V, \n",
    "                                                                                cmd_lnt, cmd_lnp, cmd_unt, cmd_et, cmd_lep, cmd_rep,\n",
    "                                                                                l_rvec, l_tvec, r_rvec, r_tvec)"
   ]
  },
  {
   "cell_type": "code",
   "execution_count": 11,
   "id": "229a97f2-0b4c-4c66-bb19-58eb8f7ba5a7",
   "metadata": {
    "tags": []
   },
   "outputs": [],
   "source": [
    "# True Value\n",
    "\n",
    "l_rvec_t = torch.Tensor(l_rvec).to(dtype=dtype, device=device)\n",
    "l_tvec_t = torch.Tensor(l_tvec).to(dtype=dtype, device=device)\n",
    "r_rvec_t = torch.Tensor(r_rvec).to(dtype=dtype, device=device)\n",
    "r_tvec_t = torch.Tensor(r_tvec).to(dtype=dtype, device=device)"
   ]
  },
  {
   "cell_type": "markdown",
   "id": "4297c09a-cb6e-4674-8ef1-c62811891aaf",
   "metadata": {},
   "source": [
    "## Results"
   ]
  },
  {
   "cell_type": "code",
   "execution_count": 12,
   "id": "bcb759a1-e22a-45a6-ad02-8228031e4537",
   "metadata": {
    "tags": []
   },
   "outputs": [
    {
     "data": {
      "text/html": [
       "<div>\n",
       "<style scoped>\n",
       "    .dataframe tbody tr th:only-of-type {\n",
       "        vertical-align: middle;\n",
       "    }\n",
       "\n",
       "    .dataframe tbody tr th {\n",
       "        vertical-align: top;\n",
       "    }\n",
       "\n",
       "    .dataframe thead th {\n",
       "        text-align: right;\n",
       "    }\n",
       "</style>\n",
       "<table border=\"1\" class=\"dataframe\">\n",
       "  <thead>\n",
       "    <tr style=\"text-align: right;\">\n",
       "      <th></th>\n",
       "      <th>Left Eye MSE</th>\n",
       "      <th>Right Eye MSE</th>\n",
       "    </tr>\n",
       "  </thead>\n",
       "  <tbody>\n",
       "    <tr>\n",
       "      <th>r(rad)</th>\n",
       "      <td>0.002163</td>\n",
       "      <td>0.004920</td>\n",
       "    </tr>\n",
       "    <tr>\n",
       "      <th>p(rad)</th>\n",
       "      <td>0.005492</td>\n",
       "      <td>0.012369</td>\n",
       "    </tr>\n",
       "    <tr>\n",
       "      <th>y(rad)</th>\n",
       "      <td>0.005311</td>\n",
       "      <td>0.012295</td>\n",
       "    </tr>\n",
       "    <tr>\n",
       "      <th>x(m)</th>\n",
       "      <td>0.001581</td>\n",
       "      <td>0.001655</td>\n",
       "    </tr>\n",
       "    <tr>\n",
       "      <th>y(m)</th>\n",
       "      <td>0.001566</td>\n",
       "      <td>0.002966</td>\n",
       "    </tr>\n",
       "    <tr>\n",
       "      <th>z(m)</th>\n",
       "      <td>0.001483</td>\n",
       "      <td>0.002204</td>\n",
       "    </tr>\n",
       "  </tbody>\n",
       "</table>\n",
       "</div>"
      ],
      "text/plain": [
       "        Left Eye MSE  Right Eye MSE\n",
       "r(rad)      0.002163       0.004920\n",
       "p(rad)      0.005492       0.012369\n",
       "y(rad)      0.005311       0.012295\n",
       "x(m)        0.001581       0.001655\n",
       "y(m)        0.001566       0.002966\n",
       "z(m)        0.001483       0.002204"
      ]
     },
     "execution_count": 12,
     "metadata": {},
     "output_type": "execute_result"
    }
   ],
   "source": [
    "# Results\n",
    "\n",
    "results_idx = ['r(rad)','p(rad)', 'y(rad)', 'x(m)','y(m)', 'z(m)',]\n",
    "results_df = pd.DataFrame({'Left Eye MSE': [\n",
    "                            mse_loss(out_l_rvec[:,0], l_rvec_t[:,0]).cpu().item(),\n",
    "                            mse_loss(out_l_rvec[:,1], l_rvec_t[:,1]).cpu().item(),\n",
    "                            mse_loss(out_l_rvec[:,2], l_rvec_t[:,2]).cpu().item(),\n",
    "                            mse_loss(out_l_tvec[:,0], l_tvec_t[:,0]).cpu().item(),\n",
    "                            mse_loss(out_l_tvec[:,1], l_tvec_t[:,1]).cpu().item(),\n",
    "                            mse_loss(out_l_tvec[:,2], l_tvec_t[:,2]).cpu().item(),\n",
    "                            ],\n",
    "                          'Right Eye MSE': [\n",
    "                            mse_loss(out_r_rvec[:,0], r_rvec_t[:,0]).cpu().item(),\n",
    "                            mse_loss(out_r_rvec[:,1], r_rvec_t[:,1]).cpu().item(),\n",
    "                            mse_loss(out_r_rvec[:,2], r_rvec_t[:,2]).cpu().item(),\n",
    "                            mse_loss(out_r_tvec[:,0], r_tvec_t[:,0]).cpu().item(),\n",
    "                            mse_loss(out_r_tvec[:,1], r_tvec_t[:,1]).cpu().item(),\n",
    "                            mse_loss(out_r_tvec[:,2], r_tvec_t[:,2]).cpu().item(),\n",
    "                          ]})\n",
    "results_df.index = results_idx\n",
    "results_df"
   ]
  },
  {
   "cell_type": "markdown",
   "id": "12a12b07-9732-4760-9758-b225f9c1bed9",
   "metadata": {},
   "source": [
    "## Absolute Error Histogram"
   ]
  },
  {
   "cell_type": "code",
   "execution_count": 14,
   "id": "c8f42643-1dce-4578-9a29-34f7c015e5e2",
   "metadata": {
    "tags": []
   },
   "outputs": [
    {
     "data": {
      "text/plain": [
       "[<matplotlib.lines.Line2D at 0x7f4901eaf850>]"
      ]
     },
     "execution_count": 14,
     "metadata": {},
     "output_type": "execute_result"
    },
    {
     "data": {
      "image/png": "[encoded data removed]",
      "text/plain": [
       "<Figure size 640x480 with 1 Axes>"
      ]
     },
     "metadata": {},
     "output_type": "display_data"
    }
   ],
   "source": [
    "plt.figure()\n",
    "plt.plot(np.sort((out_l_tvec[:,0]-l_tvec_t[:,0]).cpu().numpy()))"
   ]
  },
  {
   "cell_type": "code",
   "execution_count": null,
   "id": "547c7eb7-3343-488a-b731-3a20101bf86a",
   "metadata": {},
   "outputs": [],
   "source": []
  }
 ],
 "metadata": {
  "kernelspec": {
   "display_name": "Python 3 (ipykernel)",
   "language": "python",
   "name": "python3"
  },
  "language_info": {
   "codemirror_mode": {
    "name": "ipython",
    "version": 3
   },
   "file_extension": ".py",
   "mimetype": "text/x-python",
   "name": "python",
   "nbconvert_exporter": "python",
   "pygments_lexer": "ipython3",
   "version": "3.8.10"
  },
  "toc-autonumbering": true,
  "toc-showcode": false,
  "toc-showmarkdowntxt": false,
  "toc-showtags": false
 },
 "nbformat": 4,
 "nbformat_minor": 5
}
